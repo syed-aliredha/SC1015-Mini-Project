{
 "cells": [
  {
   "cell_type": "markdown",
   "id": "67d8f22e",
   "metadata": {
    "id": "67d8f22e"
   },
   "source": [
    "# SC1015 Mini-Project: Spotify Music Recommender System"
   ]
  },
  {
   "cell_type": "markdown",
   "id": "cec94ad2",
   "metadata": {
    "id": "cec94ad2"
   },
   "source": [
    "### By FDDA Group 5\n",
    "Syed Ali Redha Alsagoff, Huang Yongjian, Ma Jinlin\n"
   ]
  },
  {
   "cell_type": "markdown",
   "id": "5481a8b9",
   "metadata": {
    "id": "5481a8b9"
   },
   "source": [
    "## Our problem statement"
   ]
  },
  {
   "cell_type": "markdown",
   "id": "08a2c81c",
   "metadata": {
    "id": "08a2c81c"
   },
   "source": [
    "Our simple question of what determines a user's music preference actually has important implications in real life! With our project, we aim to find out **how companies can maximise the use of machine learning techniques to recommend quality songs efficiently**. To streamline the efficiency aspect, we will also look into **what features make a good recommender system**, as well as **what model to use in a genre classification model**.\n",
    "<br>\n",
    "<br>\n",
    "A good genre prediction model is important due to the **lack of robust datasets with labelled genres**. Even in some research literatures on music recommender systems, the teams made use of genre classification models in their approaches.\n",
    "<br>\n",
    "<br>\n",
    "We believe that this is an important issue to tackle because of **the vast amount of features used in music recommender systems**. Novel approaches to recommender systems make use of Deep learning that engineer even more features for their system[1]. Advanced recommendation systems can make use of many features[2], in the realm of hundreds to even thousands of features to make their recommendations. Hence, to improve the efficiency and resource management, and possibly the quality of recommendations as well, **good feature selection** is paramount to any music streaming service company, such as Spotify.\n",
    "<br>\n",
    "<br>\n",
    "We will be using different feature selection techniques and will be evaluating our model trained using different feature selection techniques.\n",
    "<br>\n",
    "<br>\n",
    "Due to time and hardware and other resource constraints, we will be doing our project using a smaller set of features than what is typically used. Larger models make use of more features such as lyric data (making use of tokenisers), audio data (making use of RNNs and LSTMs) and user-item correlation features, and more. However, the techniques that we use here would be **easily extendable** to datasets that make use of features on the scale of hundreds or even thousands."
   ]
  },
  {
   "cell_type": "markdown",
   "id": "J_tFzw8jswgr",
   "metadata": {
    "id": "J_tFzw8jswgr"
   },
   "source": [
    "## Installing relevant libraries"
   ]
  },
  {
   "cell_type": "code",
   "execution_count": 1,
   "id": "36d97173",
   "metadata": {
    "colab": {
     "base_uri": "https://localhost:8080/"
    },
    "id": "36d97173",
    "outputId": "8bb4bd74-e80c-4e89-f91e-292d2729f080"
   },
   "outputs": [
    {
     "name": "stdout",
     "output_type": "stream",
     "text": [
      "Requirement already satisfied: numpy in /usr/local/lib/python3.10/dist-packages (1.26.4)\n",
      "Requirement already satisfied: scipy in /usr/local/lib/python3.10/dist-packages (1.13.0)\n",
      "Requirement already satisfied: scikit-learn in /usr/local/lib/python3.10/dist-packages (1.4.2)\n",
      "Requirement already satisfied: threadpoolctl in /usr/local/lib/python3.10/dist-packages (3.4.0)\n",
      "Requirement already satisfied: joblib>=1.2.0 in /usr/local/lib/python3.10/dist-packages (from scikit-learn) (1.4.0)\n"
     ]
    }
   ],
   "source": [
    "pip install --upgrade numpy scipy scikit-learn threadpoolctl"
   ]
  },
  {
   "cell_type": "code",
   "execution_count": 2,
   "id": "9d9710fd",
   "metadata": {
    "colab": {
     "base_uri": "https://localhost:8080/"
    },
    "id": "9d9710fd",
    "outputId": "6561d87a-ec2f-4a3e-bb53-432a9e3dea53"
   },
   "outputs": [
    {
     "name": "stdout",
     "output_type": "stream",
     "text": [
      "Collecting spotipy\n",
      "  Using cached spotipy-2.23.0-py3-none-any.whl (29 kB)\n",
      "Collecting redis>=3.5.3 (from spotipy)\n",
      "  Using cached redis-5.0.4-py3-none-any.whl (251 kB)\n",
      "Requirement already satisfied: requests>=2.25.0 in /usr/local/lib/python3.10/dist-packages (from spotipy) (2.31.0)\n",
      "Requirement already satisfied: six>=1.15.0 in /usr/local/lib/python3.10/dist-packages (from spotipy) (1.16.0)\n",
      "Requirement already satisfied: urllib3>=1.26.0 in /usr/local/lib/python3.10/dist-packages (from spotipy) (2.0.7)\n",
      "Requirement already satisfied: async-timeout>=4.0.3 in /usr/local/lib/python3.10/dist-packages (from redis>=3.5.3->spotipy) (4.0.3)\n",
      "Requirement already satisfied: charset-normalizer<4,>=2 in /usr/local/lib/python3.10/dist-packages (from requests>=2.25.0->spotipy) (3.3.2)\n",
      "Requirement already satisfied: idna<4,>=2.5 in /usr/local/lib/python3.10/dist-packages (from requests>=2.25.0->spotipy) (3.7)\n",
      "Requirement already satisfied: certifi>=2017.4.17 in /usr/local/lib/python3.10/dist-packages (from requests>=2.25.0->spotipy) (2024.2.2)\n",
      "Installing collected packages: redis, spotipy\n",
      "Successfully installed redis-5.0.4 spotipy-2.23.0\n"
     ]
    }
   ],
   "source": [
    "pip install spotipy"
   ]
  },
  {
   "cell_type": "code",
   "execution_count": 3,
   "id": "e2ba670f",
   "metadata": {
    "id": "e2ba670f"
   },
   "outputs": [],
   "source": [
    "# Basic Libraries\n",
    "import numpy as np\n",
    "import pandas as pd\n",
    "import seaborn as sb\n",
    "import matplotlib.pyplot as plt # we only need pyplot\n",
    "sb.set() # set the default Seaborn style for graphics\n",
    "\n",
    "# Libraries for extracting dataset\n",
    "import spotipy\n",
    "from spotipy.oauth2 import SpotifyClientCredentials\n",
    "import time\n",
    "\n",
    "# Library and functions for getting pretrained models and mapper\n",
    "import pickle\n",
    "\n",
    "# Libraries for data preprocessing\n",
    "from sklearn.preprocessing import StandardScaler, MultiLabelBinarizer\n",
    "\n",
    "# Libraries for our autoencoder model\n",
    "from tensorflow.keras.models import Model\n",
    "from tensorflow.keras.layers import Input, Dense\n"
   ]
  },
  {
   "cell_type": "markdown",
   "id": "m3DE50cAz80K",
   "metadata": {
    "id": "m3DE50cAz80K"
   },
   "source": [
    "# Our dataset for recommender system"
   ]
  },
  {
   "cell_type": "markdown",
   "id": "-u-Wik2a00hT",
   "metadata": {
    "id": "-u-Wik2a00hT"
   },
   "source": [
    "In this section, we will be detailing how we made our dataset to recommend songs to users. Spotify does not give access to all of its songs through its API, so we made our own dataset, using popular songs from a variety of genres for maximum coverage. To provide some simplicity, we constrained to system to recommend only English songs.\n",
    "\n",
    "To make the Spotify API call, please use **the client ID and secret key provided in the NTULearn Submission**.  This is necessary for subsequent cells ("
   ]
  },
  {
   "cell_type": "markdown",
   "id": "Op0HPQRALgCZ",
   "metadata": {
    "id": "Op0HPQRALgCZ"
   },
   "source": [
    "### Function to extract playlist information\n"
   ]
  },
  {
   "cell_type": "code",
   "execution_count": 36,
   "id": "1yzy5tsU8BT7",
   "metadata": {
    "id": "1yzy5tsU8BT7"
   },
   "outputs": [],
   "source": [
    "def fetch_playlist_tracks(playlist_id, sp):\n",
    "    track_uris = []\n",
    "    artist_uris = []\n",
    "    track_names = []\n",
    "    artist_names = []\n",
    "    track_popularities = []\n",
    "    release_years = []\n",
    "    explicit_statuses = []\n",
    "    results = sp.playlist_tracks(playlist_id)\n",
    "    tracks = results['items']\n",
    "    while results['next']:\n",
    "        results = sp.next(results)\n",
    "        tracks.extend(results['items'])\n",
    "    for item in tracks:\n",
    "        track = item['track']\n",
    "        if track:\n",
    "            track_uris.append(track['uri'])\n",
    "            track_names.append(track['name'])\n",
    "            artist_uris.extend([artist['uri'] for artist in track['artists']])\n",
    "            artist_names.append(track['artists'][0]['name'] if track['artists'] else 'Unknown')\n",
    "            track_popularities.append(track['popularity'])\n",
    "            explicit_statuses.append(track['explicit'])\n",
    "            release_date = track['album']['release_date']\n",
    "            release_year = release_date.split(\"-\")[0] if release_date else 'Unknown'\n",
    "            release_years.append(release_year)\n",
    "    return track_uris, track_names, artist_names, track_popularities, release_years, explicit_statuses, list(set(artist_uris))\n",
    "\n",
    "def get_audio_info_from_playlist(playlist_id, sp):\n",
    "    tracks, track_names, artist_names, popularities, release_years, explicit_statuses, artists = fetch_playlist_tracks(playlist_id, sp)\n",
    "    combined_data = []\n",
    "\n",
    "    for i in range(0, len(tracks), 50):\n",
    "        track_interval = tracks[i:i+50]\n",
    "        track_name_interval = track_names[i:i+50]\n",
    "        artist_name_interval = artist_names[i:i+50]\n",
    "        popularity_interval = popularities[i:i+50]\n",
    "        release_year_interval = release_years[i:i+50]\n",
    "        explicit_status_interval = explicit_statuses[i:i+50]\n",
    "\n",
    "        if not track_interval:\n",
    "            continue\n",
    "\n",
    "        try:\n",
    "            audio_features = sp.audio_features(track_interval)\n",
    "        except spotipy.SpotifyException as e:\n",
    "            if e.http_status == 429:\n",
    "                print(f\"Rate limit exceeded, sleeping for {retry_after} seconds\")\n",
    "                time.sleep(retry_after)\n",
    "                # Exponential Backoff to comply with Spotify rate limits\n",
    "                retry_after = min(retry_after * 2, 64)\n",
    "            elif e.http_status == 400:\n",
    "                print(f\"Error with batch {i} to {i + len(track_interval) - 1}: {e.msg}, skipping...\")\n",
    "                continue\n",
    "            else:\n",
    "                print(f\"Unhandled error: {e}\")\n",
    "                continue\n",
    "\n",
    "        audio_features_batch = [\n",
    "            [track_name_interval[j], artist_name_interval[j], popularity_interval[j], release_year_interval[j], explicit_status_interval[j]] +\n",
    "            [v for k, v in d.items() if k not in ['type', 'id', 'uri', 'track_href', 'analysis_url']]\n",
    "            for j, d in enumerate(audio_features) if d is not None\n",
    "        ]\n",
    "\n",
    "        for features in audio_features_batch:\n",
    "            combined_data.append(features)\n",
    "\n",
    "    columns = ['Track Name', 'artists', 'popularity', 'release_year', 'explicit', 'danceability', 'energy', 'key', 'loudness',\n",
    "               'mode', 'speechiness', 'acousticness', 'instrumentalness', 'liveness', 'valence', 'tempo', 'duration_ms', 'time_signature']\n",
    "    return pd.DataFrame(combined_data, columns=columns)\n",
    "\n",
    "# Please use the developer ID and secret attached in the NTULearn submission\n",
    "client_id = ''\n",
    "client_secret = ''\n",
    "\n",
    "auth_manager = SpotifyClientCredentials(client_id=client_id, client_secret=client_secret)\n",
    "sp = spotipy.Spotify(auth_manager=auth_manager, requests_timeout=10, retries=5, status_forcelist=(429, 500, 502, 503, 504), backoff_factor=0.3)"
   ]
  },
  {
   "cell_type": "markdown",
   "id": "e84dea01",
   "metadata": {
    "id": "e84dea01"
   },
   "source": [
    "### Extracting the dataset"
   ]
  },
  {
   "cell_type": "code",
   "execution_count": 11,
   "id": "Lxvy8HFL-yOk",
   "metadata": {
    "colab": {
     "base_uri": "https://localhost:8080/"
    },
    "id": "Lxvy8HFL-yOk",
    "outputId": "c324442f-18a0-428b-b812-eef0ed40f8d1"
   },
   "outputs": [
    {
     "name": "stdout",
     "output_type": "stream",
     "text": [
      "(11794, 19)\n"
     ]
    }
   ],
   "source": [
    "full_dataset_df1 = pd.read_csv('spotify_playlist_dataset1.csv')\n",
    "full_dataset_df2 = pd.read_csv('spotify_playlist_dataset2.csv')\n",
    "full_dataset_df = pd.concat([full_dataset_df1,full_dataset_df2], ignore_index=True)\n",
    "full_dataset_df.drop_duplicates(subset=['Track Name'], keep='first',inplace=True)\n",
    "print(full_dataset_df.shape)"
   ]
  },
  {
   "cell_type": "code",
   "execution_count": null,
   "id": "daoXX2_o-1VV",
   "metadata": {
    "id": "daoXX2_o-1VV"
   },
   "outputs": [],
   "source": [
    "# Feel free to running the code but sometimes there might be error due too too many request, which happens when Spotify API temporarily ban the account from making API calls\n",
    "# test_df = get_audio_info_from_playlist(\"(insert the playlist uri here)\",sp)"
   ]
  },
  {
   "cell_type": "markdown",
   "id": "ziPN3FxV_FDg",
   "metadata": {
    "id": "ziPN3FxV_FDg"
   },
   "source": [
    "If you'd like, you can uncomment the code above and try adding in different playlist uris to extract their information into the test_df DataFrame. You can get playlist uris by simply going to your playlist on desktop and hovering share. If you press the option (for Mac) or control (for Windows) button, you can see the copy link button change to copy playlist URI."
   ]
  },
  {
   "cell_type": "markdown",
   "id": "h0PZxMZM2Cd2",
   "metadata": {
    "id": "h0PZxMZM2Cd2"
   },
   "source": [
    "## Data Cleaning"
   ]
  },
  {
   "cell_type": "code",
   "execution_count": 12,
   "id": "v8erhpD-L0xy",
   "metadata": {
    "colab": {
     "base_uri": "https://localhost:8080/"
    },
    "id": "v8erhpD-L0xy",
    "outputId": "f81e539c-c0bb-4a95-f740-8d7c19b535e1"
   },
   "outputs": [
    {
     "name": "stdout",
     "output_type": "stream",
     "text": [
      "<class 'pandas.core.frame.DataFrame'>\n",
      "Index: 11794 entries, 0 to 17579\n",
      "Data columns (total 19 columns):\n",
      " #   Column            Non-Null Count  Dtype  \n",
      "---  ------            --------------  -----  \n",
      " 0   Unnamed: 0        11794 non-null  int64  \n",
      " 1   Track Name        11793 non-null  object \n",
      " 2   Artist Name       11793 non-null  object \n",
      " 3   Popularity        11794 non-null  int64  \n",
      " 4   Release Year      11794 non-null  int64  \n",
      " 5   Explicit          11794 non-null  bool   \n",
      " 6   Danceability      11794 non-null  float64\n",
      " 7   Energy            11794 non-null  float64\n",
      " 8   Key               11794 non-null  int64  \n",
      " 9   Loudness          11794 non-null  float64\n",
      " 10  Mode              11794 non-null  int64  \n",
      " 11  Speechiness       11794 non-null  float64\n",
      " 12  Acousticness      11794 non-null  float64\n",
      " 13  Instrumentalness  11794 non-null  float64\n",
      " 14  Liveness          11794 non-null  float64\n",
      " 15  Valence           11794 non-null  float64\n",
      " 16  Tempo             11794 non-null  float64\n",
      " 17  Duration_ms       11794 non-null  int64  \n",
      " 18  Time Signature    11794 non-null  int64  \n",
      "dtypes: bool(1), float64(9), int64(7), object(2)\n",
      "memory usage: 1.7+ MB\n"
     ]
    },
    {
     "data": {
      "text/plain": [
       "Unnamed: 0          0\n",
       "Track Name          1\n",
       "Artist Name         1\n",
       "Popularity          0\n",
       "Release Year        0\n",
       "Explicit            0\n",
       "Danceability        0\n",
       "Energy              0\n",
       "Key                 0\n",
       "Loudness            0\n",
       "Mode                0\n",
       "Speechiness         0\n",
       "Acousticness        0\n",
       "Instrumentalness    0\n",
       "Liveness            0\n",
       "Valence             0\n",
       "Tempo               0\n",
       "Duration_ms         0\n",
       "Time Signature      0\n",
       "dtype: int64"
      ]
     },
     "execution_count": 12,
     "metadata": {},
     "output_type": "execute_result"
    }
   ],
   "source": [
    "# Check the data in the playlist\n",
    "full_dataset_df.info()\n",
    "full_dataset_df.isnull().sum()"
   ]
  },
  {
   "cell_type": "markdown",
   "id": "JxlpWTgDJU-l",
   "metadata": {
    "id": "JxlpWTgDJU-l"
   },
   "source": [
    "As seen above, we still have some NaN values and an irrelevant column, we will now remove them."
   ]
  },
  {
   "cell_type": "code",
   "execution_count": 13,
   "id": "cdf8f774",
   "metadata": {
    "colab": {
     "base_uri": "https://localhost:8080/"
    },
    "id": "cdf8f774",
    "outputId": "e49455ac-f8b8-4cf9-a6b9-0493024a1ad3"
   },
   "outputs": [
    {
     "name": "stdout",
     "output_type": "stream",
     "text": [
      "<class 'pandas.core.frame.DataFrame'>\n",
      "Index: 11793 entries, 0 to 17579\n",
      "Data columns (total 18 columns):\n",
      " #   Column            Non-Null Count  Dtype  \n",
      "---  ------            --------------  -----  \n",
      " 0   Track Name        11793 non-null  object \n",
      " 1   Artist Name       11793 non-null  object \n",
      " 2   Popularity        11793 non-null  int64  \n",
      " 3   Release Year      11793 non-null  int64  \n",
      " 4   Explicit          11793 non-null  bool   \n",
      " 5   Danceability      11793 non-null  float64\n",
      " 6   Energy            11793 non-null  float64\n",
      " 7   Key               11793 non-null  int64  \n",
      " 8   Loudness          11793 non-null  float64\n",
      " 9   Mode              11793 non-null  int64  \n",
      " 10  Speechiness       11793 non-null  float64\n",
      " 11  Acousticness      11793 non-null  float64\n",
      " 12  Instrumentalness  11793 non-null  float64\n",
      " 13  Liveness          11793 non-null  float64\n",
      " 14  Valence           11793 non-null  float64\n",
      " 15  Tempo             11793 non-null  float64\n",
      " 16  Duration_ms       11793 non-null  int64  \n",
      " 17  Time Signature    11793 non-null  int64  \n",
      "dtypes: bool(1), float64(9), int64(6), object(2)\n",
      "memory usage: 1.6+ MB\n"
     ]
    },
    {
     "data": {
      "text/plain": [
       "Track Name          0\n",
       "Artist Name         0\n",
       "Popularity          0\n",
       "Release Year        0\n",
       "Explicit            0\n",
       "Danceability        0\n",
       "Energy              0\n",
       "Key                 0\n",
       "Loudness            0\n",
       "Mode                0\n",
       "Speechiness         0\n",
       "Acousticness        0\n",
       "Instrumentalness    0\n",
       "Liveness            0\n",
       "Valence             0\n",
       "Tempo               0\n",
       "Duration_ms         0\n",
       "Time Signature      0\n",
       "dtype: int64"
      ]
     },
     "execution_count": 13,
     "metadata": {},
     "output_type": "execute_result"
    }
   ],
   "source": [
    "# Remove irrelevant columns and drop any rows with NaN values\n",
    "full_dataset_df.drop(\"Unnamed: 0\", axis=1, inplace=True)\n",
    "full_dataset_df.dropna(inplace=True)\n",
    "full_dataset_df.info()\n",
    "full_dataset_df.isnull().sum()"
   ]
  },
  {
   "cell_type": "code",
   "execution_count": 14,
   "id": "0MEBKI7DKLao",
   "metadata": {
    "colab": {
     "base_uri": "https://localhost:8080/"
    },
    "id": "0MEBKI7DKLao",
    "outputId": "cc3b3e79-526e-4756-dcd4-6a518ab60700"
   },
   "outputs": [
    {
     "data": {
      "text/plain": [
       "Index(['Track Name', 'artists', 'popularity', 'release_year', 'explicit',\n",
       "       'danceability', 'energy', 'key', 'loudness', 'mode', 'speechiness',\n",
       "       'acousticness', 'instrumentalness', 'liveness', 'valence', 'tempo',\n",
       "       'duration_ms', 'time_signature'],\n",
       "      dtype='object')"
      ]
     },
     "execution_count": 14,
     "metadata": {},
     "output_type": "execute_result"
    }
   ],
   "source": [
    "full_dataset_df = full_dataset_df.rename(columns={\"Acousticness\": \"acousticness\", \"Danceability\": \"danceability\",\"Energy\":\"energy\",\"Instrumentalness\":\"instrumentalness\",\"Liveness\":\"liveness\",\"Loudness\":\"loudness\",\"Popularity\":\"popularity\",\"Speechiness\":\"speechiness\",\"Tempo\":\"tempo\",\"Valence\":\"valence\",\"Duration_ms\":\"duration_ms\",\"Time Signature\":\"time_signature\",\"Key\":\"key\",\"Mode\":\"mode\", \"Artist Name\": \"artists\",\"Release Year\":\"release_year\",\"Explicit\":\"explicit\"})\n",
    "full_dataset_df.columns"
   ]
  },
  {
   "cell_type": "markdown",
   "id": "n3caGewf2aOU",
   "metadata": {
    "id": "n3caGewf2aOU"
   },
   "source": [
    "## Data Preparation - Feature Engineering\n",
    "Firstly, we will be doing feature engineering, which will be the genre feature. As explained in the first notebook (Part 1: Genre Classification Model), We believe that this will be an essential feature in recommending tracks. We will be making use of the model and mapper from the Genre Classification Notebook to get this feature."
   ]
  },
  {
   "cell_type": "code",
   "execution_count": 18,
   "id": "tDEKFt_c8jEn",
   "metadata": {
    "id": "tDEKFt_c8jEn"
   },
   "outputs": [],
   "source": [
    "class CustomMultiLabelBinarizer:\n",
    "    def __init__(self):\n",
    "        self.mlb = MultiLabelBinarizer()\n",
    "\n",
    "    # Fit the Scikit-Learn MultiLabelBinarizer to the data\n",
    "    def fit(self, X, y=None):\n",
    "        self.mlb.fit(X)\n",
    "        return self\n",
    "\n",
    "\n",
    "    # Transform the data while ignoring unseen labels\n",
    "    def transform(self, X):\n",
    "        try:\n",
    "            return self.mlb.transform(X)\n",
    "        except ValueError as e:  # Handle the case where there are unseen labels in X (test dataset) compared to fitted labels\n",
    "            unseen = set(x for sublist in X for x in sublist) - set(self.mlb.classes_)\n",
    "            X_filtered = [[x for x in sublist if x not in unseen] for sublist in X]\n",
    "            return self.mlb.transform(X_filtered)\n",
    "\n",
    "\n",
    "\n",
    "    # Fit and transfrom data\n",
    "    def fit_transform(self, X, y=None):\n",
    "        return self.fit(X).transform(X)\n",
    "\n",
    "    # Return feature names for output columns\n",
    "    def get_feature_names(self):\n",
    "        return self.mlb.classes_"
   ]
  },
  {
   "cell_type": "code",
   "execution_count": 19,
   "id": "lCPzv4RxyijA",
   "metadata": {
    "colab": {
     "base_uri": "https://localhost:8080/"
    },
    "id": "lCPzv4RxyijA",
    "outputId": "47cab6cc-8f26-4e59-df4d-61728567285c"
   },
   "outputs": [
    {
     "name": "stderr",
     "output_type": "stream",
     "text": [
      "/usr/local/lib/python3.10/dist-packages/sklearn/base.py:376: InconsistentVersionWarning: Trying to unpickle estimator LogisticRegression from version 1.2.2 when using version 1.4.2. This might lead to breaking code or invalid results. Use at your own risk. For more info please refer to:\n",
      "https://scikit-learn.org/stable/model_persistence.html#security-maintainability-limitations\n",
      "  warnings.warn(\n",
      "/usr/local/lib/python3.10/dist-packages/sklearn/base.py:376: InconsistentVersionWarning: Trying to unpickle estimator StandardScaler from version 1.2.2 when using version 1.4.2. This might lead to breaking code or invalid results. Use at your own risk. For more info please refer to:\n",
      "https://scikit-learn.org/stable/model_persistence.html#security-maintainability-limitations\n",
      "  warnings.warn(\n",
      "/usr/local/lib/python3.10/dist-packages/sklearn/base.py:376: InconsistentVersionWarning: Trying to unpickle estimator LabelBinarizer from version 1.2.2 when using version 1.4.2. This might lead to breaking code or invalid results. Use at your own risk. For more info please refer to:\n",
      "https://scikit-learn.org/stable/model_persistence.html#security-maintainability-limitations\n",
      "  warnings.warn(\n",
      "/usr/local/lib/python3.10/dist-packages/sklearn/base.py:376: InconsistentVersionWarning: Trying to unpickle estimator LabelEncoder from version 1.2.2 when using version 1.4.2. This might lead to breaking code or invalid results. Use at your own risk. For more info please refer to:\n",
      "https://scikit-learn.org/stable/model_persistence.html#security-maintainability-limitations\n",
      "  warnings.warn(\n",
      "/usr/local/lib/python3.10/dist-packages/sklearn/base.py:376: InconsistentVersionWarning: Trying to unpickle estimator MultiLabelBinarizer from version 1.2.2 when using version 1.4.2. This might lead to breaking code or invalid results. Use at your own risk. For more info please refer to:\n",
      "https://scikit-learn.org/stable/model_persistence.html#security-maintainability-limitations\n",
      "  warnings.warn(\n"
     ]
    }
   ],
   "source": [
    "# Import pretrained models and mapper from other notebook\n",
    "with open('multinomial_logistic_regression_model.pkl', 'rb') as file:\n",
    "    multinomial_logistic_regression_model = pickle.load(file)\n",
    "with open('mapper.pkl', 'rb') as file:\n",
    "    mapper = pickle.load(file)\n",
    "\n",
    "# Function to extract the values from the DataFrames\n",
    "def get_genres(df):\n",
    "    df = df.copy()\n",
    "    df['artists'] = df['artists'].str.split(';')\n",
    "    df.drop(['Track Name', 'release_year','tempo','duration_ms'], axis=1, inplace=True)\n",
    "    X = mapper.transform(df)\n",
    "    X.columns = [col.replace('artists_', '').replace('[', '').replace(']', '').replace('<', '') for col in X.columns]\n",
    "    X = X.loc[:, ~X.columns.duplicated()]\n",
    "    genres = multinomial_logistic_regression_model.predict(X)\n",
    "    return genres"
   ]
  },
  {
   "cell_type": "code",
   "execution_count": 20,
   "id": "xZk_VbuYK9dk",
   "metadata": {
    "colab": {
     "base_uri": "https://localhost:8080/"
    },
    "id": "xZk_VbuYK9dk",
    "outputId": "009c921b-9492-4caa-8a09-4c7c424634be"
   },
   "outputs": [
    {
     "name": "stderr",
     "output_type": "stream",
     "text": [
      "/usr/local/lib/python3.10/dist-packages/sklearn/preprocessing/_label.py:900: UserWarning: unknown class(es) ['$uicideboy$', '*NSYNC', '+44', '112', '1999 WRITE THE FUTURE', '2 Chainz', '22 the Light', '2nd II None', '3k9x', '3slow2', '4 Non Blondes', '4batz', '6arelyhuman', '6ix9ine', '702', '730RARRI', '80purppp', '86Casino', '88rising', '8percent', '9infidell', 'A Boogie Wit da Hoodie', 'A Boy and His Kite', 'A Perfect Circle', 'A Tribe Called Quest', 'A!MS', 'A-Wall', 'ABBA', 'ADOY', 'AFROJACK', 'AGA', 'ALEXSUCKS', 'ALTÉGO', 'ALYA', 'ANTH', 'ASTN', 'ATARASHII GAKKO!', 'AVAION', 'Aaliyah', 'Aaron May', 'Aaron Smith', 'Aaron Tippin', 'Abby Anderson', 'Abe Parker', 'Abigail Bleu', 'Abigail Fierce', 'Abrina', 'Ace Hood', 'Ace of Base', 'Acoustic Vibe', 'Adam & The Ants', 'Adam Cashen', 'Adam Hicks', 'Adam Lambert', 'Adam Wheeler', 'Addy Lamaute', 'Adele', 'Adina Howard', 'Adrian Marcel', 'Adriano Spampanato', 'Afgan', 'Afroman', 'Agnes', 'Ahmad Jamal Trio', 'Ahzee', 'Aimee Carty', 'Air Supply', 'Alabama', 'Alana Springsteen', 'Albert Hammond Jr', 'Alejandro Sanz', 'Alek Olsen', 'Alemeda', 'Alesha Dixon', 'Alessandra', 'Alex & Sierra', 'Alex G', 'Alex Mica', 'Alex Parker', 'Alex Porat', 'Alex Turner', 'Alexander 23', 'Alexander Borodin', 'Alexander Oscar', 'Alexander Rybak', 'Alexander Scriabin', 'Alexandra Stan', 'Alice Coltrane', 'Alice DJ', 'Alice Merton', 'Alicks', 'Alina Baraz', 'All Mankind', 'All Saints', 'All-4-One', 'Allister', 'Allocai', 'Alpha Blondy', 'Alphonse Hasselmans', 'Altered Images', 'AlunaGeorge', 'Alvvays', 'Alx Veliz', 'Amanda Seyfried', 'American Authors', 'American Blonde', 'American Hi-Fi', 'Amerie', 'Aminé', 'Amy Grant', 'Amy Winehouse', 'Anamanaguchi', 'Anastacia', 'Anatoly Lyadov', 'Andrea Chahayed', 'Andrei Munteanu', 'Andrew Gialanella', 'Andrew Gordon', 'Andrew Huang', 'Andrew Neil and Code Purple', 'Andy Goodwin', 'Andy Rocks', 'Anella Herim', 'Angel Y Khriz', 'Angels & Airwaves', 'Angie Stone', \"Anita O'Day\", 'Anna Kendrick', 'Anna Naklab', 'Anonimo Anonimo', 'Anri', 'Ansel Elgort', 'Anthem Lights', 'Anthony Bonnette', 'Anthony Russo', 'Aqua', 'Aram Khachaturian', 'Arcade Fire', 'Arctic Monkeys', 'Arden Jones', 'Ari Abdul', 'Ari Lennox', 'Arizona Zervas', 'Arlo Parks', 'AronChupa', 'Arrested Development', 'Art Blakey', 'Art Blakey & The Jazz Messengers', 'Art Blakey Quintet', 'Art Farmer', 'Art Pepper', 'Art Tatum', 'Artemas', 'Arthur Conley', 'Artie Shaw', 'Artists Of Then, Now & Forever', 'Asaf Avidan', 'Ash', 'Ashanti', 'Ashlee Simpson', 'Ashley Alisha', 'Ashley Cooke', 'Ashley O', 'Aswad', 'At the Drive-In', 'Atlas Genius', 'Atlus', 'Atomic Kitten', 'Audio Push', 'Augustana', 'Austin George', 'Austin Snell', 'Austin Speed', 'Ava Della Pietra', 'Avant', 'Average White Band', 'Avril Lavigne', 'Ax and the Hatchetmen', 'Ayleen Valentine', 'Ayna Errboe', 'Ayo & Teo', 'Azealia Banks', 'B*Witched', 'B.E.R.', 'B2K', 'BACCDOE', 'BETWEEN FRIENDS', 'BICEP', 'BLITZ VEGA', 'BONES', 'BOYS LIKE GIRLS', 'BROCKHAMPTON', 'BROODS', 'Baauer', 'Baby Bash', 'Baby Keem', 'BabyJake', 'Babyshambles', 'Bad Bad Hats', 'Bad Company', 'Bad Meets Evil', 'Bad Suns', 'Bag Raiders', 'Baha Men', 'Bakar', 'Ball Greezy', 'Balu Brigada', 'Bambee', 'Bancali', 'Band Of Skulls', 'Band of Horses', 'Banda AL9', 'Bando Jonez', 'Banes World', 'Bankrol Hayden', 'Bantu', 'Barbra Streisand', 'Barenaked Ladies', 'Barry Manilow', 'Barry White', 'Baseball Gregg', 'Basshunter', 'Bat For Lashes', 'Bathe Alone', 'Beach Weather', 'Bear Hands', 'Bear Mountain', 'Beastie Boys', 'Bedřich Smetana', 'Bee Gees', 'Beenie Man', 'Beirut', 'Belanova', 'Beldon Haigh', 'Bell Biv DeVoe', 'Belly', 'Ben Howard', 'Ben Lawrence', 'Ben McPeak', 'Ben Webster', 'Benny Goodman Quartet', 'Benny Goodman Sextet', 'Benny Goodman Trio', 'Benson Boone', 'BertieBanz', 'Best Not Broken', 'Bette Midler', 'Betty Carter', 'Betty Wright', 'Beware Of Darkness', 'Bic Runga', 'Biffy Clyro', 'Big Boss Vette', 'Big Brovaz', 'Big Data', 'Big Pun', 'Big Thief', 'Big Time Rush', 'Big Tymers', 'BigXthaPlug', 'Bill Charlap', 'Bill Evans Trio', 'Bill Lovelady', 'Bill Medley', 'Billie Jo Jones', 'Billie Joe Armstrong', 'Billy Ocean', 'Bingo Players', 'Binocular', 'Birdman', 'Biz Markie', 'Bizarrap', 'Black Coast', 'Black Kids', 'Blackstreet', 'Blaine', 'Blake Roman', 'Blame My Youth', 'Blanks', 'Bloc Party', 'BlocBoy JB', 'Blondes', 'Blondfire', 'Blondshell', 'Blood Circus', 'Blood Orange', 'Bloodstone', 'Blossoms', 'Blu Cantrell', 'Blu DeTiger', 'Blue', 'Blue Foundation', 'Blue Magic', 'Blue Swede', 'Blueface', 'Blush', 'Bo Burnham', 'Bob Sinclair', 'Bob Sinclar', 'Bobby \"Boris\" Pickett & The Crypt-Kickers', 'Bobby Caldwell', 'Bobby Shmurda', 'Bobby V.', 'Bobby Womack', \"Bomfunk MC's\", 'Bone Thugs-N-Harmony', 'Bonnie Tyler', 'Booba', 'Boosie Badazz', 'Bow Wow', 'Bowling For Soup', 'Box Car Racer', 'Boy Meets Girl', 'Brad stank', 'Braden Bales', 'Brandon Beal', 'Brandon Flowers', 'Brandy', 'Breakbot', 'Breaking Beattz', 'Breakup Shoes', 'Brenn!', 'Brent Faiyaz', 'Bridgit Mendler', 'Brighid Nora', 'Bright Eyes', 'Brittany Howard', 'Brock Davis', 'Broken Bells', 'Brooks Jefferson', 'Bros', 'Bros Project', 'Brother Dege', 'Brothers Osborne', 'Bruce Hornsby', 'Bruno Major', 'Bryan Martin', 'Brye', 'Bubba Sparxxx', 'Bubble Tea and Cigarettes', 'Buck Owens', 'Bucks Fizz', 'Bud Powell', 'Budman.', 'Bull Beats', 'Bully', 'Butter Bath', 'Bvtter', 'BØRNS', 'C & C Music Factory', 'C.W. McCall', 'CAKE', 'CARR', 'CHIC', 'CHIKA', 'CJ', 'CKay', 'CORBAL', 'Caesars', 'Cal Scruby', 'Calboy', 'Caleb Shirley', 'Cali Dubs', 'Cali Swag District', 'Cam', 'Cam Allen', \"Cam'ron\", 'CamelPhat', 'Cameo', 'Camera Obscura', 'Camp Lo', 'Canaan Smith', 'Candi Staton', 'Cannons', 'Captain & Tennille', 'Caramella Girls', 'Carine', 'Carl Douglas', 'Carl Pedida', 'Carla Bruni', 'Carly Simon', 'Carmen McRae', 'Carnage', 'Carole King', 'Carolina Liar', 'Caroline Polachek', 'Carrie Frey', 'Carrie Q', 'Cartel De Santa', 'Case', 'Cashmere Cat', 'Cass Elliot', 'Cassidy', 'Cassie', 'Cassyette', 'Cast - Liv and Maddie', 'Cat Burns', 'Cat Janice', 'Catfish and the Bottlemen', 'Cbarrgs', 'Celeste', 'Central Cee', 'Chaka Demus & Pliers', 'Chaka Khan', 'Chamillionaire', 'Champaign', 'Chantel Jeffries', 'Chappell Roan', 'Charles & Eddie', 'Charles Aznavour', 'Charles Dillinger', 'Charles Mingus', 'Charles Wesley Godwin', 'Charles Wright & The Watts 103rd Street Rhythm Band', 'Charley Pride', 'Charlie Argo', 'Charlie Parker', 'Charlie Parker Quartet', 'Charlie Rich', 'Charlotte Sands', 'Chase Atlantic', 'Chase Matthew', 'Chase McDaniel', 'Chase Rice', 'Chayanne', 'Chayce Beckham', 'Cheb Mami', 'Cher', 'Cherish', 'Cherub', 'Cheryl', 'Cheryl Lynn', 'Ches Anthony', 'Chet Faker', 'Chevelle', 'Chick Corea', 'Chico Rose', 'Chiddy Bang', 'Chief Keef', 'Childish Gambino', 'China Anne McClain', 'Chingy', 'Chip', 'Chloe x Halle', 'Chloë Doucet', 'Chris Burton', 'Chris Cagle', 'Chris Coco', 'Chris Isaak', 'Chris Lake', 'Chris Renzema', 'Chris Young', 'Christina Milian', 'Christine Baranski', 'Chromeo', 'Chronyx', 'Chumbawamba', 'Churchill', 'Ciara', 'Cider Sky', 'Cir.Cuz', 'Circa Waves', 'City Girls', 'City and Colour', 'Clams Casino', 'Classified', 'Cleo Sol', 'Clint Black', 'Clipse', 'Coast Modern', 'Coasts', 'Cochise', 'Coco Jones', 'Coconut Records', 'Cody Jinks', 'Coi Leray', 'Colbie Caillat', 'Coldcut', 'Cole Phillips', 'Coleman Hawkins', 'Coleman Hawkins Quartet', 'Collin Raye', 'Colony House', 'Colter Wall', 'Commodores', 'Confederate Railroad', 'Connor Ashnault', 'Connor Price', 'Conor Burns', 'Conor Ross', 'Conway Twitty', 'Corb Lund', 'Corey Kent', 'Corey Wise', 'Cornershop', 'Corona', 'Cory Wong', 'Courteeners', 'Coyote Forest', 'Coyote Theory', 'Craig David', 'Craig Mack', 'Craig Morgan', 'Crash Test Dummies', 'Crisaunt', 'Crispy脆樂團', 'Crowded House', 'Crumb', 'Crying 4 Kafka', 'Crystal Fighters', 'Crystal Gayle', 'Crystal Waters', 'Cub Scouts', 'Cuco', 'Current Joys', 'Cut Copy', 'Cyndi Lauper', 'Cyril Scott', 'Czech Symphony Chamber Group', 'César Franck', \"D'Angelo\", 'D. Fagan', 'D12', 'D4L', 'DAP The Contract', 'DDG', 'DESTIN CONRAD', 'DIRTYXAN', 'DJ Antoine', 'DJ Comento', 'DJ Jazzy Jeff & The Fresh Prince', 'DJ Karim', 'DJ Khaled', 'DJ Paul', 'DJ Rapture', 'DLU Kemp', 'DMX', 'DNA', 'DON BROCO', 'DOPE LEMON', 'DPR IAN', 'DRAM', 'DRAMA', 'DVBBS', 'DVRST', 'DWLLRS', 'DXSTINY', 'Dagny', 'Daisy Jones & The Six', 'Dalton Davis', 'Dan Bull', 'Dane Amar', 'Daniel Adams-Ray', 'Daniel Powter', 'Danity Kane', 'Danzig', 'Darell', 'Darondo', 'Dasha', 'Daughter', 'Dave', 'Dave Holland Quartet', 'Dave Hollister', 'David Allan Coe', 'David Lee Murphy', 'David Morris', 'David Nail', 'David Rosales', 'David Shire', 'David Starr', 'Day Wave', 'Daya Shanelle', 'Dayglow', 'Dazel Ukuto', 'Ddark', 'De La Soul', 'DeJ Loaf', 'Deacon Blue', 'Deaf Dreamer', 'Deaf Havana', 'Deana Carter', 'December 3rd', 'Dee C. Lee', 'Deee-Lite', 'Deep Blue Something', 'Dehd', 'Del The Funky Homosapien', 'Del Water Gap', 'Delacey', 'Delegation', 'Dem Franchize Boyz', 'Deniece Williams', 'Denise Julia', 'Dennis Lloyd', 'Denzel Curry', 'Depeche Mode', 'Dept', 'Derek Jones', 'Deribb', 'Desiigner', \"Destiny's Child\", 'Destroy Boys', 'Devin Kennedy', 'Dexter Gordon', 'Dexys Midnight Runners', 'Dhruv', 'Diamond Rio', 'Diana Krall', 'Diana Ross', 'Diddy', 'Die Antwoord', 'Digable Planets', 'Digital Underground', 'Digitalism', 'Dimitri Vangelis & Wyman', 'Dionne Warwick', 'Dirty Pretty Things', 'Dirty Vegas', 'DirtyGloveCJay', 'Discovery', 'Distorted Resonance', 'Divinyls', 'Dizzy Gillespie', 'Dj Laz', 'Django Reinhardt', 'Djo', 'Doc Gynéco', 'Docksuns', 'Domenico Scarlatti', 'Donavon Frankenreiter', 'Donell Jones', 'Donna Lewis', 'Donna Summer', 'Dot Viera', 'Dove Cameron', 'Dr. Dog', \"Dre'es\", 'Dream Easy Collective', 'Dreamer Boy', \"Dreams We've Had\", 'Dreamville', 'Drew Holcomb', 'Driftless Pony Club', 'Dry the River', 'Duck Sauce', 'Duffy', 'Duke Ellington & His Washingtonians', 'Duncan Sheik', 'Duo Multicorde', 'Dustin Lynch', 'Dwight Yoakam', 'Dylan Conrique', 'Dylan Gossett', 'Dylan Marlowe', 'Dylan Mckaige', 'Dylan Scott', 'Dyland & Lenny', 'Dzeko & Torres', 'EKKSTACY', 'ELYAZ', 'Eagle-Eye Cherry', 'Eamon', 'Earl Hines', 'Earlay', 'Earth, Wind & Fire', 'Earthquake Lights', 'Eastern Thrills', 'Easton Corbin', 'Ed Sheeran & Justin Bieber', 'Eddie Floyd', 'Eddie Murphy', 'Eddie Zuko', 'Edine', 'Edison Lighthouse', 'Editors', 'Edward Elgar', 'Edwin McCain', 'Eek-A-Mouse', 'Egg', 'Eiffel 65', 'Eisley', 'El Chevo', 'Elan Noon', 'Electric Guest', 'Electric Light Orchestra', 'Elephant Castle', 'Elias Boussnina', 'Elina', 'Elise Trouw', 'Eliza Doolittle', 'Eliza Rose', 'Elizabeth', 'Ella Langley', 'Ella Mai', 'Ellery Bonham', 'Elvis Crespo', 'Emblem3', 'Emilia', 'Emily Burns', 'Emotional Oranges', 'Empire Of The Sun', 'Empress Latoyah', 'Empress Of', 'Enrique Granados', 'Enrique Iglesias', 'Enur feat. Natasja', 'Eric B. & Rakim', 'Eric Bellinger', 'Eric Bolton', 'Eric Carmen', 'Erik Frank', 'Erin Kinsey', 'Ernest Bloch', 'Erykah Badu', 'Esbjörn Svensson Trio', 'Esperanza Spalding', 'Eugene Wilde', 'Evan Honer', 'Eve', 'Evelyn \"Champagne\" King', 'Everlong', 'Everything Everything', 'Example', 'Eyedress', 'Ezra Williams', 'F.L.Y. (Fast Life Yungstaz)', 'FIFTY FIFTY', 'FORTELLA', 'FRONTEERS', 'FYI the Rapper', 'Fabian Secon', 'Fabolous', 'Fake Laugh', 'Falco', 'Familiar Faces', 'Family of the Year', 'Famous Dex', 'Fanfarlo', 'Far Corporation', \"Fat Freddy's Drop\", 'Fat Joe', 'Fatboy Slim', 'Father John Misty', 'Fatman Scoop', 'Faul & Wad', 'Faye Webster', 'Fedde Le Grand', 'Feeder', 'Fefe Dobson', 'Feist', 'Felix Godefroid', 'Feng Suave', 'Ferly Jay', 'Fernando Furones', 'Fetty Wap', 'Feyesal', 'Fiction Factory', 'Fiji Blue', 'Fin Argus', 'Finatticz', 'Finding Hope', 'Fireboy DML', 'Five', 'Five Finger Death Punch', 'Five Star', 'Flamingos in the Tree', 'Flanør', 'Fleet Foxes', 'Flight', 'Flight Facilities', 'Flipp Dinero', 'Flo Milli', 'Florence Beatrice Price', 'FloyyMenor', 'Flume', 'Fontaines D.C.', 'Fools Garden', 'Forest Blakk', 'Forever The Sickest Kids', 'Forrest Frank', 'Foster', 'Four Tops', 'Fox Academy', 'Foxwarren', 'Foxy Brown', 'Francis Poulenc', 'Francisco Tárrega', 'Frank Sinatra', 'Frankee', 'Frankie Valli', 'Freaks & Geeks', 'Fred again..', 'Freddie Hubbard', 'Frederick Delius', 'Freedom Dub', 'Freestyle', 'Freya Ridings', 'Friday Pilots Club', 'Fridayy', 'Fritz Kreisler', 'Frizk', 'Fruit Bats', 'Fugees', 'Fujii Kaze', 'Full Tone Generator', 'Fuller', 'Fun Guns', 'Funeral Suits', 'Funkadelic', 'Future Animals', 'Future Mondays', 'G-Unit', 'G.R.L.', 'GABRIELLE', 'GAWNE', 'GEMINI', 'GRAHAM', 'GROUPLOVE', 'GXTP', 'Gabi Sklar', 'Gabrielle', 'Gabriels', 'Gallant', 'Galt MacDermot', 'Gang Starr', 'Garbage', 'Gareth.T', 'Garry DW Judd', 'Garth Brooks', 'Gary Allan', 'Gary Burton', 'Gary Glitter', 'Gary Kyle', 'Gary Wayne', 'Gavin Adcock', 'Gavin DeGraw', 'Gavin Porsche', 'Gene Ammons', 'Generationals', 'Genesis', 'Genevieve Stokes', 'Gente De Zona', 'George Baker Selection', 'George Benson', 'George Jones', 'George McCrae', 'George Michael', 'George Shearing Quintet', 'Georgia Webster', 'Geowulf', 'Geri Halliwell', 'Germaine Tailleferre', 'Gerreddi', 'Gerry & The Pacemakers', 'Gerry Mulligan', 'Gerry Mulligan & Johnny Hodges', 'Gerry Mulligan Quartet', 'Geto Boys', 'Ghost Town DJs', 'Ghostemane', 'Gian Marco Castro', 'Giant Rooks', \"Gigi D'Agostino\", \"Gilbert O'Sullivan\", 'Ginger Root', 'Giordana Angi', 'Gipsy Kings', 'Girlicious', 'Gladys Knight & The Pips', 'Glass Caves', 'Glasvegas', 'Glee Cast', 'Glenn Miller', 'Glisha', 'Glitter Dream', 'Glitter Party', 'Glom', 'Gloria Estefan And Miami Sound Machine', 'Gloria Gaynor', 'Gold', 'Gold Fields', 'Gold Motel', 'Goldfinger', 'Good Kid', 'Good Neighbours', 'Good Times Ahead', 'Gossip', 'Gotye', 'Grabbitz', 'Grace Carter', 'Grandmaster', 'Granger Smith', 'Grant Green', 'Grass', 'Green River', 'Gregory Abbott', 'Gregory Isaacs', 'Gretchen Wilson', 'Griffin Williams', 'Grizzly Bear', 'Gruntruck', 'Guru', 'Guru Josh Project', 'Gus Dapperton', 'Gusttavo Lima', 'Gutter Grinders', 'Gypsy Goode', 'Gyptian', 'H.E.R.', 'HAARPER', 'HAIM', 'HIGHWAYVES', 'HIIT BPM', 'HOLLY MONROE', 'HONNE', 'HYBS', 'Haddaway', 'Haiden Henderson', 'Hail Caesar', 'Hail Rell', 'Hailee Steinfeld', 'Hal Ketchum', 'Handsome Boy Modeling School', 'Hank Mobley', 'Hank Williams, Jr.', 'Hannah Montana', 'Hannah Noel', 'Hans.', 'Hanson', 'Happy Mondays', 'Hard Lights', 'Hard-FI', 'Harmless', 'Harrison Boe', 'Harry Belafonte', 'Harry Chapin', 'Harry Connick, Jr.', 'Harvey Danger', 'He Is We', 'Headie One', 'Heavy D & The Boyz', 'Heidi Montag', 'Heitor Villa-Lobos', 'Hellogoodbye', 'Henrik', 'Henry Moodie', 'Henry Morris', 'Hentai Xander', \"Her's\", 'Hermitude', 'High Highs', 'High Mountain Breezes', 'High School Musical Cast', 'High Tyde', 'Highway Outlaws', 'Hiko', 'Hilltop Hoods', 'Hippie Sabotage', 'Hippo Campus', 'Hippo Dreams', 'Hojean', 'Home', 'Homson', 'Horace Brown', 'Horace Silver', 'Horsebeach', 'Hosemen', 'Hot Chocolate', 'Hot Hot Heat', 'Hot Mulligan', 'Hot for Crime', 'Hotel Ugly', 'Houston', 'Hov1', 'How We Burn', 'Hues Corporation', 'Huey Lewis & The News', 'Huncho Jack', 'Hundred Stacks', 'Hurricane Chris', 'Hypaton', 'Héctor \"El Father\"', 'ILLIT', 'INDIANS', 'Ian Carey Project', 'Ian Dury', 'Ice Spice', 'Ida Corr', 'Idina Menzel', 'Iggy Azalea', 'Iko', 'Illatek', 'Imperial Mammoth', 'In The Valley Below', 'India Lake', 'India.Arie', 'Indigo Girls', 'Indila', 'Infinity Song', 'Inhaler', 'Inspiral Carpets', 'Internet Money', 'Interpol', 'Irene Cara', 'Isaac Albéniz', 'Isabel LaRosa', 'Isac Elliot', 'Isla-Maria', \"Israel Kamakawiwo'ole\", 'ItaloBrothers', 'J Boog', 'J Roofless', 'J Spades', 'J-Kwon', 'J. Holiday', 'J. Maya', 'J.Lauryn', 'JACKBOYS', 'JANNABI', 'JEANZ', 'JHIN', 'JLS', 'JNR CHOI', 'JON VINYL', 'JORDANN', 'JP Saxe', 'JR JR', 'JT Music', 'JUST INCASE', 'JUVENILE', 'JW', 'JW Velly', 'Ja Rule', 'Jace Everett', 'Jack Back', 'Jack Johnson', 'Jack Kays', \"Jack Stauber's Micropop\", 'Jacki Thrapp', 'Jackie McLean', 'Jacob Collier', 'Jacob Tillberg', 'Jacquees', 'Jada', 'Jada Facer', 'Jade Bird', 'Jade LeMac', 'Jaden', 'Jagged Edge', 'Jagguar', 'Jaheim', 'Jain', 'Jake Banfield', 'Jake Bugg', 'Jakob', 'Jakob Karlberg', 'Jalen Ngonda', 'Jalen Santoy', 'Jamelia', 'James', 'James Blake', 'James Morrison', 'James Otto', 'James Smith', 'James Vincent McMorrow', 'Jamey Johnson', 'Jamie Cullum', 'Jamie Foxx', 'Jamie T', 'Jamiroquai', 'Jan Johansson', 'Jan Metternich', 'Jana Kramer', 'Jane Bell', 'Jane Krakowski', 'Janet Jackson', 'Japan', 'Jason Chen', \"Javi That's Me\", 'Jay Rock', 'Jay.f.k beats', 'JayDaYoungan', 'JayWolf', 'Jaymay', 'Jayme Dee', 'Jazz Cartier', 'Jazzinuf', 'Jealous Friend', 'Jean Dawson', 'Jeanne & The Darlings', 'Jeff Bernat', 'Jelani Aryeh', 'Jelly Roll', 'Jenna Raine', 'Jennifer Hudson', 'Jennifer Rush', 'Jenny Tolman', 'Jeremy Passion', 'Jermaine Stewart', 'Jerrod Niemann', 'Jerry Cantrell', 'Jesse Barrera', 'Jesse McCartney', 'Jessica Mauboy', 'Jessie J', 'Jessie Murph', 'Jet Fuel & Ginger Ales', 'Jez Dior', 'Jhana Boy', 'Jimmie Allen', 'Jimmy Smith', 'Jo Boxers', 'Jo Dee Messina', 'JoJo', 'Joe', 'Joe Ciotti', 'Joe Diffie', 'Joe Gillette', 'Joe Henderson', 'Joe Lovano', 'Joe Nichols', 'Joe P', 'Joe Pass', 'Joey Bada$$', 'Johann Strauss II', 'John Anderson', 'John Coltrane Quartet', 'John Farnham', 'John Holt', 'John Mellencamp', 'John Travolta', 'Johnny Gill', 'Johnny Goth', 'Johnny Griffin', 'Johnny Hodges', 'Johnny Hodges & His Orchestra', 'Johnny Logan', 'Johnny Nash', 'Johnny Paycheck', 'Johnny Stimson', 'Joji', 'Jonas Hoffmann', 'Jonathan Boulet', 'Jontae', 'Jordan Dean', 'Jordan Ward', 'Jordin Sparks', 'Joseph Boulogne Chevalier de Saint-Georges', 'Josh Gibbs', 'Josh Gracin', 'Josh Levi', 'Josh Meloy', 'Josh Ross', 'Joy Again', 'Joytastic Sarah', 'Joywave', 'Judah & the Lion', 'Juelz Santana', 'Julia Alexa', 'Julia Cole', 'Julia Jacklin', 'Juliet Ivy', 'Julián Fueyo', 'July Talk', 'Jungle', 'Junior Jack', 'Junior M.A.F.I.A.', 'Junior Senior', 'Just Jack', 'Justice', 'Justin Champagne', 'Justina Valentine', 'Jutta Hipp', 'J€AN-MARC', 'KAIRO', 'KC & The Sunshine Band', 'KDA', 'KG Floss', 'KIIINGSAM', 'KIRBY', 'KONGOS', 'KRS-One', 'Kaash Paige', 'Kaden MacKay', 'Kadri Williams', 'Kamal.', 'Kameron Marlowe', 'Kandi', 'Kansas', 'Kardinal Offishall', 'Karen O', 'Karen Souza', 'Karim', 'Karmin', 'Kasabian', 'Kat Deluna', 'Kate Nash', 'Katrina & The Waves', 'Kauai45', 'Kaylee Bell', 'Keanu Bicol', 'Keith & Tex', 'Keith Anderson', 'Keith Jarrett', 'Keith Whitley', 'Keke Palmer', 'Kelis', 'Kellie Pickler', 'Kelly Clarkson', 'Kelsey Hart', 'Kenneth Koultre', 'Kenny Burrell', 'Kenny Dorham', 'Kenny Loggins', 'Kenny Mason', 'Kenny Wayne Shepherd', 'Kenya Grace', 'Keri Hilson', 'Kermit', 'Kevin Abstract', 'Kevin Gates', 'Kevin Lyttle', 'Kevin Rudolf', 'Kevin Teasley', 'Khaled', 'Khia', 'Khruangbin', 'Kid Sistr', 'Kid Travis', 'Kids That Fly', 'Kiesza', 'Kiko', 'Kiko Bun', 'Kim Carnes', 'Kim Wilde', 'Kina', 'King Curtis', 'King Princess', 'King Von', 'Kings of Leon', 'Kinneret', 'Kinny', 'Kitten', 'Kitty Wells', 'Klangkarussell', 'Klawuta', 'Klaxons', 'Klingande', 'KnowKnow', 'Knox', 'Kobe Fresh outta High School', 'Koi', 'Kokoroko', 'Kool & The Gang', 'Kris Kross', 'Kristinia DeBarge', 'Krooked Kings', 'Ktlyn', 'Ku$h Drifter', 'Kula Shaker', 'Kurosuke', 'Kuwada', 'Kxllswxtch', 'Kxlly', 'Kyle Hume', 'L. Martin', 'LANCO', 'LEN', 'LL COOL J', 'LP', 'LUCKI', 'LXNGVX', 'La La La La', 'Labi Siffre', 'Lady Danville', 'Ladyhawke', 'Laid Back', 'Lainey Wilson', 'Landon Austin', 'Larry Fleet', 'Larry Young', 'Lars Gullin', 'Las Ketchup', 'Last Dinosaurs', 'Last of the 80s', 'Lay Bankz', 'Layzi', 'Leah Kate', 'Leah Marie Perez', 'Leanna Firestone', 'Lee Ann Womack', 'Lee Brice', 'Lee Konitz', 'Lee Morgan', 'Legarda', 'Lemar', 'Lennon Cripe', 'Leo Brouwer', 'Leo Raposão', 'Leon Thomas', 'Leona Lewis', 'Leoš Janáček', 'Leroy Hutson', 'Lesley Gore', 'Letdown.', 'Letters To Cleo', 'Levon Forever', 'Lewis Capaldi', 'Lewis Watson', 'Lexi Jayde', 'Liam Gallagher', 'Liberty X', 'Libianca', 'Lift The Curse', 'Lil Dicky', 'Lil Jon & The East Side Boyz', 'Lil Mabu', 'Lil Mama', 'Lil Mosey', 'Lil Pump', 'Lil Skies', 'Lil Tecca', 'Lil Xan', 'Lil Yachty', 'Lili Boulanger', 'Lilithzplug', 'Lilly Wood and The Prick', 'Lime Cordiale', 'Linda Jones', 'Lionel Hampton', 'Lionel Richie', 'Lipa DJ', 'Lipps Inc.', 'Lisa Loeb', 'Lissie', 'Lit', 'Litany', 'Little Green Cars', 'Lizzy McAlpine', 'Lloyd', 'Lloyd Banks', 'Local Natives', 'Lofty', 'Logan Ledger', 'Logan Paul', 'Lojay', 'Lola Young', 'Lonely God', 'Lonr.', 'Looking Glass', 'Loona', 'Loopey', 'Lorde', 'Loreen', 'Lorez Alexandria', 'Lorn', 'Los Campesinos!', 'Lost Kings', 'Lou Bega', 'Lou Donaldson', 'Lou Reed', 'Louis Armstrong & His Hot Five', 'Louis Armstrong & His Savoy Ballroom Five', 'Louis Tomlinson', 'Love Battery', 'Love Spells', 'Lovejoy', 'Loverboy', 'Lovey', 'Lucaa', 'Lucy Pearl', 'Luigi Boccherini', 'Luis Fonsi', 'Luke Chiang', 'Luke Hemmings', 'Lumidee', 'Luna Bay', 'Luna Waves', 'Lunar Vacation', 'LunchMoney Lewis', 'Luny Tunes', 'Lupe Fiasco', 'Luther Vandross', 'LuxFlowz', 'Luísa Sonza', 'Lydell Lucky', 'Lydia', 'Lyfe Jennings', 'Lynn Anderson', 'M.A.G.S.', 'M.O.P.', 'M83', 'MARVIN', 'MASN', 'MC Eiht', 'MC Hammer', 'MEG MYERS', 'MF DOOM', 'MFSB', 'MIKA', 'MINOVA', 'MIRA', 'MK', 'MODSi', 'MONA', 'MUNA', 'Mac Ayres', 'Mac Lethal', 'Mac NL', 'MacKenzie Porter', 'Mackenzie Testa', 'Macklemore & Ryan Lewis', 'Madcon', 'Madd Hatter', 'Maddie Poppe', 'Made Violent', 'MadeinTYO', 'Madilyn Mei', 'Madness', 'Mae Stephens', 'Maeta', 'Maggie Lindemann', 'Maggie Rogers', 'Magic System', 'Maitchhh', 'Majek Fashek', 'Mak Daddy Revue', 'Makaveli', 'Mal Waldron', 'Malcolm Todd', 'Malfunkshun', 'Manchester Orchestra', 'Mandy Moore', 'Manfred Mann', \"Manfred Mann's Earth Band\", 'Manic Street Preachers', 'Mann', 'Manu Chao', 'Manuel de Falla', 'Marc Berger', 'Marc Cohn', 'Marcello Rosciglione', 'Marcus & Martinus', 'Marcus King', 'Marcy Playground', 'Mareux', 'Margrels', 'Mariah Carey', 'Mariah the Scientist', 'Mario', 'Mariposa', 'Mark Ambor', 'Mark Chesnutt', 'Mark Knopfler', 'Mark Morrison', 'Mark Wills', 'Marlena Shaw', 'Martha Reeves & The Vandellas', 'Martika', 'Martin Solveig', 'Martina McBride', 'Marty Robbins', 'Mary Lou Williams', 'Mary Mary', 'Maryon', 'Masego', 'Mason', 'Mason Ramsey', 'Massari', 'Matt', 'Matt DiMona', 'Matt Hires', 'Matt Stell', 'Matt Wertz', 'Matt and Kim', 'Mattafix', 'Matthew Wilder', 'Max Romeo', 'Maximo Diego Pujol', 'Maximo Park', 'Maxwell', 'McFly', 'Me Like Bees', 'Me and My Sandcastle', 'Me.man.machine', 'Meat Loaf', 'Medina', 'Medium Build', 'Meek Mill', 'Meet Me @ The Altar', 'Megumi Acorda', 'Mel McDaniel', \"Meli'sa Morgan\", 'Mellow Fellow', 'Melo Griffith', 'Melo-D', 'Melvins', 'Men At Work', 'Men Without Hats', 'Meredith Brooks', 'Merle Haggard', 'Merle Haggard & The Strangers', 'Meryl Streep', 'Method Man', 'Metric', 'Metro Station', 'Metronomy', 'Mia Maestro', 'Miami Sound Machine', 'Michael Bolton', 'Michael Constantino', 'Michael Franti & Spearhead', 'Michael Gray', 'Michael Kiwanuka', 'Michael Marcagi', 'Michael Mayo', 'Michael Sanderson', 'Michael Schulte', 'Michael Sembello', 'Michael Seyer', 'Michel Teló', 'Michelle Branch', 'Michelle Williams', 'Microwave', 'Middle Child', 'Midi Monstaz', 'Midnight Oil', 'Migos', 'Miguel', 'Miguel Llobet Solés', 'Mike G', 'Mike Jones', 'Mike WiLL Made-It', 'Mikhail Glinka', 'Mikky Ekko', 'Mild High Club', 'Miles Davis Quintet', 'Miles Gaston Villanueva', 'Miles Kane', 'Militarie Gun', 'Milky Chance', 'Milky Day', 'Millencolin', 'Miller Holler', 'Milli Vanilli', 'Millionyoung', 'Milo Gore', 'Milt Jackson', 'Miniature Tigers', 'Mint Condition', 'Miracle Musical', 'Miranda Cosgrove', 'Mirla Avila', 'Mis-Teeq', 'Missy Elliott', 'Mitch Rowland', 'Mobb Deep', 'Moderat', 'Modest Mouse', 'Modjo', 'Moe Everything', 'Mokita', 'Monica', 'Monrroe', 'Mont Duamel', 'Montell Fish', 'Montell Jordan', 'Montgomery Gentry', 'Moon Fever', 'Moon Taxi', 'Moon Walker', 'Morning Runner', 'Morrissey', 'Morten Lauridsen', 'Motion City Soundtrack', 'Mr Little Jeans', 'Mr.Kitty', 'Ms. Lauryn Hill', 'Mudhoney', \"Mungo's Hi Fi\", 'Munn', 'Muscadine Bloodline', 'Muse', 'Musical Youth', 'My Chemical Romance', 'MyKey', 'Mystery Jets', 'Mystery Skulls', 'Mystikal', 'Måns Zelmerlöw', 'Ménélik', 'N-Dubz', 'N.E.R.D', 'N.O.R.E.', 'N.W.A.', 'NATTI NATASHA', 'NAV', 'NIKI', 'NLE Choppa', 'NONONO', 'Nacho', 'Naomi Prie', 'Naomi Scott', 'Nappy Roots', 'Nardo Wick', 'Nas', 'Nat & Alex Wolff', 'Natalie Imbruglia', 'Natalie La Rose', 'Nate Bryan', 'Nate Feuerstein', 'Nate Smith', 'Nathan Evans', 'Nathan Morris', 'Nation Band NY', 'Nation of Language', 'Natiruts', 'Naturally 7', 'Naughty Boy', 'Naughty By Nature', 'Nayer', 'Nebu Kiniza', 'Nelly', 'Nelly Furtado', 'Nena', 'Nep', 'Nessbeal', 'Neutral Milk Hotel', 'Nevada', 'Never Get Used To People', 'New Edition', 'New Found Glory', 'New Kids On The Block', 'New Radicals', 'NewJeans', 'Nic D', 'Nick Jonas', 'Nick Leng', 'Nicky Youre', 'Nico & Vinz', 'Nicole Scherzinger', 'Night Cap', 'Nightcore Remix Guys', 'Nightmares On Wax', 'Nikka Costa', 'Niko B', 'Niko Walters', 'Nikolai Rimsky-Korsakov', 'Nine Days', 'Nine Inch Nails', 'Nipsey Hussle', 'Nitty Gritty Dirt Band', 'Nivea', 'Niykee Heaton', 'No Hot Ashes', 'No Vacation', 'Noah Crisostomo', 'Noah Floersch', \"Noel Gallagher's High Flying Birds\", 'Noisestorm', 'Noisettes', 'Norman Greenbaum', 'Normani', 'Nothing But Thieves', 'NovaVerse', 'Now, Now', 'O-Zone', 'O.A.R.', 'O.T. Genasis', 'ODESZA', 'OHGEESY', 'OK Go', 'OMC', 'OMI', 'OMMIEH', 'ONE OK ROCK', 'OPEN HOUSE', 'OPM', 'Oberhofer', 'Ocean Alley', 'Ocean Colour Scene', 'Odd Future', 'Odyssey', 'Ogi', 'Ohio Players', \"Ol' Rattlebones\", 'Old Dominion', 'Ole 60', 'Oliver Anthony Music', 'Olivia Newton-John', 'Ollie MN', 'Olly Alexander (Years & Years)', 'Olly Murs', 'Omah Lay', 'Omarion', 'One-T', 'Onyx', 'Oobie', 'Orianthi', 'Ornette Coleman', 'Orson', 'Oscar Peterson Trio', 'Otto Knows', 'Outkast', 'Outlandish', 'Owen Paul', 'Owen Riegling', 'Oxlade', 'Ozs', 'PANDIT', 'PARIS The Prince', 'PLVTINUM', 'POP ETC', 'PVRIS', 'Pacific Avenue', 'Paolo Nutini', 'Paradiso Girls', 'Paramore', 'Parcels', 'Paris Hilton', 'Parliament', 'Parmalee', 'Pat Benatar', 'Patience & Prudence', 'Patsy Cline', 'Patty Smyth', 'Paul Blanco', 'Paul Damixie', 'Paul Desmond', 'Paul Kalkbrenner', 'Paul McDonald', 'Paul Russell', 'Paul Weller', 'Paula Abdul', 'Paula Cole', 'Pauline Zoe Park', 'Pavement', 'Peace', 'Peace Cult', 'Peach Luffe', 'Peach Pit', 'Peach Tree Rascals', 'Peachy!', 'Pebbles', 'Peggy Gou', 'Pete Rock', 'Pete Rock & C.L. Smooth', 'Peter Gabriel', 'Peter McPoland', 'Petey Pablo', 'Petra Marklund', 'Pham', 'Phantom Planet', 'Phil Collins', 'Phil Oakey', 'Phil Vassar', 'Phil Woods', 'Philip Bailey', 'Philip George', 'Phoenix', 'Phony Ppl', 'Phora', 'Pia Mia', 'Picture Day', 'Piff Marti', 'Pinegrove', 'Pink Cafe', 'Pink Floyd', 'PinkPantheress', 'Pistol Annies', 'Placebo', 'Planttvibes', 'Plastic Glass', 'Playaz Circle', 'Playboi Carti', 'Playdate', 'Plies', \"Poor Man's Poison\", 'Pop Dogg', 'Popp Hunna', 'Porches', 'Porkboii', 'Porpura', 'Portishead', 'Portugal. The Man', 'Positive K', 'Powderfinger', 'Powfu', 'Pras', 'Precedence', 'Prefab Sprout', 'Pretty Ricky', 'Prince', 'Prince Fatty', 'Prince Royce', 'Priscilla Block', 'Priscilla Renea', 'Project North', 'Projected Twin', 'Protoje', 'Próxima Parada', 'Public Library Commute', 'Puma Blue', 'Q', 'Q-Tip', 'QUEEN OMARA', 'Quality Control', 'Quarters of Change', 'Queen Naija', 'Queen Nu', 'Quiet Company', 'Quincy Jones', 'R. City', 'R. Kelly', 'RAEYA', 'RAT BOY', 'RAYGUN CARVER', 'RINI', 'RL Grime', 'Rachel Chinouriri', 'Rae Sremmurd', 'Raedio', 'Raging Fyah', 'Rainbow Kitten Surprise', 'Ralph Felix', 'Ralph McDonald', 'Randy Crawford', 'Randy Houser', 'Rangga Jones', 'Raquel', 'Ratt', 'Rauf & Faik', 'Ray Bull', 'Ray J', 'Ray Parker Jr.', 'Ray Price', 'Ray Rich FMG', 'Raynes', 'Razorlight', 'Reaal', 'RealestK', 'Reamonn', 'Rebecca Black', 'Rebelution', 'Rebounder', 'Red Sovine', 'Redbone', 'Redferrin', 'Reef', 'Reeve Carney', 'Rehab', 'Relient K', 'Remi Wolf', 'Remy Ma', 'Ren', 'Renee Olstead', 'Reneé Rapp', 'Reverend And The Makers', 'Rex Orange County', 'Reymil', 'Rhett Akins', 'Rich Amiri', 'Rich Gang', 'Rich Homie Quan', 'Rich The Kid', 'Richard Hawley', 'Richie Havens', 'Richie Spice', 'Rick James', 'Rick Springfield', 'Ricky Martin', 'Rigel Crux', 'Right Said Fred', 'Rilo Kiley', 'Rio Romeo', \"Rippin' Cigs\", 'Rise Against', 'Rob $tone', 'Rob Wolf', 'Robbie Tripp', 'Robbie Williams', 'Robert DeLong', 'Robert Grace', 'Roberta Flack', 'Robin Gibb', 'Robyn', 'Rocco DeLuca', 'Rochdale', 'Roderick Porter', 'Rodney Atkins', 'Rogue Wave', 'Roll Deep', 'Romeo Santos', 'Ronan Keating', 'Ronnie Milsap', 'Room 5', 'Rosa Linn', 'Rosalyn', 'Rose Royce', 'Ross Lynch', 'Rowan Blanchard', 'Roxette', 'Roy Hargrove', 'Roy Jones Jr.', 'Royel Otis', 'Ruff Endz', 'Rufus', 'Rufus & Carla', 'Rundown Spaz', 'Run–D.M.C.', 'Rupee', 'Rupert Holmes', 'Russ', 'Rusted Root', 'Rusty Gear', 'Rvshvd', 'Ryan Caraveo', 'Ryan Hurd', 'Ryan Leslie', 'Ryan Oakes', 'Ryan.B', 'Ryn Weaver', 'RŮDE', 'S Club', \"S'Express\", 'S1mba', 'SALES', 'SAULT', 'SAYGRACE', 'SCRUBB', 'SEB', 'SHOP BOYZ', 'SIX60', 'SNBRN', 'SOJA', 'SOLOMON', 'SR-71', 'STRFKR', 'SWV', 'SYML', 'Sabina Ddumba', 'Sabrina', 'Sabrina Claudio', 'Sacropolis', 'Sade', 'Sadie Hawkins', 'Sage The Gemini', 'Saian Supa Crew', 'Saint Raymond', 'Salami Rose Joe Louis', 'Salt-N-Pepa', 'Sam Barber', 'Sam Cooke', 'Sam Fischer', 'Sam Kim', 'Sam Ock', 'Sam Sparro', 'Sam Wills', 'Samantha Fox', 'Samm Henshaw', 'Sammy Adams', 'Sammy Kershaw', 'Samuel Barber', 'Samuel Coleridge-Taylor', 'Sananda Maitreya', 'Sandëro', 'Sara Evans', 'Sarah Jaffe', 'Sarah McLachlan', 'Savage Garden', 'Savage Sons', 'Scarlet Pleasure', 'Scatman John', 'Schmarx & Savvy', 'Schoolgirl Byebye', 'Schuyler Fisk', 'Scissor Sisters', 'Scorey', 'Scott James', 'Scott McKenzie', 'Scouting For Girls', 'Sea Lemon', 'Sea Wolf', 'Seaforth', 'Seal', 'Sean Daily', 'Sean Kingston', 'Seann Bowe', 'Seaweed', 'Second Set', 'Seepeoples', 'Selfsteam', 'Semisonic', 'Semmi', 'September', 'Seven Mary Three', 'Shabazz PBG', 'Shabba Ranks', 'Shakaya', 'Shakka', 'Shawn Colvin', 'Shawn Hook', 'Shawn James', 'Shaylen', 'Sheck Wes', 'Shenandoah', 'Shocking Blue', 'Shola Ama', 'Shouse', 'Shwayze', 'Shy Smith', 'SiR', 'Sicksways', 'Sidney Bechet', 'Sigrid', 'Sik World', 'Silentó', 'Silk City', 'Silk Skin Lovers', 'Silversun Pickups', 'Simone Kelly', 'Simply Red', 'Sinitta', 'Sinéad Harnett', 'Sir Mix-A-Lot', 'Sir Speedy', 'Sisqo', 'Sista Prod', 'Six 3', 'Sjowgren', 'Skee-Lo', 'Skeeter Davis', 'Ski Mask The Slump God', 'Skin Yard', 'Skrizzly Adams', 'Sky McCreery', 'Skydiving', 'Slaï', 'Sleep Token', 'Slim Guerilla', 'Slowdive', 'Sly & The Family Stone', 'Small Forward', 'Smif-N-Wessun', 'Smiley', 'Smith & Thell', 'Smokepurpp', 'Snail Mail', 'Snakehips', 'Snug', 'Sobs', 'Soccer Mommy', 'Sofia Mills', 'Soft Launch', \"Someone Else's Rain\", 'Something Corporate', 'Sonder', 'Sonique', 'Sonny Clark', 'Sonny Clark Trio', 'Sonny Rollins', 'Sonny Rollins Quartet', 'Sophia Gonzon', 'Sophie B. Hawkins', 'Sophie Ellis-Bextor', 'Soul For Real', 'Soul II Soul', 'Souls Of Mischief', 'South Bad Boy', 'Spacey Jane', 'Speak', 'Sped Up Songs + Nightcore', 'Speedy Jack', 'Spendtime Palace', 'Spice Girls', 'Spin Doctors', 'Spliff', 'Sponge', 'Spoon', 'Spottie WiFi', 'Stacey Kent', 'Stan Walker', 'Stand Atlantic', 'Stanley Myers', 'Stanley Turrentine', 'Star 2', 'Stardust', 'Starley', 'Stars', 'Starship', 'StaySolidRocky', 'Stepdad', 'Stephanie Laurence', 'Stephanie Poetri', 'Stephen Dawes', 'Stephen Swartz', 'Stereo Dub', 'Stereophonics', 'Steve Kekana', 'Steve Lacy', 'Steve Tyrell', 'Steve Winwood', 'Stevie Nicks', 'Sticky Fingers', 'Stomy Bugsy', 'Stormaxxi', 'Strandz', 'Styles P', 'SuaveBoyKB', 'Subsonic Eye', 'Sueco', 'Sugababes', 'Sugar Ray', 'Sugarcult', 'Sugarland', 'Sugiwon', 'Suite Mentale', 'Summer Heart', 'Summer Salt', 'Summer Walker', 'Summerdrive', 'Sun Rai', 'Sundara Karma', 'Supergrass', 'Supermode', 'Sure Sure', 'Survivor', 'Sushi Soucy', 'Suzanne Vega', 'Suzi', 'Swamp District', 'Swann Sands', 'Sweet William', 'Sweet and Lonely', 'Swilson', 'Switchfoot', 'Swoltie', 'Sylo', 'Sóley', 'TEMPOREX', 'THE DRIVER ERA', 'THE S.L.P.', 'THE SCOTTS', 'THEY.', 'TJ Mello', 'TLC', 'TOLEDO', 'TQ', 'TUSHAR', 'TYuS', 'Tad', 'Tag Team', 'Taio Cruz', 'Takayoshi', 'Take That', 'Taking Back Sunday', 'Tal Bachman', 'Talain Rayne', 'Tally Hall', 'Tammy Wynette', 'Tanner Adell', 'Tay-K', 'Taylor Bickett', 'Taylor Dayne', 'Teddy Pendergrass', 'Teddy Swims', 'Tee Grizzley', 'Teen Jesus and the Jean Teasers', 'Temple Island', 'Tems', 'Ten Tonnes', 'Tenacious D', 'Teqkoi', 'Teriyaki Boyz', 'Terror Squad', 'Terry and The Dustriders', 'Tess Posner', 'Texas', 'Tez Cadey', 'Thad Jones', 'The 502s', 'The Academic', 'The Alan Parsons Project', 'The All Seeing I', 'The Amazons', 'The Ark', 'The Asteroids Galaxy Tour', 'The Ataris', 'The Avalanches', 'The Band Perry', 'The Bangles', 'The Beach Boys', 'The Beaches', 'The Beatles', 'The Bellamy Brothers', 'The Belle Brigade', 'The Ben Webster Quintet', 'The Blow Monkeys', 'The Boom Circuits', 'The Box Tops', 'The Bravery', 'The Breeders', 'The Calling', 'The Cardigans', 'The Cat Empire', 'The Charlie Daniels Band', 'The Chemical Brothers', 'The Chevin', 'The Chicks', 'The Chords', 'The City of Prague Philharmonic Orchestra', 'The Clamor', 'The Clocks', 'The Conall Band', 'The Contours', 'The Coral', 'The Coronas', 'The Corrs', 'The Crew Cuts', 'The Cribs', 'The Dandy Warhols', 'The Dead South', 'The Drums', 'The Emotions', 'The Enemy', 'The Features', 'The Feeling', 'The First Edition', 'The Fratellis', 'The Futureheads', 'The Game', 'The Greeting Committee', 'The Growlers', 'The Guess Who', 'The Hails', 'The Highwaymen', 'The Hives', 'The Hollies', 'The Honey Trees', 'The Honeysticks', 'The Hoosiers', 'The Horn', 'The Hourglass Effect', 'The Hunna', 'The Icarus Account', 'The Ink Spots', 'The Island Caribbean Steel Drum Band', 'The Isley Brothers', 'The Jacksons', 'The Joy Formidable', 'The Judds', 'The Kaizens', 'The Kiffness', 'The Kinks', 'The Last Dinner Party', 'The Last Goodnight', 'The Last Shadow Puppets', 'The Lathums', 'The Lester Young - Teddy Wilson Quartet', 'The Libertines', 'The Lighthouse And The Whaler', 'The Lily Dippers', 'The Limousines', 'The Living Tombstone', 'The Lonely Forest', 'The Lonely Island', \"The Lovin' Spoonful\", 'The Maccabees', 'The Magic Numbers', 'The Manhattans', 'The Marvelettes', 'The Melodians', 'The Memory Band', 'The Merrymen', 'The Meters', 'The Middle East', 'The Millennial Club', 'The Modern Jazz Quartet', 'The Moldy Peaches', 'The Monty Alexander Trio', 'The Morning Benders', 'The Moss', \"The Mowgli's\", 'The Naked And Famous', 'The Oak Ridge Boys', 'The Ordinary Boys', 'The Pasadenas', 'The Pharcyde', 'The Pigeon Detectives', 'The Pointer Sisters', 'The Postal Service', 'The Pretty Reckless', 'The Proclaimers', 'The Pussycat Dolls', 'The Rasmus', 'The Real Thing', 'The Red Clay Strays', 'The Reign of Kindo', 'The Rembrandts', 'The Revivalists', 'The Reytons', 'The Ricca Project', 'The Rifles', 'The Rolling Stones', 'The Roots', 'The Royal Concept', 'The Royalty', 'The Rumble Strips', 'The Saturdays', 'The Sherlocks', 'The Snuts', 'The Sometimes Island', 'The Space Ocean', 'The Specials', 'The Spinners', 'The Spring Standards', 'The Staycations', 'The Stone Roses', 'The Stooges', 'The Story So Far', 'The Streets', 'The Strypes', 'The Subways', 'The Sugarhill Gang', 'The Sun Kings', 'The Supermen Lovers', 'The Supremes', 'The Tano Jones Revelry', 'The Temper Trap', 'The The', 'The Ting Tings', 'The Tokens', 'The Trashmen', 'The Troggs', 'The Turtles', 'The Undertones', 'The Urban Tales', 'The Used', 'The Vaccines', 'The Vices', 'The View', 'The Wailers', 'The Walkers', 'The Wannadies', 'The Warhawks', 'The Weather Girls', 'The Whitest Boy Alive', 'The Wreckers', 'The Young International', 'The Zombies', 'The Zutons', 'Thee Sacred Souls', 'Thelonious Monk Quartet', 'Theo Tams', 'Therapy?', 'Third World', 'Thompson Square', 'Three 6 Mafia', 'Thundercat', 'ThxSoMch', 'Tia Blake', 'Tiera Kennedy', 'Tiffany Day', 'Tiffany Woys', 'Tight Fit', 'Tigirlily Gold', 'Tim Berg', 'Timmy Thomas', 'Tina Turner', 'Tinchy Stryder', 'Tink', 'Tipling Rock', 'Toddla T', 'Tokio Hotel', 'Tokyo Police Club', 'Tom Cochrane', 'Tom Jones', 'Tom Meighan', 'Tom Misch', 'Tom Odell', 'Tom Penny', 'Tom Rosenthal', 'Tom T. Hall', 'Tommy Boi', 'Tommy James & The Shondells', 'TommyMuzzic', 'Tones And I', 'Tony22', 'Too $hort', 'Toots & The Maytals', 'Toots Thielemans', 'Tooz', 'Tophouse', 'Tors', 'Towa Bird', 'Tracy Byrd', 'Trade Union', 'Trae Tha Truth', 'Tragic Love Company', 'TrashAssMusic', 'Travie McCoy', 'Travis', 'Travis Porter', 'Travis Thamert', 'Tre Svaint', 'Treaty Oak Revival', 'Trey Bryant', 'Trey Lewis', 'Trey Songz', 'Trick Daddy', 'Trinix Remix', 'Tripz', 'Troy', 'Troy Ave', 'Truth Hurts', 'Truxton Mile', 'Tucker Wetmore', 'Tweet', 'Twin Shadow', 'Two Door Cinema Club', 'Ty Gregory', 'Ty Myers', 'Ty Stonehawker', 'Tycho', 'Tyla', 'Tyla Yaweh', 'Tyler Bond', 'Tyler Burkhart', 'Tyler Hursey', 'Tyler James Williams', 'Tyrese', 'U.S. Royalty', 'U2', 'UCHE YARA', 'UGK', 'UMI', 'UNEJ', 'UR SO', 'USHER', 'Uncle Lucius', 'Unk', 'Unprocessed', 'Urge Overkill', 'V V Brown', 'V.I.C.', 'VANT', 'VARIATION', 'VDO', 'VIC MENSA', 'Van Morrison', 'Vanessa Doll', 'Vanilla Ice', 'Various Artists', 'VeggieTales', 'Velvet Wasted', 'Vera Blue', 'Vertical Horizon', 'Vian Izak', 'Victor Ray', 'Victor Thompson', 'Victoria Monét', 'Victorious Cast', 'Video Age', 'Vierre Cloud', 'Village People', 'Vincent Scotto', 'Viola Beach', 'Vluestar', 'Volt', 'Vundabar', 'VØJ', 'WATCH THE DUCK', 'WICKED', 'WILLIS', 'Wadiya Productions', 'Wailing Souls', 'Waka Flocka Flame', 'Wale', 'Walk off the Earth', 'Walter Murphy', 'War', 'Warm Brew', 'Warrant', 'Warren G', 'Warren Zeiders', 'Wasia Project', 'Waterfront Wranglers', 'Wayland', 'Waylon Hanel', 'Waylon Jennings', 'Wayne Shorter', 'Wayne Wade', 'Wayne Wonder', 'We Are Scientists', 'We Were Promised Jetpacks', 'Weather Report', 'Wendy Rene', 'Wes Montgomery', 'Wes Walker', 'WesGhost', 'Westlife', 'Westside Connection', 'Wet Leg', 'Wheatus', 'White Rabbits', 'White Town', 'Whitley', 'Wild Cherry', 'Wild Cub', 'Wiley', 'Will Morton', 'Will Roush', 'Will To Power', 'Will Young', 'Willa Ford', 'Willamette Stone', 'William Walton', 'Willliam Walton', 'Wilson Pickett', 'Wings', 'Winnetka Bowling League', 'Winona Fighter', 'Witchz', 'With Confidence', 'Womack & Womack', 'Wreckx-N-Effect', 'Wrongtom', 'Wu-Tang Clan', 'Wuki', 'Wunderhorse', 'Wyatt Flores', 'Wynton Marsalis', 'Wynton Marsalis Septet', 'XSpence', 'Xcellence!', 'Xuitcasecity', 'Y2K', 'YBN Nahmir', 'YG Marley', 'YNW Melly', 'Yall', 'Yam Haus', 'Yeat', 'Yebba', 'Yella Mann', 'Ying Yang Twins', 'Ylona Garcia', 'Ylvis', 'Yng Lvcas', 'Yo Gotti', 'Yolanda Be Cool', 'Young Bombs', 'Young Dolph', 'Young M.A', 'Young Money', 'Young Stoner Life', 'YoungBoy Never Broke Again', 'Youngblood Hawke', 'Youngbloodz', 'Your Favorite Down South Supplier', 'Youth Group', 'Youth Killed It', 'Yung Berg', 'Yung Joc', 'Yung Lean', 'Yung Pinch', 'Yuno', 'Yusef Lateef', 'Yusuf / Cat Stevens', 'Zac Brown Band', 'Zac Efron', 'Zac Greer', 'Zach Templar', 'Zelron', 'Zeph', 'Zhané', 'Zoe Ko', 'Zolita', '[Kyle Davis]', 'a kid named rufus', 'almost monday', 'alt-J', 'anees', 'banzai florist', 'basecamp', 'bbno$', 'bby', 'bixby', 'boy pablo', 'boygenius', 'cassö', 'clide', 'corook', 'd4vd', 'daydreamers', 'demxntia', 'dj 6rb', 'dodie', 'eli.', 'eliii', 'feeble little horse', 'fern', 'flipturn', 'flowerovlove', 'fragile flamingo', 'gianni & kyle', 'girli', 'grentperez', 'hanbee', 'hanuel', 'hey, nothing', 'hunter & wolfe', 'iNi Kamoze', 'iamjakehill', 'ilyTOMMY', 'iñigo quintero', 'jagger finn', 'juju<3', 'june', 'juno roome', 'keshi', 'khai dreams', 'killkiyoshi', 'late night drive home', 'lilbubblegum', 'lofi.samurai', 'mansionz', 'metr', 'mgk', 'morgxn', 'mousike', 'mxmtoon', 'pearl', 'pizzaboys', 'pluko', 'quinnie', 'raph', 're6ce', 'sadeyes', 'sagun', 'salvia palth', 'slchld', 'slowthai', 'sombr', 'space x', 'spring gang', 'sunkis', 'sunshine blvd.', 't.A.T.u.', 'the booyah! kids', 'theguiltyparty.', 'thủy', 'untrusted', 'wave to earth', 'wes', 'whyetc', 'will.i.am', 'yaeow', 'ymf', '¥$', 'ØZI', 'Ūla', '動物園釘子戶', '恐龍的皮', '落日飛車 Sunset Rollercoaster', '高爾宣 OSN'] will be ignored\n",
      "  warnings.warn(\n",
      "/usr/local/lib/python3.10/dist-packages/sklearn/preprocessing/_label.py:900: UserWarning: unknown class(es) ['112', '2nd II None', '4batz', '6ix9ine', '702', '88rising', 'A-Wall', 'ABBA', 'AGA', 'ALTÉGO', 'ANTH', 'ASTN', 'ATARASHII GAKKO!', 'Aaliyah', 'Abigail Bleu', 'Abigail Fierce', 'Adam Hicks', 'Adam Lambert', 'Adele', 'Adina Howard', 'Afgan', 'Albert Hammond Jr', 'Alex Porat', 'Alex Turner', 'Alexander 23', 'Alexander Rybak', 'Alvvays', 'Amanda Seyfried', 'Anamanaguchi', 'Andrei Munteanu', 'Angie Stone', 'Ansel Elgort', 'Ari Lennox', 'Arrested Development', 'Ashanti', 'Ashley Alisha', 'Ashley O', 'Atlus', 'Audio Push', 'Austin George', 'Austin Snell', 'Avant', 'Avril Lavigne', 'Azealia Banks', 'B.E.R.', 'B2K', 'BROCKHAMPTON', 'Baauer', 'Baby Keem', 'BabyJake', 'Bad Bad Hats', 'Bad Suns', 'Baha Men', 'Bakar', 'Ball Greezy', 'Bancali', 'Banda AL9', 'Bando Jonez', 'Bankrol Hayden', 'Beenie Man', 'Bell Biv DeVoe', 'Belly', 'Ben Lawrence', 'BertieBanz', 'Big Boss Vette', 'Big Thief', 'Big Time Rush', 'BigXthaPlug', 'Black Kids', 'Blackstreet', 'Blanks', 'Blue Foundation', 'Bo Burnham', 'Bobby V.', 'Booba', 'Bow Wow', 'Braden Bales', 'Brandon Beal', 'Brandy', 'Breaking Beattz', 'Brent Faiyaz', 'Bridgit Mendler', 'Brothers Osborne', 'Bruno Major', 'Brye', 'Budman.', 'CHIKA', 'Cal Scruby', 'Camp Lo', 'Carnage', 'Carrie Q', 'Cartel De Santa', 'Case', 'Cassie', 'Chamillionaire', 'Chantel Jeffries', 'Chase Atlantic', 'Chase Matthew', 'Chayanne', 'Cheb Mami', 'Chico Rose', 'Childish Gambino', 'Chingy', 'Christine Baranski', 'Chromeo', 'Ciara', 'Cir.Cuz', 'City Girls', 'Cleo Sol', 'Clipse', 'Coco Jones', 'Cody Jinks', 'Colbie Caillat', 'Cole Phillips', 'Colony House', 'Connor Price', 'Corb Lund', 'Cory Wong', 'Coyote Theory', 'Craig David', \"D'Angelo\", 'DESTIN CONRAD', 'DIRTYXAN', 'DJ Comento', 'DJ Jazzy Jeff & The Fresh Prince', 'DJ Khaled', 'DJ Rapture', 'DLU Kemp', 'DOPE LEMON', 'DPR IAN', 'DRAMA', 'DVBBS', 'DVRST', 'DXSTINY', 'Daisy Jones & The Six', 'Darell', 'Dave', 'Dave Hollister', 'David Morris', 'Day Wave', 'Dayglow', 'Ddark', 'Dem Franchize Boyz', 'Dept', \"Destiny's Child\", 'Devin Kennedy', 'Dhruv', 'Die Antwoord', 'Digitalism', 'Dimitri Vangelis & Wyman', 'Dj Laz', 'Djo', 'Doc Gynéco', 'Donell Jones', \"Dre'es\", 'Dream Easy Collective', 'Dreamville', 'Earlay', 'Easton Corbin', 'Eddie Zuko', 'Egg', 'Electric Guest', 'Elina', 'Eliza Rose', 'Ella Mai', 'Ellery Bonham', 'Emblem3', 'Emily Burns', 'Empire Of The Sun', 'Eric B. & Rakim', 'Eric Bellinger', 'Erykah Badu', 'Eugene Wilde', 'Eve', 'Everlong', 'Everything Everything', 'Ezra Williams', 'F.L.Y. (Fast Life Yungstaz)', 'FORTELLA', 'Fabian Secon', 'Fabolous', 'Fat Joe', 'Fatman Scoop', 'Fefe Dobson', 'Fiji Blue', 'Finding Hope', 'Fireboy DML', 'Flight Facilities', 'Fontaines D.C.', 'Forrest Frank', 'Foxy Brown', 'Freaks & Geeks', 'Freya Ridings', 'Fridayy', 'Fruit Bats', 'Fujii Kaze', 'G-Unit', 'GAWNE', 'GEMINI', 'GRAHAM', 'GROUPLOVE', 'Gabrielle', 'Gallant', 'Gareth.T', 'Garth Brooks', 'Gavin Adcock', 'Genevieve Stokes', 'Geowulf', 'Girlicious', 'Glisha', 'Good Kid', 'Good Times Ahead', 'Grace Carter', 'Grass', 'Guru', 'Gus Dapperton', 'Gyptian', 'H.E.R.', 'HAARPER', 'HAIM', 'HIIT BPM', 'HONNE', 'HYBS', 'Hailee Steinfeld', 'Hank Williams, Jr.', 'Hannah Montana', 'Hard Lights', 'Harrison Boe', 'Headie One', 'Heavy D & The Boyz', 'Heidi Montag', 'Henrik', 'Hermitude', 'High School Musical Cast', 'Hiko', 'Hippie Sabotage', 'Hippo Campus', 'Hojean', 'Horace Brown', 'Hurricane Chris', 'Iggy Azalea', 'Indila', 'Inhaler', 'Isac Elliot', 'J-Kwon', 'J. Holiday', 'J. Maya', 'JHIN', 'JON VINYL', 'JW Velly', 'Ja Rule', 'Jack Kays', \"Jack Stauber's Micropop\", 'Jacob Collier', 'Jacquees', 'Jada Facer', 'Jade LeMac', 'Jagged Edge', 'Jaheim', 'Jake Banfield', 'Jalen Santoy', 'James Smith', 'Jamie Foxx', 'Janet Jackson', 'Jay.f.k beats', 'JayDaYoungan', 'Jazz Cartier', 'Jelani Aryeh', 'Jenna Raine', 'Jeremy Passion', 'Jesse Barrera', 'Jessica Mauboy', 'Jessie J', 'Jez Dior', 'JoJo', 'Joe', 'Johnny Gill', 'Johnny Stimson', 'Jontae', 'Jordan Ward', 'Josh Levi', 'Judah & the Lion', 'Julia Alexa', 'Julia Jacklin', 'Justin Champagne', 'J€AN-MARC', 'KAIRO', 'KIIINGSAM', 'KIRBY', 'Kaash Paige', 'Kaden MacKay', 'Kadri Williams', 'Kamal.', 'Kandi', 'Kat Deluna', 'Kauai45', 'Keanu Bicol', 'Keke Palmer', 'Kelis', 'Kelly Clarkson', 'Kenneth Koultre', 'Kenny Wayne Shepherd', 'Keri Hilson', 'Kermit', 'Kevin Abstract', 'Kevin Gates', 'Khia', 'Khruangbin', 'Kid Travis', 'Kids That Fly', 'Kina', 'King Von', 'Kings of Leon', 'Kinneret', 'KnowKnow', 'Koi', 'Kristinia DeBarge', 'Ktlyn', 'Kuwada', 'Kxlly', 'Kyle Hume', 'LL COOL J', 'LUCKI', 'La La La La', 'Lainey Wilson', 'Landon Austin', 'Leah Kate', 'Leah Marie Perez', 'Leanna Firestone', 'Lemar', 'Leon Thomas', 'Lewis Capaldi', 'Lexi Jayde', 'Lil Mabu', 'Lil Tecca', 'Lime Cordiale', 'Lizzy McAlpine', 'Lloyd', 'Lloyd Banks', 'Local Natives', 'Logan Ledger', 'Lojay', 'Lonr.', 'Louis Tomlinson', 'Lovejoy', 'Lucy Pearl', 'Luke Chiang', 'Lydell Lucky', 'Lyfe Jennings', 'MARVIN', 'MASN', 'MC Eiht', 'MEG MYERS', 'Mac Ayres', 'Mackenzie Testa', 'Madcon', 'Madilyn Mei', 'Maeta', 'Maggie Lindemann', 'Maitchhh', 'Manchester Orchestra', 'Marcus & Martinus', 'Mariah the Scientist', 'Mario', 'Mark Morrison', 'Maryon', 'Mason', 'Matt', 'Maxwell', 'Meek Mill', 'Meet Me @ The Altar', \"Meli'sa Morgan\", 'Melo-D', 'Meryl Streep', 'Method Man', 'Metronomy', 'Michael Constantino', 'Michael Franti & Spearhead', 'Michael Gray', 'Michael Schulte', 'Michelle Branch', 'Midi Monstaz', 'Migos', 'Miguel', 'Mike WiLL Made-It', 'Miles Gaston Villanueva', 'Milky Day', 'Miniature Tigers', 'Miracle Musical', 'Miranda Cosgrove', 'Mirla Avila', 'Mitch Rowland', 'Mokita', 'Monica', 'Monrroe', 'Montell Fish', 'Moon Taxi', 'Moon Walker', 'Munn', 'Ménélik', 'NIKI', 'NLE Choppa', 'Naomi Scott', 'Nate Feuerstein', 'Nelly', 'Nessbeal', 'Nevada', 'New Edition', 'Nic D', 'Nick Jonas', 'Nicole Scherzinger', 'Niko B', 'Nitty Gritty Dirt Band', 'Nivea', 'Niykee Heaton', 'No Vacation', 'Normani', 'Nothing But Thieves', 'O.A.R.', 'ODESZA', 'OHGEESY', 'Ocean Alley', 'Odd Future', 'Omah Lay', 'Omarion', 'Orianthi', 'Outkast', 'Oxlade', 'PARIS The Prince', 'PLVTINUM', 'Pacific Avenue', 'Patience & Prudence', 'Paul Blanco', 'Pauline Zoe Park', 'Peach Pit', 'Pebbles', 'Phoenix', 'Phony Ppl', 'Phora', 'Piff Marti', 'Popp Hunna', 'Portugal. The Man', 'Positive K', 'Pretty Ricky', 'Priscilla Renea', 'Quarters of Change', 'Queen Naija', 'RL Grime', 'Rangga Jones', 'Rauf & Faik', 'Ray J', 'RealestK', 'Rebounder', 'Reneé Rapp', 'Robert Grace', 'Royel Otis', 'Ruff Endz', 'Rundown Spaz', 'Russ', 'Ryan Caraveo', 'Ryan Leslie', 'Ryan Oakes', 'Ryan.B', 'Ryn Weaver', 'S1mba', 'SAYGRACE', 'SCRUBB', 'SEB', 'SHOP BOYZ', 'SIX60', 'SNBRN', 'SOLOMON', 'SWV', 'Sabrina Claudio', 'Sadie Hawkins', 'Sage The Gemini', 'Saian Supa Crew', 'Salt-N-Pepa', 'Sam Kim', 'Sam Ock', 'Sandëro', 'Schmarx & Savvy', 'Scorey', 'Sean Kingston', 'Seann Bowe', 'September', 'Shabazz PBG', 'Shakaya', 'Shakka', 'Shola Ama', 'SiR', 'Sik World', 'Silk City', 'Sinéad Harnett', 'Sjowgren', 'Sky McCreery', 'Slaï', 'Smif-N-Wessun', 'Soccer Mommy', \"Someone Else's Rain\", 'Sonder', 'Soul For Real', 'Soul II Soul', 'Sped Up Songs + Nightcore', 'Stan Walker', 'Stardust', 'StaySolidRocky', 'Stephanie Poetri', 'Stephen Swartz', 'Steve Lacy', 'Stomy Bugsy', 'Stormaxxi', 'Strandz', 'Styles P', 'Sugiwon', 'Summer Walker', 'Sun Rai', 'Sushi Soucy', 'Suzi', 'Swoltie', 'Sylo', 'THE DRIVER ERA', 'THEY.', 'TLC', 'TQ', 'TYuS', 'Tag Team', 'Takayoshi', 'Tally Hall', 'Taylor Bickett', 'Teddy Swims', 'Tee Grizzley', 'Tems', 'Tenacious D', 'Teqkoi', 'The 502s', 'The All Seeing I', 'The Avalanches', 'The Cardigans', 'The Chicks', 'The Chords', 'The Drums', 'The Greeting Committee', 'The Growlers', 'The Honeysticks', 'The Isley Brothers', 'The Last Goodnight', 'The Millennial Club', 'The Moldy Peaches', 'The Moss', 'The Snuts', 'The Whitest Boy Alive', 'Thee Sacred Souls', 'Tia Blake', 'Tiffany Day', 'Tink', 'Tom Rosenthal', 'Tommy Boi', 'Tony22', 'Tooz', 'Tophouse', 'Tors', 'Trae Tha Truth', 'TrashAssMusic', 'Treaty Oak Revival', 'Trick Daddy', 'Trinix Remix', 'Troy', 'Troy Ave', 'Truth Hurts', 'Tweet', 'Twin Shadow', 'Two Door Cinema Club', 'Ty Myers', 'Tyla', 'Tyla Yaweh', 'Tyler Burkhart', 'Tyler James Williams', 'Tyrese', 'UMI', 'USHER', 'VIC MENSA', 'VeggieTales', 'Vian Izak', 'Victor Ray', 'Victor Thompson', 'Victoria Monét', 'Victorious Cast', 'Vierre Cloud', 'Volt', 'Wale', 'Warm Brew', 'Wayne Wonder', 'Wes Walker', 'Wet Leg', 'Willa Ford', 'Willamette Stone', 'Witchz', 'With Confidence', 'Wreckx-N-Effect', 'Wyatt Flores', 'Xuitcasecity', 'YBN Nahmir', 'Yebba', 'Ying Yang Twins', 'Ylona Garcia', 'Yo Gotti', 'Young Dolph', 'Youngbloodz', 'Your Favorite Down South Supplier', 'Yung Berg', 'Yung Pinch', 'Yuno', 'Zac Efron', 'Zac Greer', 'Zeph', 'Zhané', '[Kyle Davis]', 'almost monday', 'basecamp', 'bbno$', 'bixby', 'boygenius', 'clide', 'corook', 'demxntia', 'gianni & kyle', 'girli', 'grentperez', 'hey, nothing', 'iNi Kamoze', 'iamjakehill', 'keshi', 'khai dreams', 'mansionz', 'mgk', 'mxmtoon', 'pearl', 'pluko', 'quinnie', 'raph', 'sadeyes', 'salvia palth', 'slchld', 'space x', 'spring gang', 'sunkis', 'thủy', 'wave to earth', 'yaeow', '¥$', 'ØZI', 'Ūla'] will be ignored\n",
      "  warnings.warn(\n"
     ]
    }
   ],
   "source": [
    "# Add genres to the dataset\n",
    "full_dataset_df[\"genre\"] = get_genres(full_dataset_df)\n",
    "last_rows_index = full_dataset_df.tail(1703).index\n",
    "full_dataset_df.loc[last_rows_index, 'genre'] = get_genres(full_dataset_df.loc[last_rows_index])"
   ]
  },
  {
   "cell_type": "code",
   "execution_count": 21,
   "id": "HeqZ-wRaYydj",
   "metadata": {
    "colab": {
     "base_uri": "https://localhost:8080/"
    },
    "id": "HeqZ-wRaYydj",
    "outputId": "1c2f9cb5-d107-491b-cc1c-cef5e817b90e"
   },
   "outputs": [
    {
     "data": {
      "text/plain": [
       "0"
      ]
     },
     "execution_count": 21,
     "metadata": {},
     "output_type": "execute_result"
    }
   ],
   "source": [
    "# Check for any rows where genres are null\n",
    "full_dataset_df[\"genre\"].isnull().sum()"
   ]
  },
  {
   "cell_type": "markdown",
   "id": "USbU707s30Bj",
   "metadata": {
    "id": "USbU707s30Bj"
   },
   "source": [
    "As you can see we successfully got the genres for all rows. After this, we can save our dataframe into csv file. Do note that we already attached 'spotify_playlist_dataset.csv' in the repository, so you do not need to run this."
   ]
  },
  {
   "cell_type": "code",
   "execution_count": 48,
   "id": "q1_3qEunKAAg",
   "metadata": {
    "id": "q1_3qEunKAAg"
   },
   "outputs": [],
   "source": [
    "#full_dataset_df.to_csv('spotify_playlist_dataset.csv')"
   ]
  },
  {
   "cell_type": "markdown",
   "id": "_PhN5NfM4ACs",
   "metadata": {
    "id": "_PhN5NfM4ACs"
   },
   "source": [
    "## Data Preparation - Data Preprocessing"
   ]
  },
  {
   "cell_type": "markdown",
   "id": "wdobV04w4Etl",
   "metadata": {
    "id": "wdobV04w4Etl"
   },
   "source": [
    "We will now be preprocessing our data, by making all categorical features numeric. We will be making use of one-hot encoding to do so. <br>\n",
    "\n",
    "Then, we will make use of an autoencoder model to further reduce the dimensionality and improve the richness of the features of our model. <br>\n",
    "\n",
    "Then, we will be scaling and normalising our features before finally making use of them in our model."
   ]
  },
  {
   "cell_type": "code",
   "execution_count": 22,
   "id": "54a65d50",
   "metadata": {
    "colab": {
     "base_uri": "https://localhost:8080/"
    },
    "id": "54a65d50",
    "outputId": "1fb39740-34ce-42c8-abc6-3f425604a03b"
   },
   "outputs": [
    {
     "name": "stdout",
     "output_type": "stream",
     "text": [
      "<class 'pandas.core.frame.DataFrame'>\n",
      "Index: 11793 entries, 0 to 17579\n",
      "Data columns (total 38 columns):\n",
      " #   Column            Non-Null Count  Dtype  \n",
      "---  ------            --------------  -----  \n",
      " 0   Track Name        11793 non-null  object \n",
      " 1   artists           11793 non-null  object \n",
      " 2   popularity        11793 non-null  int64  \n",
      " 3   release_year      11793 non-null  int64  \n",
      " 4   danceability      11793 non-null  float64\n",
      " 5   energy            11793 non-null  float64\n",
      " 6   loudness          11793 non-null  float64\n",
      " 7   speechiness       11793 non-null  float64\n",
      " 8   acousticness      11793 non-null  float64\n",
      " 9   instrumentalness  11793 non-null  float64\n",
      " 10  liveness          11793 non-null  float64\n",
      " 11  valence           11793 non-null  float64\n",
      " 12  tempo             11793 non-null  float64\n",
      " 13  duration_ms       11793 non-null  int64  \n",
      " 14  time_signature    11793 non-null  int64  \n",
      " 15  key_0             11793 non-null  int64  \n",
      " 16  key_1             11793 non-null  int64  \n",
      " 17  key_2             11793 non-null  int64  \n",
      " 18  key_3             11793 non-null  int64  \n",
      " 19  key_4             11793 non-null  int64  \n",
      " 20  key_5             11793 non-null  int64  \n",
      " 21  key_6             11793 non-null  int64  \n",
      " 22  key_7             11793 non-null  int64  \n",
      " 23  key_8             11793 non-null  int64  \n",
      " 24  key_9             11793 non-null  int64  \n",
      " 25  key_10            11793 non-null  int64  \n",
      " 26  key_11            11793 non-null  int64  \n",
      " 27  mode_0            11793 non-null  int64  \n",
      " 28  mode_1            11793 non-null  int64  \n",
      " 29  genre_0           11793 non-null  int64  \n",
      " 30  genre_1           11793 non-null  int64  \n",
      " 31  genre_2           11793 non-null  int64  \n",
      " 32  genre_3           11793 non-null  int64  \n",
      " 33  genre_4           11793 non-null  int64  \n",
      " 34  genre_5           11793 non-null  int64  \n",
      " 35  genre_6           11793 non-null  int64  \n",
      " 36  explicit_False    11793 non-null  int64  \n",
      " 37  explicit_True     11793 non-null  int64  \n",
      "dtypes: float64(9), int64(27), object(2)\n",
      "memory usage: 3.8+ MB\n"
     ]
    }
   ],
   "source": [
    "scaler = StandardScaler()\n",
    "categorical_features = ['key', 'mode', 'genre','explicit']\n",
    "numerical_features = ['duration_ms', 'danceability', 'energy', 'loudness', 'speechiness', 'acousticness', 'instrumentalness', 'liveness', 'valence', 'tempo','popularity']\n",
    "full_dataset_df = pd.get_dummies(full_dataset_df, columns=categorical_features)\n",
    "\n",
    "# Listout one-Hot encoded features\n",
    "final_categorical_features = ['key_0','key_1','key_2','key_3','key_4','key_5','key_6','key_7','key_8','key_9','key_10','key_11','mode_0','mode_1', 'genre_0', 'genre_1', 'genre_2', 'genre_3', 'genre_4', 'genre_5', 'genre_6','explicit_False','explicit_True']\n",
    "for column in final_categorical_features:\n",
    "    full_dataset_df[column] = full_dataset_df[column].astype(int)\n",
    "\n",
    "full_dataset_df.info()\n",
    "\n",
    "scaled_full_dataset_df = full_dataset_df.copy()\n",
    "scaled_full_dataset_df[numerical_features] = scaler.fit_transform(scaled_full_dataset_df[numerical_features])"
   ]
  },
  {
   "cell_type": "markdown",
   "id": "Lfn03rvLFInu",
   "metadata": {
    "id": "Lfn03rvLFInu"
   },
   "source": [
    "## Autoencoder Model"
   ]
  },
  {
   "cell_type": "markdown",
   "id": "8aoFV83QFNwK",
   "metadata": {
    "id": "8aoFV83QFNwK"
   },
   "source": [
    "To achieve dimensionality reduction, one of the methods that we will be using is an **Autoencoder neural network**. An autoencoder is made out of 2 parts, an encoder and a decoder. The encoder section applies transformations onto the input data, **reducing the dimensionality of data** in each layer. This is done until it reaches a low-dimensional bottleneck. This bottleneck captures the essential features of the data. The decoder then tries to **reconstruct the original data** from this compressed representation. How different the resulting output is from the original is taken as the **loss function**."
   ]
  },
  {
   "cell_type": "markdown",
   "id": "TANx0B1BM4h2",
   "metadata": {
    "id": "TANx0B1BM4h2"
   },
   "source": [
    "### Unweighted autoencoder model\n",
    "The Unweighted Autoencoder **does not assign different importances to different features** when calculating the loss during training. It treats all errors between the reconstructed output and the original input equally across the dataset. This is useful for dataset with features that have around the same importances and is generally simpler than the weighted variant."
   ]
  },
  {
   "cell_type": "code",
   "execution_count": 23,
   "id": "TtHvcIp5M9vi",
   "metadata": {
    "colab": {
     "base_uri": "https://localhost:8080/"
    },
    "id": "TtHvcIp5M9vi",
    "outputId": "4ae56a17-4154-44a8-c911-81e023f9ce86"
   },
   "outputs": [
    {
     "name": "stdout",
     "output_type": "stream",
     "text": [
      "Epoch 1/50\n",
      "37/37 [==============================] - 2s 13ms/step - loss: 1576384000.0000 - val_loss: 1269431296.0000\n",
      "Epoch 2/50\n",
      "37/37 [==============================] - 0s 8ms/step - loss: 1576384000.0000 - val_loss: 1269431296.0000\n",
      "Epoch 3/50\n",
      "37/37 [==============================] - 0s 6ms/step - loss: 1576384000.0000 - val_loss: 1269431296.0000\n",
      "Epoch 4/50\n",
      "37/37 [==============================] - 0s 6ms/step - loss: 1576383872.0000 - val_loss: 1269431296.0000\n",
      "Epoch 5/50\n",
      "37/37 [==============================] - 0s 7ms/step - loss: 1576384000.0000 - val_loss: 1269431296.0000\n",
      "Epoch 6/50\n",
      "37/37 [==============================] - 0s 8ms/step - loss: 1576383872.0000 - val_loss: 1269431296.0000\n",
      "Epoch 7/50\n",
      "37/37 [==============================] - 0s 6ms/step - loss: 1576384000.0000 - val_loss: 1269431296.0000\n",
      "Epoch 8/50\n",
      "37/37 [==============================] - 0s 7ms/step - loss: 1576383872.0000 - val_loss: 1269431296.0000\n",
      "Epoch 9/50\n",
      "37/37 [==============================] - 0s 7ms/step - loss: 1576384128.0000 - val_loss: 1269431296.0000\n",
      "Epoch 10/50\n",
      "37/37 [==============================] - 0s 6ms/step - loss: 1576384128.0000 - val_loss: 1269431296.0000\n",
      "Epoch 11/50\n",
      "37/37 [==============================] - 0s 6ms/step - loss: 1576384128.0000 - val_loss: 1269431296.0000\n",
      "Epoch 12/50\n",
      "37/37 [==============================] - 0s 6ms/step - loss: 1576384128.0000 - val_loss: 1269431296.0000\n",
      "Epoch 13/50\n",
      "37/37 [==============================] - 0s 7ms/step - loss: 1576384000.0000 - val_loss: 1269431296.0000\n",
      "Epoch 14/50\n",
      "37/37 [==============================] - 0s 6ms/step - loss: 1576384128.0000 - val_loss: 1269431296.0000\n",
      "Epoch 15/50\n",
      "37/37 [==============================] - 0s 6ms/step - loss: 1576384128.0000 - val_loss: 1269431296.0000\n",
      "Epoch 16/50\n",
      "37/37 [==============================] - 0s 6ms/step - loss: 1576384000.0000 - val_loss: 1269431296.0000\n",
      "Epoch 17/50\n",
      "37/37 [==============================] - 0s 6ms/step - loss: 1576384256.0000 - val_loss: 1269431296.0000\n",
      "Epoch 18/50\n",
      "37/37 [==============================] - 0s 7ms/step - loss: 1576384128.0000 - val_loss: 1269431296.0000\n",
      "Epoch 19/50\n",
      "37/37 [==============================] - 0s 7ms/step - loss: 1576384128.0000 - val_loss: 1269431296.0000\n",
      "Epoch 20/50\n",
      "37/37 [==============================] - 0s 6ms/step - loss: 1576383744.0000 - val_loss: 1269431296.0000\n",
      "Epoch 21/50\n",
      "37/37 [==============================] - 0s 6ms/step - loss: 1576383872.0000 - val_loss: 1269431296.0000\n",
      "Epoch 22/50\n",
      "37/37 [==============================] - 0s 7ms/step - loss: 1576383744.0000 - val_loss: 1269431296.0000\n",
      "Epoch 23/50\n",
      "37/37 [==============================] - 0s 6ms/step - loss: 1576383744.0000 - val_loss: 1269431296.0000\n",
      "Epoch 24/50\n",
      "37/37 [==============================] - 0s 7ms/step - loss: 1576384000.0000 - val_loss: 1269431296.0000\n",
      "Epoch 25/50\n",
      "37/37 [==============================] - 0s 6ms/step - loss: 1576384000.0000 - val_loss: 1269431296.0000\n",
      "Epoch 26/50\n",
      "37/37 [==============================] - 0s 6ms/step - loss: 1576383744.0000 - val_loss: 1269431296.0000\n",
      "Epoch 27/50\n",
      "37/37 [==============================] - 0s 7ms/step - loss: 1576384000.0000 - val_loss: 1269431296.0000\n",
      "Epoch 28/50\n",
      "37/37 [==============================] - 0s 7ms/step - loss: 1576384128.0000 - val_loss: 1269431296.0000\n",
      "Epoch 29/50\n",
      "37/37 [==============================] - 0s 6ms/step - loss: 1576384128.0000 - val_loss: 1269431296.0000\n",
      "Epoch 30/50\n",
      "37/37 [==============================] - 0s 6ms/step - loss: 1576383872.0000 - val_loss: 1269431296.0000\n",
      "Epoch 31/50\n",
      "37/37 [==============================] - 0s 10ms/step - loss: 1576384128.0000 - val_loss: 1269431296.0000\n",
      "Epoch 32/50\n",
      "37/37 [==============================] - 0s 10ms/step - loss: 1576384000.0000 - val_loss: 1269431296.0000\n",
      "Epoch 33/50\n",
      "37/37 [==============================] - 0s 10ms/step - loss: 1576384128.0000 - val_loss: 1269431296.0000\n",
      "Epoch 34/50\n",
      "37/37 [==============================] - 0s 10ms/step - loss: 1576383872.0000 - val_loss: 1269431296.0000\n",
      "Epoch 35/50\n",
      "37/37 [==============================] - 0s 9ms/step - loss: 1576383872.0000 - val_loss: 1269431296.0000\n",
      "Epoch 36/50\n",
      "37/37 [==============================] - 0s 9ms/step - loss: 1576383872.0000 - val_loss: 1269431296.0000\n",
      "Epoch 37/50\n",
      "37/37 [==============================] - 0s 11ms/step - loss: 1576383744.0000 - val_loss: 1269431296.0000\n",
      "Epoch 38/50\n",
      "37/37 [==============================] - 0s 10ms/step - loss: 1576384000.0000 - val_loss: 1269431296.0000\n",
      "Epoch 39/50\n",
      "37/37 [==============================] - 0s 6ms/step - loss: 1576384128.0000 - val_loss: 1269431296.0000\n",
      "Epoch 40/50\n",
      "37/37 [==============================] - 0s 6ms/step - loss: 1576384000.0000 - val_loss: 1269431296.0000\n",
      "Epoch 41/50\n",
      "37/37 [==============================] - 0s 7ms/step - loss: 1576383616.0000 - val_loss: 1269431296.0000\n",
      "Epoch 42/50\n",
      "37/37 [==============================] - 0s 6ms/step - loss: 1576384000.0000 - val_loss: 1269431296.0000\n",
      "Epoch 43/50\n",
      "37/37 [==============================] - 0s 6ms/step - loss: 1576384000.0000 - val_loss: 1269431296.0000\n",
      "Epoch 44/50\n",
      "37/37 [==============================] - 0s 6ms/step - loss: 1576384128.0000 - val_loss: 1269431296.0000\n",
      "Epoch 45/50\n",
      "37/37 [==============================] - 0s 6ms/step - loss: 1576384128.0000 - val_loss: 1269431296.0000\n",
      "Epoch 46/50\n",
      "37/37 [==============================] - 0s 6ms/step - loss: 1576384128.0000 - val_loss: 1269431296.0000\n",
      "Epoch 47/50\n",
      "37/37 [==============================] - 0s 7ms/step - loss: 1576383872.0000 - val_loss: 1269431296.0000\n",
      "Epoch 48/50\n",
      "37/37 [==============================] - 0s 8ms/step - loss: 1576383872.0000 - val_loss: 1269431296.0000\n",
      "Epoch 49/50\n",
      "37/37 [==============================] - 0s 7ms/step - loss: 1576384000.0000 - val_loss: 1269431296.0000\n",
      "Epoch 50/50\n",
      "37/37 [==============================] - 0s 6ms/step - loss: 1576383744.0000 - val_loss: 1269431296.0000\n"
     ]
    }
   ],
   "source": [
    "# Exclude non-numeric features like 'Track Name', 'Artist Name' for input\n",
    "input_dim = full_dataset_df.shape[1] - 2\n",
    "\n",
    "# Encoder/Decoder definition (Hyperparameters were tuned such that optimal results were given)\n",
    "input_layer = Input(shape=(input_dim,))\n",
    "encoded = Dense(128, activation='relu')(input_layer)\n",
    "encoded = Dense(64, activation='relu')(encoded)\n",
    "encoded = Dense(32, activation='relu')(encoded)\n",
    "decoded = Dense(64, activation='relu')(encoded)\n",
    "decoded = Dense(128, activation='relu')(decoded)\n",
    "decoded = Dense(input_dim, activation='sigmoid')(decoded)\n",
    "\n",
    "# Compile the autoencoder\n",
    "autoencoder = Model(input_layer, decoded)\n",
    "autoencoder.compile(optimizer='adam', loss='mean_squared_error')\n",
    "\n",
    "# Prepare data for training\n",
    "\n",
    "# Use numeric data only\n",
    "X_train = full_dataset_df.drop(['Track Name', 'artists'], axis=1)\n",
    "\n",
    "# Convert to float32 to ensure compatibility with TensorFlow\n",
    "X_train = X_train.astype('float32')\n",
    "\n",
    "# Train the autoencoder\n",
    "autoencoder.fit(X_train, X_train, epochs=50, batch_size=256, validation_split=0.2)\n",
    "\n",
    "# Create a separate encoder model from the full autoencoder\n",
    "unweighted_encoder = Model(input_layer, encoded)"
   ]
  },
  {
   "cell_type": "markdown",
   "id": "f5DXEbasM0OM",
   "metadata": {
    "id": "f5DXEbasM0OM"
   },
   "source": [
    "### Weighted autoencoder model"
   ]
  },
  {
   "cell_type": "markdown",
   "id": "ae033197",
   "metadata": {
    "id": "ae033197"
   },
   "source": [
    "The Weighted Autoencoder can **assign different weights to features**, allowing the model to prioritise minimising the error cost of specific features over the others during training. In this autoencoder model, we will be adjusting the weights based on the feature importance in deciding a song's popularity that we found earlier in the second notebook (Part 2: Music Popularity Model).\n",
    "\n",
    "The weights of **music genre, explicit lyrics, release year, instrumentalness** will be adjusted upwards while the weights of **key, mode and danceability** are adjusted downwards. Artist names are not included in our recommender system as it requires multilabel binarizer and will create too many features for our small-scaled recommender system.\n",
    "\n",
    "We will be simulating this in the model by simply multiplying the values by a number greater than one for the more important features, and a number less than one for a less important feature."
   ]
  },
  {
   "cell_type": "code",
   "execution_count": 24,
   "id": "zMcD4gQDBb1z",
   "metadata": {
    "colab": {
     "base_uri": "https://localhost:8080/"
    },
    "id": "zMcD4gQDBb1z",
    "outputId": "4d4101d6-8353-48f5-dec7-8ab9627dac3f"
   },
   "outputs": [
    {
     "name": "stdout",
     "output_type": "stream",
     "text": [
      "Epoch 1/50\n",
      "37/37 [==============================] - 2s 11ms/step - loss: 1576401024.0000 - val_loss: 1269447424.0000\n",
      "Epoch 2/50\n",
      "37/37 [==============================] - 0s 6ms/step - loss: 1576395008.0000 - val_loss: 1269435904.0000\n",
      "Epoch 3/50\n",
      "37/37 [==============================] - 0s 8ms/step - loss: 1576388352.0000 - val_loss: 1269435904.0000\n",
      "Epoch 4/50\n",
      "37/37 [==============================] - 0s 8ms/step - loss: 1576388352.0000 - val_loss: 1269435904.0000\n",
      "Epoch 5/50\n",
      "37/37 [==============================] - 0s 7ms/step - loss: 1576388352.0000 - val_loss: 1269435904.0000\n",
      "Epoch 6/50\n",
      "37/37 [==============================] - 0s 6ms/step - loss: 1576388352.0000 - val_loss: 1269435904.0000\n",
      "Epoch 7/50\n",
      "37/37 [==============================] - 0s 7ms/step - loss: 1576388480.0000 - val_loss: 1269435904.0000\n",
      "Epoch 8/50\n",
      "37/37 [==============================] - 0s 6ms/step - loss: 1576388480.0000 - val_loss: 1269435904.0000\n",
      "Epoch 9/50\n",
      "37/37 [==============================] - 0s 6ms/step - loss: 1576388352.0000 - val_loss: 1269435904.0000\n",
      "Epoch 10/50\n",
      "37/37 [==============================] - 0s 6ms/step - loss: 1576388480.0000 - val_loss: 1269435904.0000\n",
      "Epoch 11/50\n",
      "37/37 [==============================] - 0s 6ms/step - loss: 1576388352.0000 - val_loss: 1269435904.0000\n",
      "Epoch 12/50\n",
      "37/37 [==============================] - 0s 7ms/step - loss: 1576388352.0000 - val_loss: 1269435904.0000\n",
      "Epoch 13/50\n",
      "37/37 [==============================] - 0s 6ms/step - loss: 1576388608.0000 - val_loss: 1269435904.0000\n",
      "Epoch 14/50\n",
      "37/37 [==============================] - 0s 6ms/step - loss: 1576388352.0000 - val_loss: 1269435904.0000\n",
      "Epoch 15/50\n",
      "37/37 [==============================] - 0s 6ms/step - loss: 1576388352.0000 - val_loss: 1269435904.0000\n",
      "Epoch 16/50\n",
      "37/37 [==============================] - 0s 6ms/step - loss: 1576388480.0000 - val_loss: 1269435904.0000\n",
      "Epoch 17/50\n",
      "37/37 [==============================] - 0s 6ms/step - loss: 1576388352.0000 - val_loss: 1269435904.0000\n",
      "Epoch 18/50\n",
      "37/37 [==============================] - 0s 6ms/step - loss: 1576388352.0000 - val_loss: 1269435904.0000\n",
      "Epoch 19/50\n",
      "37/37 [==============================] - 0s 6ms/step - loss: 1576388480.0000 - val_loss: 1269435904.0000\n",
      "Epoch 20/50\n",
      "37/37 [==============================] - 0s 6ms/step - loss: 1576388352.0000 - val_loss: 1269435904.0000\n",
      "Epoch 21/50\n",
      "37/37 [==============================] - 0s 8ms/step - loss: 1576388736.0000 - val_loss: 1269435904.0000\n",
      "Epoch 22/50\n",
      "37/37 [==============================] - 0s 6ms/step - loss: 1576388480.0000 - val_loss: 1269435904.0000\n",
      "Epoch 23/50\n",
      "37/37 [==============================] - 0s 6ms/step - loss: 1576388608.0000 - val_loss: 1269435904.0000\n",
      "Epoch 24/50\n",
      "37/37 [==============================] - 0s 9ms/step - loss: 1576388480.0000 - val_loss: 1269435904.0000\n",
      "Epoch 25/50\n",
      "37/37 [==============================] - 0s 9ms/step - loss: 1576388480.0000 - val_loss: 1269435904.0000\n",
      "Epoch 26/50\n",
      "37/37 [==============================] - 0s 10ms/step - loss: 1576388352.0000 - val_loss: 1269435904.0000\n",
      "Epoch 27/50\n",
      "37/37 [==============================] - 0s 10ms/step - loss: 1576388352.0000 - val_loss: 1269435904.0000\n",
      "Epoch 28/50\n",
      "37/37 [==============================] - 0s 10ms/step - loss: 1576388224.0000 - val_loss: 1269435904.0000\n",
      "Epoch 29/50\n",
      "37/37 [==============================] - 0s 10ms/step - loss: 1576388480.0000 - val_loss: 1269435904.0000\n",
      "Epoch 30/50\n",
      "37/37 [==============================] - 0s 10ms/step - loss: 1576388352.0000 - val_loss: 1269435904.0000\n",
      "Epoch 31/50\n",
      "37/37 [==============================] - 0s 11ms/step - loss: 1576388736.0000 - val_loss: 1269435904.0000\n",
      "Epoch 32/50\n",
      "37/37 [==============================] - 0s 7ms/step - loss: 1576388352.0000 - val_loss: 1269435904.0000\n",
      "Epoch 33/50\n",
      "37/37 [==============================] - 0s 6ms/step - loss: 1576388736.0000 - val_loss: 1269435904.0000\n",
      "Epoch 34/50\n",
      "37/37 [==============================] - 0s 8ms/step - loss: 1576388608.0000 - val_loss: 1269435904.0000\n",
      "Epoch 35/50\n",
      "37/37 [==============================] - 0s 7ms/step - loss: 1576388352.0000 - val_loss: 1269435904.0000\n",
      "Epoch 36/50\n",
      "37/37 [==============================] - 0s 7ms/step - loss: 1576388480.0000 - val_loss: 1269435904.0000\n",
      "Epoch 37/50\n",
      "37/37 [==============================] - 0s 7ms/step - loss: 1576388352.0000 - val_loss: 1269435904.0000\n",
      "Epoch 38/50\n",
      "37/37 [==============================] - 0s 7ms/step - loss: 1576388480.0000 - val_loss: 1269435904.0000\n",
      "Epoch 39/50\n",
      "37/37 [==============================] - 0s 6ms/step - loss: 1576388736.0000 - val_loss: 1269435904.0000\n",
      "Epoch 40/50\n",
      "37/37 [==============================] - 0s 7ms/step - loss: 1576388352.0000 - val_loss: 1269435904.0000\n",
      "Epoch 41/50\n",
      "37/37 [==============================] - 0s 6ms/step - loss: 1576388480.0000 - val_loss: 1269435904.0000\n",
      "Epoch 42/50\n",
      "37/37 [==============================] - 0s 7ms/step - loss: 1576388480.0000 - val_loss: 1269435904.0000\n",
      "Epoch 43/50\n",
      "37/37 [==============================] - 0s 6ms/step - loss: 1576388352.0000 - val_loss: 1269435904.0000\n",
      "Epoch 44/50\n",
      "37/37 [==============================] - 0s 6ms/step - loss: 1576388480.0000 - val_loss: 1269435904.0000\n",
      "Epoch 45/50\n",
      "37/37 [==============================] - 0s 7ms/step - loss: 1576388352.0000 - val_loss: 1269435904.0000\n",
      "Epoch 46/50\n",
      "37/37 [==============================] - 0s 8ms/step - loss: 1576388480.0000 - val_loss: 1269435904.0000\n",
      "Epoch 47/50\n",
      "37/37 [==============================] - 0s 6ms/step - loss: 1576388352.0000 - val_loss: 1269435904.0000\n",
      "Epoch 48/50\n",
      "37/37 [==============================] - 0s 7ms/step - loss: 1576388480.0000 - val_loss: 1269435904.0000\n",
      "Epoch 49/50\n",
      "37/37 [==============================] - 0s 6ms/step - loss: 1576388352.0000 - val_loss: 1269435904.0000\n",
      "Epoch 50/50\n",
      "37/37 [==============================] - 0s 7ms/step - loss: 1576388480.0000 - val_loss: 1269435904.0000\n"
     ]
    }
   ],
   "source": [
    "# Exclude non-numeric features: 'Track Name', 'Artist Name' for input\n",
    "input_dim = full_dataset_df.shape[1] - 2\n",
    "\n",
    "# Encoder/Decoder definition (Hyperparameters were tuned such that optimal results were given)\n",
    "input_layer = Input(shape=(input_dim,))\n",
    "encoded = Dense(128, activation='relu')(input_layer)\n",
    "encoded = Dense(64, activation='relu')(encoded)\n",
    "encoded = Dense(32, activation='relu')(encoded)\n",
    "decoded = Dense(64, activation='relu')(encoded)\n",
    "decoded = Dense(128, activation='relu')(decoded)\n",
    "decoded = Dense(input_dim, activation='sigmoid')(decoded)\n",
    "\n",
    "# Compile the autoencoder\n",
    "autoencoder = Model(input_layer, decoded)\n",
    "autoencoder.compile(optimizer='adam', loss='mean_squared_error')\n",
    "\n",
    "# Prepare data for training\n",
    "# Use numeric data only\n",
    "X_train = full_dataset_df.drop(['Track Name', 'artists'], axis=1)\n",
    "\n",
    "# Convert to float32 to ensure compatibility with TensorFlow\n",
    "X_train = X_train.astype('float32')\n",
    "\n",
    "# Adjust the weights of different values for the model\n",
    "# music genre, explicit lyrics, release year, instrumentalness are adjusted upwards\n",
    "# key, mode and danceability are adjusted downwards\n",
    "X_train[['key_0','key_1','key_2','key_3','key_4','key_5','key_6','key_7','key_8','key_9','key_10','key_11']] *= 0.98\n",
    "X_train[['mode_0','mode_1']] *= 0.98\n",
    "X_train['danceability'] *= 0.98\n",
    "X_train['instrumentalness'] *= 1.02\n",
    "X_train['release_year'] *= 1.02\n",
    "X_train[['explicit_False','explicit_True']] *= 1.02\n",
    "X_train['popularity'] *= 1.1\n",
    "X_train[['genre_0','genre_1','genre_2','genre_3','genre_4','genre_5','genre_6']] *= 1.02\n",
    "\n",
    "# Train the autoencoder\n",
    "autoencoder.fit(X_train, X_train, epochs=50, batch_size=256, validation_split=0.2)\n",
    "\n",
    "# Create a separate encoder model from the full autoencoder\n",
    "weighted_encoder = Model(input_layer, encoded)"
   ]
  },
  {
   "cell_type": "markdown",
   "id": "gzS20ZDDNpEV",
   "metadata": {
    "id": "gzS20ZDDNpEV"
   },
   "source": [
    "Now, we have done all the relevant preprocessing and preparation with our main dataset. We will now preprocess and prepare our user playlist dataset."
   ]
  },
  {
   "cell_type": "markdown",
   "id": "NlPSIydI47Fr",
   "metadata": {
    "id": "NlPSIydI47Fr"
   },
   "source": [
    "## Preprocessing and preparing user playlist data"
   ]
  },
  {
   "cell_type": "code",
   "execution_count": 55,
   "id": "pCcT27JqEqLu",
   "metadata": {
    "colab": {
     "base_uri": "https://localhost:8080/",
     "height": 487
    },
    "id": "pCcT27JqEqLu",
    "outputId": "2704cd89-6698-4a8d-a73a-e56cc9973de4"
   },
   "outputs": [
    {
     "name": "stderr",
     "output_type": "stream",
     "text": [
      "/usr/local/lib/python3.10/dist-packages/sklearn/preprocessing/_label.py:900: UserWarning: unknown class(es) ['Alex G', 'Beth', 'EMELINE', 'Kurt Hugo Schneider', 'Lewis Capaldi', 'Madilyn Bailey', 'NDPeeps', 'Zac Efron'] will be ignored\n",
      "  warnings.warn(\n"
     ]
    },
    {
     "data": {
      "application/vnd.google.colaboratory.intrinsic+json": {
       "summary": "{\n  \"name\": \"playlist_features_df\",\n  \"rows\": 27,\n  \"fields\": [\n    {\n      \"column\": \"Track Name\",\n      \"properties\": {\n        \"dtype\": \"string\",\n        \"num_unique_values\": 27,\n        \"samples\": [\n          \"Love Me Like You Do\",\n          \"See You Again\",\n          \"Titanium\"\n        ],\n        \"semantic_type\": \"\",\n        \"description\": \"\"\n      }\n    },\n    {\n      \"column\": \"artists\",\n      \"properties\": {\n        \"dtype\": \"string\",\n        \"num_unique_values\": 22,\n        \"samples\": [\n          \"Lewis Capaldi\",\n          \"One Direction\",\n          \"Ellie Goulding\"\n        ],\n        \"semantic_type\": \"\",\n        \"description\": \"\"\n      }\n    },\n    {\n      \"column\": \"popularity\",\n      \"properties\": {\n        \"dtype\": \"number\",\n        \"std\": 21,\n        \"min\": 4,\n        \"max\": 90,\n        \"num_unique_values\": 22,\n        \"samples\": [\n          90,\n          80,\n          74\n        ],\n        \"semantic_type\": \"\",\n        \"description\": \"\"\n      }\n    },\n    {\n      \"column\": \"release_year\",\n      \"properties\": {\n        \"dtype\": \"object\",\n        \"num_unique_values\": 14,\n        \"samples\": [\n          \"2017\",\n          \"2015\",\n          \"2019\"\n        ],\n        \"semantic_type\": \"\",\n        \"description\": \"\"\n      }\n    },\n    {\n      \"column\": \"explicit\",\n      \"properties\": {\n        \"dtype\": \"boolean\",\n        \"num_unique_values\": 2,\n        \"samples\": [\n          true,\n          false\n        ],\n        \"semantic_type\": \"\",\n        \"description\": \"\"\n      }\n    },\n    {\n      \"column\": \"danceability\",\n      \"properties\": {\n        \"dtype\": \"number\",\n        \"std\": 0.11157115445814168,\n        \"min\": 0.262,\n        \"max\": 0.748,\n        \"num_unique_values\": 26,\n        \"samples\": [\n          0.489,\n          0.262\n        ],\n        \"semantic_type\": \"\",\n        \"description\": \"\"\n      }\n    },\n    {\n      \"column\": \"energy\",\n      \"properties\": {\n        \"dtype\": \"number\",\n        \"std\": 0.2241313399546292,\n        \"min\": 0.151,\n        \"max\": 0.893,\n        \"num_unique_values\": 26,\n        \"samples\": [\n          0.597,\n          0.606\n        ],\n        \"semantic_type\": \"\",\n        \"description\": \"\"\n      }\n    },\n    {\n      \"column\": \"key\",\n      \"properties\": {\n        \"dtype\": \"number\",\n        \"std\": 3,\n        \"min\": 0,\n        \"max\": 11,\n        \"num_unique_values\": 11,\n        \"samples\": [\n          8,\n          1\n        ],\n        \"semantic_type\": \"\",\n        \"description\": \"\"\n      }\n    },\n    {\n      \"column\": \"loudness\",\n      \"properties\": {\n        \"dtype\": \"number\",\n        \"std\": 2.8972267322202687,\n        \"min\": -13.796,\n        \"max\": -3.374,\n        \"num_unique_values\": 27,\n        \"samples\": [\n          -6.633,\n          -11.913\n        ],\n        \"semantic_type\": \"\",\n        \"description\": \"\"\n      }\n    },\n    {\n      \"column\": \"mode\",\n      \"properties\": {\n        \"dtype\": \"number\",\n        \"std\": 0,\n        \"min\": 0,\n        \"max\": 1,\n        \"num_unique_values\": 2,\n        \"samples\": [\n          0,\n          1\n        ],\n        \"semantic_type\": \"\",\n        \"description\": \"\"\n      }\n    },\n    {\n      \"column\": \"speechiness\",\n      \"properties\": {\n        \"dtype\": \"number\",\n        \"std\": 0.06473605735992209,\n        \"min\": 0.0259,\n        \"max\": 0.341,\n        \"num_unique_values\": 27,\n        \"samples\": [\n          0.0292,\n          0.0412\n        ],\n        \"semantic_type\": \"\",\n        \"description\": \"\"\n      }\n    },\n    {\n      \"column\": \"acousticness\",\n      \"properties\": {\n        \"dtype\": \"number\",\n        \"std\": 0.3340369618022273,\n        \"min\": 0.000362,\n        \"max\": 0.922,\n        \"num_unique_values\": 27,\n        \"samples\": [\n          0.27,\n          0.921\n        ],\n        \"semantic_type\": \"\",\n        \"description\": \"\"\n      }\n    },\n    {\n      \"column\": \"instrumentalness\",\n      \"properties\": {\n        \"dtype\": \"number\",\n        \"std\": 0.028850474450329407,\n        \"min\": 0.0,\n        \"max\": 0.15,\n        \"num_unique_values\": 7,\n        \"samples\": [\n          0.0,\n          0.00122\n        ],\n        \"semantic_type\": \"\",\n        \"description\": \"\"\n      }\n    },\n    {\n      \"column\": \"liveness\",\n      \"properties\": {\n        \"dtype\": \"number\",\n        \"std\": 0.07372838714650601,\n        \"min\": 0.0622,\n        \"max\": 0.342,\n        \"num_unique_values\": 23,\n        \"samples\": [\n          0.0663,\n          0.0772\n        ],\n        \"semantic_type\": \"\",\n        \"description\": \"\"\n      }\n    },\n    {\n      \"column\": \"valence\",\n      \"properties\": {\n        \"dtype\": \"number\",\n        \"std\": 0.2127725010615263,\n        \"min\": 0.0382,\n        \"max\": 0.896,\n        \"num_unique_values\": 27,\n        \"samples\": [\n          0.324,\n          0.637\n        ],\n        \"semantic_type\": \"\",\n        \"description\": \"\"\n      }\n    },\n    {\n      \"column\": \"tempo\",\n      \"properties\": {\n        \"dtype\": \"number\",\n        \"std\": 29.555217065602342,\n        \"min\": 72.017,\n        \"max\": 189.857,\n        \"num_unique_values\": 27,\n        \"samples\": [\n          95.012,\n          75.819\n        ],\n        \"semantic_type\": \"\",\n        \"description\": \"\"\n      }\n    },\n    {\n      \"column\": \"duration_ms\",\n      \"properties\": {\n        \"dtype\": \"number\",\n        \"std\": 39542,\n        \"min\": 120666,\n        \"max\": 285120,\n        \"num_unique_values\": 27,\n        \"samples\": [\n          253520,\n          128000\n        ],\n        \"semantic_type\": \"\",\n        \"description\": \"\"\n      }\n    },\n    {\n      \"column\": \"time_signature\",\n      \"properties\": {\n        \"dtype\": \"number\",\n        \"std\": 0,\n        \"min\": 1,\n        \"max\": 4,\n        \"num_unique_values\": 3,\n        \"samples\": [\n          4,\n          3\n        ],\n        \"semantic_type\": \"\",\n        \"description\": \"\"\n      }\n    },\n    {\n      \"column\": \"genre\",\n      \"properties\": {\n        \"dtype\": \"number\",\n        \"std\": 2,\n        \"min\": 0,\n        \"max\": 6,\n        \"num_unique_values\": 6,\n        \"samples\": [\n          5,\n          0\n        ],\n        \"semantic_type\": \"\",\n        \"description\": \"\"\n      }\n    }\n  ]\n}",
       "type": "dataframe",
       "variable_name": "playlist_features_df"
      },
      "text/html": [
       "\n",
       "  <div id=\"df-64a54f23-57c3-4941-b9ba-4c4531b15881\" class=\"colab-df-container\">\n",
       "    <div>\n",
       "<style scoped>\n",
       "    .dataframe tbody tr th:only-of-type {\n",
       "        vertical-align: middle;\n",
       "    }\n",
       "\n",
       "    .dataframe tbody tr th {\n",
       "        vertical-align: top;\n",
       "    }\n",
       "\n",
       "    .dataframe thead th {\n",
       "        text-align: right;\n",
       "    }\n",
       "</style>\n",
       "<table border=\"1\" class=\"dataframe\">\n",
       "  <thead>\n",
       "    <tr style=\"text-align: right;\">\n",
       "      <th></th>\n",
       "      <th>Track Name</th>\n",
       "      <th>artists</th>\n",
       "      <th>popularity</th>\n",
       "      <th>release_year</th>\n",
       "      <th>explicit</th>\n",
       "      <th>danceability</th>\n",
       "      <th>energy</th>\n",
       "      <th>key</th>\n",
       "      <th>loudness</th>\n",
       "      <th>mode</th>\n",
       "      <th>speechiness</th>\n",
       "      <th>acousticness</th>\n",
       "      <th>instrumentalness</th>\n",
       "      <th>liveness</th>\n",
       "      <th>valence</th>\n",
       "      <th>tempo</th>\n",
       "      <th>duration_ms</th>\n",
       "      <th>time_signature</th>\n",
       "      <th>genre</th>\n",
       "    </tr>\n",
       "  </thead>\n",
       "  <tbody>\n",
       "    <tr>\n",
       "      <th>0</th>\n",
       "      <td>Someone You Loved</td>\n",
       "      <td>Lewis Capaldi</td>\n",
       "      <td>90</td>\n",
       "      <td>2019</td>\n",
       "      <td>False</td>\n",
       "      <td>0.501</td>\n",
       "      <td>0.405</td>\n",
       "      <td>1</td>\n",
       "      <td>-5.679</td>\n",
       "      <td>1</td>\n",
       "      <td>0.0319</td>\n",
       "      <td>0.7510</td>\n",
       "      <td>0.000000</td>\n",
       "      <td>0.105</td>\n",
       "      <td>0.4460</td>\n",
       "      <td>109.891</td>\n",
       "      <td>182161</td>\n",
       "      <td>4</td>\n",
       "      <td>5</td>\n",
       "    </tr>\n",
       "    <tr>\n",
       "      <th>1</th>\n",
       "      <td>Arcade</td>\n",
       "      <td>Duncan Laurence</td>\n",
       "      <td>76</td>\n",
       "      <td>2020</td>\n",
       "      <td>False</td>\n",
       "      <td>0.453</td>\n",
       "      <td>0.350</td>\n",
       "      <td>9</td>\n",
       "      <td>-11.639</td>\n",
       "      <td>0</td>\n",
       "      <td>0.0425</td>\n",
       "      <td>0.8270</td>\n",
       "      <td>0.001220</td>\n",
       "      <td>0.144</td>\n",
       "      <td>0.2790</td>\n",
       "      <td>72.017</td>\n",
       "      <td>185147</td>\n",
       "      <td>3</td>\n",
       "      <td>5</td>\n",
       "    </tr>\n",
       "    <tr>\n",
       "      <th>2</th>\n",
       "      <td>Talking to the Moon</td>\n",
       "      <td>Bruno Mars</td>\n",
       "      <td>84</td>\n",
       "      <td>2010</td>\n",
       "      <td>False</td>\n",
       "      <td>0.498</td>\n",
       "      <td>0.590</td>\n",
       "      <td>1</td>\n",
       "      <td>-4.721</td>\n",
       "      <td>0</td>\n",
       "      <td>0.0320</td>\n",
       "      <td>0.5110</td>\n",
       "      <td>0.000000</td>\n",
       "      <td>0.107</td>\n",
       "      <td>0.0784</td>\n",
       "      <td>145.867</td>\n",
       "      <td>217867</td>\n",
       "      <td>4</td>\n",
       "      <td>0</td>\n",
       "    </tr>\n",
       "    <tr>\n",
       "      <th>3</th>\n",
       "      <td>Titanium (feat. Sia)</td>\n",
       "      <td>David Guetta</td>\n",
       "      <td>58</td>\n",
       "      <td>2012</td>\n",
       "      <td>False</td>\n",
       "      <td>0.604</td>\n",
       "      <td>0.787</td>\n",
       "      <td>0</td>\n",
       "      <td>-3.674</td>\n",
       "      <td>0</td>\n",
       "      <td>0.1030</td>\n",
       "      <td>0.0679</td>\n",
       "      <td>0.150000</td>\n",
       "      <td>0.127</td>\n",
       "      <td>0.3010</td>\n",
       "      <td>126.062</td>\n",
       "      <td>245040</td>\n",
       "      <td>4</td>\n",
       "      <td>0</td>\n",
       "    </tr>\n",
       "    <tr>\n",
       "      <th>4</th>\n",
       "      <td>My Heart Will Go On - Love Theme from \"Titanic\"</td>\n",
       "      <td>Céline Dion</td>\n",
       "      <td>75</td>\n",
       "      <td>1997</td>\n",
       "      <td>False</td>\n",
       "      <td>0.428</td>\n",
       "      <td>0.276</td>\n",
       "      <td>4</td>\n",
       "      <td>-11.729</td>\n",
       "      <td>1</td>\n",
       "      <td>0.0312</td>\n",
       "      <td>0.7320</td>\n",
       "      <td>0.000005</td>\n",
       "      <td>0.117</td>\n",
       "      <td>0.0382</td>\n",
       "      <td>99.195</td>\n",
       "      <td>280000</td>\n",
       "      <td>1</td>\n",
       "      <td>3</td>\n",
       "    </tr>\n",
       "  </tbody>\n",
       "</table>\n",
       "</div>\n",
       "    <div class=\"colab-df-buttons\">\n",
       "\n",
       "  <div class=\"colab-df-container\">\n",
       "    <button class=\"colab-df-convert\" onclick=\"convertToInteractive('df-64a54f23-57c3-4941-b9ba-4c4531b15881')\"\n",
       "            title=\"Convert this dataframe to an interactive table.\"\n",
       "            style=\"display:none;\">\n",
       "\n",
       "  <svg xmlns=\"http://www.w3.org/2000/svg\" height=\"24px\" viewBox=\"0 -960 960 960\">\n",
       "    <path d=\"M120-120v-720h720v720H120Zm60-500h600v-160H180v160Zm220 220h160v-160H400v160Zm0 220h160v-160H400v160ZM180-400h160v-160H180v160Zm440 0h160v-160H620v160ZM180-180h160v-160H180v160Zm440 0h160v-160H620v160Z\"/>\n",
       "  </svg>\n",
       "    </button>\n",
       "\n",
       "  <style>\n",
       "    .colab-df-container {\n",
       "      display:flex;\n",
       "      gap: 12px;\n",
       "    }\n",
       "\n",
       "    .colab-df-convert {\n",
       "      background-color: #E8F0FE;\n",
       "      border: none;\n",
       "      border-radius: 50%;\n",
       "      cursor: pointer;\n",
       "      display: none;\n",
       "      fill: #1967D2;\n",
       "      height: 32px;\n",
       "      padding: 0 0 0 0;\n",
       "      width: 32px;\n",
       "    }\n",
       "\n",
       "    .colab-df-convert:hover {\n",
       "      background-color: #E2EBFA;\n",
       "      box-shadow: 0px 1px 2px rgba(60, 64, 67, 0.3), 0px 1px 3px 1px rgba(60, 64, 67, 0.15);\n",
       "      fill: #174EA6;\n",
       "    }\n",
       "\n",
       "    .colab-df-buttons div {\n",
       "      margin-bottom: 4px;\n",
       "    }\n",
       "\n",
       "    [theme=dark] .colab-df-convert {\n",
       "      background-color: #3B4455;\n",
       "      fill: #D2E3FC;\n",
       "    }\n",
       "\n",
       "    [theme=dark] .colab-df-convert:hover {\n",
       "      background-color: #434B5C;\n",
       "      box-shadow: 0px 1px 3px 1px rgba(0, 0, 0, 0.15);\n",
       "      filter: drop-shadow(0px 1px 2px rgba(0, 0, 0, 0.3));\n",
       "      fill: #FFFFFF;\n",
       "    }\n",
       "  </style>\n",
       "\n",
       "    <script>\n",
       "      const buttonEl =\n",
       "        document.querySelector('#df-64a54f23-57c3-4941-b9ba-4c4531b15881 button.colab-df-convert');\n",
       "      buttonEl.style.display =\n",
       "        google.colab.kernel.accessAllowed ? 'block' : 'none';\n",
       "\n",
       "      async function convertToInteractive(key) {\n",
       "        const element = document.querySelector('#df-64a54f23-57c3-4941-b9ba-4c4531b15881');\n",
       "        const dataTable =\n",
       "          await google.colab.kernel.invokeFunction('convertToInteractive',\n",
       "                                                    [key], {});\n",
       "        if (!dataTable) return;\n",
       "\n",
       "        const docLinkHtml = 'Like what you see? Visit the ' +\n",
       "          '<a target=\"_blank\" href=https://colab.research.google.com/notebooks/data_table.ipynb>data table notebook</a>'\n",
       "          + ' to learn more about interactive tables.';\n",
       "        element.innerHTML = '';\n",
       "        dataTable['output_type'] = 'display_data';\n",
       "        await google.colab.output.renderOutput(dataTable, element);\n",
       "        const docLink = document.createElement('div');\n",
       "        docLink.innerHTML = docLinkHtml;\n",
       "        element.appendChild(docLink);\n",
       "      }\n",
       "    </script>\n",
       "  </div>\n",
       "\n",
       "\n",
       "<div id=\"df-1334ee99-c776-4daf-bfec-da7ed087c47d\">\n",
       "  <button class=\"colab-df-quickchart\" onclick=\"quickchart('df-1334ee99-c776-4daf-bfec-da7ed087c47d')\"\n",
       "            title=\"Suggest charts\"\n",
       "            style=\"display:none;\">\n",
       "\n",
       "<svg xmlns=\"http://www.w3.org/2000/svg\" height=\"24px\"viewBox=\"0 0 24 24\"\n",
       "     width=\"24px\">\n",
       "    <g>\n",
       "        <path d=\"M19 3H5c-1.1 0-2 .9-2 2v14c0 1.1.9 2 2 2h14c1.1 0 2-.9 2-2V5c0-1.1-.9-2-2-2zM9 17H7v-7h2v7zm4 0h-2V7h2v10zm4 0h-2v-4h2v4z\"/>\n",
       "    </g>\n",
       "</svg>\n",
       "  </button>\n",
       "\n",
       "<style>\n",
       "  .colab-df-quickchart {\n",
       "      --bg-color: #E8F0FE;\n",
       "      --fill-color: #1967D2;\n",
       "      --hover-bg-color: #E2EBFA;\n",
       "      --hover-fill-color: #174EA6;\n",
       "      --disabled-fill-color: #AAA;\n",
       "      --disabled-bg-color: #DDD;\n",
       "  }\n",
       "\n",
       "  [theme=dark] .colab-df-quickchart {\n",
       "      --bg-color: #3B4455;\n",
       "      --fill-color: #D2E3FC;\n",
       "      --hover-bg-color: #434B5C;\n",
       "      --hover-fill-color: #FFFFFF;\n",
       "      --disabled-bg-color: #3B4455;\n",
       "      --disabled-fill-color: #666;\n",
       "  }\n",
       "\n",
       "  .colab-df-quickchart {\n",
       "    background-color: var(--bg-color);\n",
       "    border: none;\n",
       "    border-radius: 50%;\n",
       "    cursor: pointer;\n",
       "    display: none;\n",
       "    fill: var(--fill-color);\n",
       "    height: 32px;\n",
       "    padding: 0;\n",
       "    width: 32px;\n",
       "  }\n",
       "\n",
       "  .colab-df-quickchart:hover {\n",
       "    background-color: var(--hover-bg-color);\n",
       "    box-shadow: 0 1px 2px rgba(60, 64, 67, 0.3), 0 1px 3px 1px rgba(60, 64, 67, 0.15);\n",
       "    fill: var(--button-hover-fill-color);\n",
       "  }\n",
       "\n",
       "  .colab-df-quickchart-complete:disabled,\n",
       "  .colab-df-quickchart-complete:disabled:hover {\n",
       "    background-color: var(--disabled-bg-color);\n",
       "    fill: var(--disabled-fill-color);\n",
       "    box-shadow: none;\n",
       "  }\n",
       "\n",
       "  .colab-df-spinner {\n",
       "    border: 2px solid var(--fill-color);\n",
       "    border-color: transparent;\n",
       "    border-bottom-color: var(--fill-color);\n",
       "    animation:\n",
       "      spin 1s steps(1) infinite;\n",
       "  }\n",
       "\n",
       "  @keyframes spin {\n",
       "    0% {\n",
       "      border-color: transparent;\n",
       "      border-bottom-color: var(--fill-color);\n",
       "      border-left-color: var(--fill-color);\n",
       "    }\n",
       "    20% {\n",
       "      border-color: transparent;\n",
       "      border-left-color: var(--fill-color);\n",
       "      border-top-color: var(--fill-color);\n",
       "    }\n",
       "    30% {\n",
       "      border-color: transparent;\n",
       "      border-left-color: var(--fill-color);\n",
       "      border-top-color: var(--fill-color);\n",
       "      border-right-color: var(--fill-color);\n",
       "    }\n",
       "    40% {\n",
       "      border-color: transparent;\n",
       "      border-right-color: var(--fill-color);\n",
       "      border-top-color: var(--fill-color);\n",
       "    }\n",
       "    60% {\n",
       "      border-color: transparent;\n",
       "      border-right-color: var(--fill-color);\n",
       "    }\n",
       "    80% {\n",
       "      border-color: transparent;\n",
       "      border-right-color: var(--fill-color);\n",
       "      border-bottom-color: var(--fill-color);\n",
       "    }\n",
       "    90% {\n",
       "      border-color: transparent;\n",
       "      border-bottom-color: var(--fill-color);\n",
       "    }\n",
       "  }\n",
       "</style>\n",
       "\n",
       "  <script>\n",
       "    async function quickchart(key) {\n",
       "      const quickchartButtonEl =\n",
       "        document.querySelector('#' + key + ' button');\n",
       "      quickchartButtonEl.disabled = true;  // To prevent multiple clicks.\n",
       "      quickchartButtonEl.classList.add('colab-df-spinner');\n",
       "      try {\n",
       "        const charts = await google.colab.kernel.invokeFunction(\n",
       "            'suggestCharts', [key], {});\n",
       "      } catch (error) {\n",
       "        console.error('Error during call to suggestCharts:', error);\n",
       "      }\n",
       "      quickchartButtonEl.classList.remove('colab-df-spinner');\n",
       "      quickchartButtonEl.classList.add('colab-df-quickchart-complete');\n",
       "    }\n",
       "    (() => {\n",
       "      let quickchartButtonEl =\n",
       "        document.querySelector('#df-1334ee99-c776-4daf-bfec-da7ed087c47d button');\n",
       "      quickchartButtonEl.style.display =\n",
       "        google.colab.kernel.accessAllowed ? 'block' : 'none';\n",
       "    })();\n",
       "  </script>\n",
       "</div>\n",
       "\n",
       "    </div>\n",
       "  </div>\n"
      ],
      "text/plain": [
       "                                        Track Name          artists  \\\n",
       "0                                Someone You Loved    Lewis Capaldi   \n",
       "1                                           Arcade  Duncan Laurence   \n",
       "2                              Talking to the Moon       Bruno Mars   \n",
       "3                             Titanium (feat. Sia)     David Guetta   \n",
       "4  My Heart Will Go On - Love Theme from \"Titanic\"      Céline Dion   \n",
       "\n",
       "   popularity release_year  explicit  danceability  energy  key  loudness  \\\n",
       "0          90         2019     False         0.501   0.405    1    -5.679   \n",
       "1          76         2020     False         0.453   0.350    9   -11.639   \n",
       "2          84         2010     False         0.498   0.590    1    -4.721   \n",
       "3          58         2012     False         0.604   0.787    0    -3.674   \n",
       "4          75         1997     False         0.428   0.276    4   -11.729   \n",
       "\n",
       "   mode  speechiness  acousticness  instrumentalness  liveness  valence  \\\n",
       "0     1       0.0319        0.7510          0.000000     0.105   0.4460   \n",
       "1     0       0.0425        0.8270          0.001220     0.144   0.2790   \n",
       "2     0       0.0320        0.5110          0.000000     0.107   0.0784   \n",
       "3     0       0.1030        0.0679          0.150000     0.127   0.3010   \n",
       "4     1       0.0312        0.7320          0.000005     0.117   0.0382   \n",
       "\n",
       "     tempo  duration_ms  time_signature  genre  \n",
       "0  109.891       182161               4      5  \n",
       "1   72.017       185147               3      5  \n",
       "2  145.867       217867               4      0  \n",
       "3  126.062       245040               4      0  \n",
       "4   99.195       280000               1      3  "
      ]
     },
     "execution_count": 55,
     "metadata": {},
     "output_type": "execute_result"
    }
   ],
   "source": [
    "# Extract the features of the user playlist\n",
    "playlist_features_df = get_audio_info_from_playlist('spotify:playlist:4bT12S3KMsTp8ZSaqd2RYq', sp)\n",
    "playlist_features_df['genre'] = get_genres(playlist_features_df)\n",
    "playlist_features_df.head()"
   ]
  },
  {
   "cell_type": "code",
   "execution_count": 57,
   "id": "7kBiWC6TbJ2b",
   "metadata": {
    "colab": {
     "base_uri": "https://localhost:8080/"
    },
    "id": "7kBiWC6TbJ2b",
    "outputId": "11a915b9-553f-4ad6-8328-6d1bf0175fc5"
   },
   "outputs": [
    {
     "name": "stdout",
     "output_type": "stream",
     "text": [
      "<class 'pandas.core.frame.DataFrame'>\n",
      "RangeIndex: 27 entries, 0 to 26\n",
      "Data columns (total 19 columns):\n",
      " #   Column            Non-Null Count  Dtype  \n",
      "---  ------            --------------  -----  \n",
      " 0   Track Name        27 non-null     object \n",
      " 1   artists           27 non-null     object \n",
      " 2   popularity        27 non-null     int64  \n",
      " 3   release_year      27 non-null     object \n",
      " 4   explicit          27 non-null     bool   \n",
      " 5   danceability      27 non-null     float64\n",
      " 6   energy            27 non-null     float64\n",
      " 7   key               27 non-null     int64  \n",
      " 8   loudness          27 non-null     float64\n",
      " 9   mode              27 non-null     int64  \n",
      " 10  speechiness       27 non-null     float64\n",
      " 11  acousticness      27 non-null     float64\n",
      " 12  instrumentalness  27 non-null     float64\n",
      " 13  liveness          27 non-null     float64\n",
      " 14  valence           27 non-null     float64\n",
      " 15  tempo             27 non-null     float64\n",
      " 16  duration_ms       27 non-null     int64  \n",
      " 17  time_signature    27 non-null     int64  \n",
      " 18  genre             27 non-null     int64  \n",
      "dtypes: bool(1), float64(9), int64(6), object(3)\n",
      "memory usage: 3.9+ KB\n"
     ]
    }
   ],
   "source": [
    "playlist_features_df.info()"
   ]
  },
  {
   "cell_type": "code",
   "execution_count": 58,
   "id": "yEDMCQ9WepTZ",
   "metadata": {
    "colab": {
     "base_uri": "https://localhost:8080/"
    },
    "id": "yEDMCQ9WepTZ",
    "outputId": "dab2a0bf-f622-41be-8516-bbff89836631"
   },
   "outputs": [
    {
     "name": "stdout",
     "output_type": "stream",
     "text": [
      "<class 'pandas.core.frame.DataFrame'>\n",
      "RangeIndex: 27 entries, 0 to 26\n",
      "Data columns (total 38 columns):\n",
      " #   Column            Non-Null Count  Dtype  \n",
      "---  ------            --------------  -----  \n",
      " 0   Track Name        27 non-null     object \n",
      " 1   artists           27 non-null     object \n",
      " 2   popularity        27 non-null     int64  \n",
      " 3   release_year      27 non-null     int64  \n",
      " 4   danceability      27 non-null     float64\n",
      " 5   energy            27 non-null     float64\n",
      " 6   loudness          27 non-null     float64\n",
      " 7   speechiness       27 non-null     float64\n",
      " 8   acousticness      27 non-null     float64\n",
      " 9   instrumentalness  27 non-null     float64\n",
      " 10  liveness          27 non-null     float64\n",
      " 11  valence           27 non-null     float64\n",
      " 12  tempo             27 non-null     float64\n",
      " 13  duration_ms       27 non-null     int64  \n",
      " 14  time_signature    27 non-null     int64  \n",
      " 15  key_0             27 non-null     int64  \n",
      " 16  key_1             27 non-null     int64  \n",
      " 17  key_2             27 non-null     int64  \n",
      " 18  key_3             27 non-null     int64  \n",
      " 19  key_4             27 non-null     int64  \n",
      " 20  key_5             27 non-null     int64  \n",
      " 21  key_6             27 non-null     int64  \n",
      " 22  key_7             27 non-null     int64  \n",
      " 23  key_8             27 non-null     int64  \n",
      " 24  key_9             27 non-null     int64  \n",
      " 25  key_10            27 non-null     int64  \n",
      " 26  key_11            27 non-null     int64  \n",
      " 27  mode_0            27 non-null     int64  \n",
      " 28  mode_1            27 non-null     int64  \n",
      " 29  genre_0           27 non-null     int64  \n",
      " 30  genre_1           27 non-null     int64  \n",
      " 31  genre_2           27 non-null     int64  \n",
      " 32  genre_3           27 non-null     int64  \n",
      " 33  genre_4           27 non-null     int64  \n",
      " 34  genre_5           27 non-null     int64  \n",
      " 35  genre_6           27 non-null     int64  \n",
      " 36  explicit_False    27 non-null     int64  \n",
      " 37  explicit_True     27 non-null     int64  \n",
      "dtypes: float64(9), int64(27), object(2)\n",
      "memory usage: 8.1+ KB\n"
     ]
    }
   ],
   "source": [
    "# One-hot encoding the categorical features\n",
    "playlist_features_df[final_categorical_features] = 0\n",
    "categorical_features = ['key', 'mode', 'genre','explicit']\n",
    "playlist_features_df = pd.get_dummies(playlist_features_df, columns=categorical_features)\n",
    "# Not every value in the categorical features will be present, so to circumvent this\n",
    "# We will be manually putting in every necessary column, and merge them\n",
    "for col in final_categorical_features:\n",
    "    cols_to_merge = [c for c in playlist_features_df.columns if c.startswith(col)]\n",
    "    if len(cols_to_merge) > 1:\n",
    "        # Make use of max function to effectively perform an OR operation across duplicates\n",
    "        playlist_features_df[col] = playlist_features_df[cols_to_merge].max(axis=1)\n",
    "playlist_features_df = playlist_features_df.loc[:,~playlist_features_df.columns.duplicated()].copy()\n",
    "\n",
    "# ensure all correct values are numeric and not of type object\n",
    "for column in (final_categorical_features + [\"release_year\"]):\n",
    "    playlist_features_df[column] = playlist_features_df[column].astype(int)\n",
    "playlist_features_df.info()\n",
    "\n",
    "# Scale the playlist features for the non-autoencoder model\n",
    "scaled_playlist_features_df = playlist_features_df.copy()\n",
    "scaled_playlist_features_df[numerical_features] = scaler.fit_transform(scaled_playlist_features_df[numerical_features])"
   ]
  },
  {
   "cell_type": "code",
   "execution_count": 59,
   "id": "DJ5D7ftpDSvB",
   "metadata": {
    "colab": {
     "base_uri": "https://localhost:8080/",
     "height": 481
    },
    "id": "DJ5D7ftpDSvB",
    "outputId": "b4d877eb-4fc1-4f53-84f4-a6fb46c40970"
   },
   "outputs": [
    {
     "data": {
      "application/vnd.google.colaboratory.intrinsic+json": {
       "type": "dataframe",
       "variable_name": "playlist_features_df"
      },
      "text/html": [
       "\n",
       "  <div id=\"df-c6c8365e-9f33-484a-a1aa-c2b62ec150ee\" class=\"colab-df-container\">\n",
       "    <div>\n",
       "<style scoped>\n",
       "    .dataframe tbody tr th:only-of-type {\n",
       "        vertical-align: middle;\n",
       "    }\n",
       "\n",
       "    .dataframe tbody tr th {\n",
       "        vertical-align: top;\n",
       "    }\n",
       "\n",
       "    .dataframe thead th {\n",
       "        text-align: right;\n",
       "    }\n",
       "</style>\n",
       "<table border=\"1\" class=\"dataframe\">\n",
       "  <thead>\n",
       "    <tr style=\"text-align: right;\">\n",
       "      <th></th>\n",
       "      <th>Track Name</th>\n",
       "      <th>artists</th>\n",
       "      <th>popularity</th>\n",
       "      <th>release_year</th>\n",
       "      <th>danceability</th>\n",
       "      <th>energy</th>\n",
       "      <th>loudness</th>\n",
       "      <th>speechiness</th>\n",
       "      <th>acousticness</th>\n",
       "      <th>instrumentalness</th>\n",
       "      <th>...</th>\n",
       "      <th>mode_1</th>\n",
       "      <th>genre_0</th>\n",
       "      <th>genre_1</th>\n",
       "      <th>genre_2</th>\n",
       "      <th>genre_3</th>\n",
       "      <th>genre_4</th>\n",
       "      <th>genre_5</th>\n",
       "      <th>genre_6</th>\n",
       "      <th>explicit_False</th>\n",
       "      <th>explicit_True</th>\n",
       "    </tr>\n",
       "  </thead>\n",
       "  <tbody>\n",
       "    <tr>\n",
       "      <th>0</th>\n",
       "      <td>Someone You Loved</td>\n",
       "      <td>Lewis Capaldi</td>\n",
       "      <td>90</td>\n",
       "      <td>2019</td>\n",
       "      <td>0.501</td>\n",
       "      <td>0.405</td>\n",
       "      <td>-5.679</td>\n",
       "      <td>0.0319</td>\n",
       "      <td>0.7510</td>\n",
       "      <td>0.000000</td>\n",
       "      <td>...</td>\n",
       "      <td>1</td>\n",
       "      <td>0</td>\n",
       "      <td>0</td>\n",
       "      <td>0</td>\n",
       "      <td>0</td>\n",
       "      <td>0</td>\n",
       "      <td>1</td>\n",
       "      <td>0</td>\n",
       "      <td>1</td>\n",
       "      <td>0</td>\n",
       "    </tr>\n",
       "    <tr>\n",
       "      <th>1</th>\n",
       "      <td>Arcade</td>\n",
       "      <td>Duncan Laurence</td>\n",
       "      <td>76</td>\n",
       "      <td>2020</td>\n",
       "      <td>0.453</td>\n",
       "      <td>0.350</td>\n",
       "      <td>-11.639</td>\n",
       "      <td>0.0425</td>\n",
       "      <td>0.8270</td>\n",
       "      <td>0.001220</td>\n",
       "      <td>...</td>\n",
       "      <td>0</td>\n",
       "      <td>0</td>\n",
       "      <td>0</td>\n",
       "      <td>0</td>\n",
       "      <td>0</td>\n",
       "      <td>0</td>\n",
       "      <td>1</td>\n",
       "      <td>0</td>\n",
       "      <td>1</td>\n",
       "      <td>0</td>\n",
       "    </tr>\n",
       "    <tr>\n",
       "      <th>2</th>\n",
       "      <td>Talking to the Moon</td>\n",
       "      <td>Bruno Mars</td>\n",
       "      <td>84</td>\n",
       "      <td>2010</td>\n",
       "      <td>0.498</td>\n",
       "      <td>0.590</td>\n",
       "      <td>-4.721</td>\n",
       "      <td>0.0320</td>\n",
       "      <td>0.5110</td>\n",
       "      <td>0.000000</td>\n",
       "      <td>...</td>\n",
       "      <td>0</td>\n",
       "      <td>1</td>\n",
       "      <td>0</td>\n",
       "      <td>0</td>\n",
       "      <td>0</td>\n",
       "      <td>0</td>\n",
       "      <td>0</td>\n",
       "      <td>0</td>\n",
       "      <td>1</td>\n",
       "      <td>0</td>\n",
       "    </tr>\n",
       "    <tr>\n",
       "      <th>3</th>\n",
       "      <td>Titanium (feat. Sia)</td>\n",
       "      <td>David Guetta</td>\n",
       "      <td>58</td>\n",
       "      <td>2012</td>\n",
       "      <td>0.604</td>\n",
       "      <td>0.787</td>\n",
       "      <td>-3.674</td>\n",
       "      <td>0.1030</td>\n",
       "      <td>0.0679</td>\n",
       "      <td>0.150000</td>\n",
       "      <td>...</td>\n",
       "      <td>0</td>\n",
       "      <td>1</td>\n",
       "      <td>0</td>\n",
       "      <td>0</td>\n",
       "      <td>0</td>\n",
       "      <td>0</td>\n",
       "      <td>0</td>\n",
       "      <td>0</td>\n",
       "      <td>1</td>\n",
       "      <td>0</td>\n",
       "    </tr>\n",
       "    <tr>\n",
       "      <th>4</th>\n",
       "      <td>My Heart Will Go On - Love Theme from \"Titanic\"</td>\n",
       "      <td>Céline Dion</td>\n",
       "      <td>75</td>\n",
       "      <td>1997</td>\n",
       "      <td>0.428</td>\n",
       "      <td>0.276</td>\n",
       "      <td>-11.729</td>\n",
       "      <td>0.0312</td>\n",
       "      <td>0.7320</td>\n",
       "      <td>0.000005</td>\n",
       "      <td>...</td>\n",
       "      <td>1</td>\n",
       "      <td>0</td>\n",
       "      <td>0</td>\n",
       "      <td>0</td>\n",
       "      <td>1</td>\n",
       "      <td>0</td>\n",
       "      <td>0</td>\n",
       "      <td>0</td>\n",
       "      <td>1</td>\n",
       "      <td>0</td>\n",
       "    </tr>\n",
       "  </tbody>\n",
       "</table>\n",
       "<p>5 rows × 38 columns</p>\n",
       "</div>\n",
       "    <div class=\"colab-df-buttons\">\n",
       "\n",
       "  <div class=\"colab-df-container\">\n",
       "    <button class=\"colab-df-convert\" onclick=\"convertToInteractive('df-c6c8365e-9f33-484a-a1aa-c2b62ec150ee')\"\n",
       "            title=\"Convert this dataframe to an interactive table.\"\n",
       "            style=\"display:none;\">\n",
       "\n",
       "  <svg xmlns=\"http://www.w3.org/2000/svg\" height=\"24px\" viewBox=\"0 -960 960 960\">\n",
       "    <path d=\"M120-120v-720h720v720H120Zm60-500h600v-160H180v160Zm220 220h160v-160H400v160Zm0 220h160v-160H400v160ZM180-400h160v-160H180v160Zm440 0h160v-160H620v160ZM180-180h160v-160H180v160Zm440 0h160v-160H620v160Z\"/>\n",
       "  </svg>\n",
       "    </button>\n",
       "\n",
       "  <style>\n",
       "    .colab-df-container {\n",
       "      display:flex;\n",
       "      gap: 12px;\n",
       "    }\n",
       "\n",
       "    .colab-df-convert {\n",
       "      background-color: #E8F0FE;\n",
       "      border: none;\n",
       "      border-radius: 50%;\n",
       "      cursor: pointer;\n",
       "      display: none;\n",
       "      fill: #1967D2;\n",
       "      height: 32px;\n",
       "      padding: 0 0 0 0;\n",
       "      width: 32px;\n",
       "    }\n",
       "\n",
       "    .colab-df-convert:hover {\n",
       "      background-color: #E2EBFA;\n",
       "      box-shadow: 0px 1px 2px rgba(60, 64, 67, 0.3), 0px 1px 3px 1px rgba(60, 64, 67, 0.15);\n",
       "      fill: #174EA6;\n",
       "    }\n",
       "\n",
       "    .colab-df-buttons div {\n",
       "      margin-bottom: 4px;\n",
       "    }\n",
       "\n",
       "    [theme=dark] .colab-df-convert {\n",
       "      background-color: #3B4455;\n",
       "      fill: #D2E3FC;\n",
       "    }\n",
       "\n",
       "    [theme=dark] .colab-df-convert:hover {\n",
       "      background-color: #434B5C;\n",
       "      box-shadow: 0px 1px 3px 1px rgba(0, 0, 0, 0.15);\n",
       "      filter: drop-shadow(0px 1px 2px rgba(0, 0, 0, 0.3));\n",
       "      fill: #FFFFFF;\n",
       "    }\n",
       "  </style>\n",
       "\n",
       "    <script>\n",
       "      const buttonEl =\n",
       "        document.querySelector('#df-c6c8365e-9f33-484a-a1aa-c2b62ec150ee button.colab-df-convert');\n",
       "      buttonEl.style.display =\n",
       "        google.colab.kernel.accessAllowed ? 'block' : 'none';\n",
       "\n",
       "      async function convertToInteractive(key) {\n",
       "        const element = document.querySelector('#df-c6c8365e-9f33-484a-a1aa-c2b62ec150ee');\n",
       "        const dataTable =\n",
       "          await google.colab.kernel.invokeFunction('convertToInteractive',\n",
       "                                                    [key], {});\n",
       "        if (!dataTable) return;\n",
       "\n",
       "        const docLinkHtml = 'Like what you see? Visit the ' +\n",
       "          '<a target=\"_blank\" href=https://colab.research.google.com/notebooks/data_table.ipynb>data table notebook</a>'\n",
       "          + ' to learn more about interactive tables.';\n",
       "        element.innerHTML = '';\n",
       "        dataTable['output_type'] = 'display_data';\n",
       "        await google.colab.output.renderOutput(dataTable, element);\n",
       "        const docLink = document.createElement('div');\n",
       "        docLink.innerHTML = docLinkHtml;\n",
       "        element.appendChild(docLink);\n",
       "      }\n",
       "    </script>\n",
       "  </div>\n",
       "\n",
       "\n",
       "<div id=\"df-b69f8b92-e0ba-48c1-9e42-286d50bd377b\">\n",
       "  <button class=\"colab-df-quickchart\" onclick=\"quickchart('df-b69f8b92-e0ba-48c1-9e42-286d50bd377b')\"\n",
       "            title=\"Suggest charts\"\n",
       "            style=\"display:none;\">\n",
       "\n",
       "<svg xmlns=\"http://www.w3.org/2000/svg\" height=\"24px\"viewBox=\"0 0 24 24\"\n",
       "     width=\"24px\">\n",
       "    <g>\n",
       "        <path d=\"M19 3H5c-1.1 0-2 .9-2 2v14c0 1.1.9 2 2 2h14c1.1 0 2-.9 2-2V5c0-1.1-.9-2-2-2zM9 17H7v-7h2v7zm4 0h-2V7h2v10zm4 0h-2v-4h2v4z\"/>\n",
       "    </g>\n",
       "</svg>\n",
       "  </button>\n",
       "\n",
       "<style>\n",
       "  .colab-df-quickchart {\n",
       "      --bg-color: #E8F0FE;\n",
       "      --fill-color: #1967D2;\n",
       "      --hover-bg-color: #E2EBFA;\n",
       "      --hover-fill-color: #174EA6;\n",
       "      --disabled-fill-color: #AAA;\n",
       "      --disabled-bg-color: #DDD;\n",
       "  }\n",
       "\n",
       "  [theme=dark] .colab-df-quickchart {\n",
       "      --bg-color: #3B4455;\n",
       "      --fill-color: #D2E3FC;\n",
       "      --hover-bg-color: #434B5C;\n",
       "      --hover-fill-color: #FFFFFF;\n",
       "      --disabled-bg-color: #3B4455;\n",
       "      --disabled-fill-color: #666;\n",
       "  }\n",
       "\n",
       "  .colab-df-quickchart {\n",
       "    background-color: var(--bg-color);\n",
       "    border: none;\n",
       "    border-radius: 50%;\n",
       "    cursor: pointer;\n",
       "    display: none;\n",
       "    fill: var(--fill-color);\n",
       "    height: 32px;\n",
       "    padding: 0;\n",
       "    width: 32px;\n",
       "  }\n",
       "\n",
       "  .colab-df-quickchart:hover {\n",
       "    background-color: var(--hover-bg-color);\n",
       "    box-shadow: 0 1px 2px rgba(60, 64, 67, 0.3), 0 1px 3px 1px rgba(60, 64, 67, 0.15);\n",
       "    fill: var(--button-hover-fill-color);\n",
       "  }\n",
       "\n",
       "  .colab-df-quickchart-complete:disabled,\n",
       "  .colab-df-quickchart-complete:disabled:hover {\n",
       "    background-color: var(--disabled-bg-color);\n",
       "    fill: var(--disabled-fill-color);\n",
       "    box-shadow: none;\n",
       "  }\n",
       "\n",
       "  .colab-df-spinner {\n",
       "    border: 2px solid var(--fill-color);\n",
       "    border-color: transparent;\n",
       "    border-bottom-color: var(--fill-color);\n",
       "    animation:\n",
       "      spin 1s steps(1) infinite;\n",
       "  }\n",
       "\n",
       "  @keyframes spin {\n",
       "    0% {\n",
       "      border-color: transparent;\n",
       "      border-bottom-color: var(--fill-color);\n",
       "      border-left-color: var(--fill-color);\n",
       "    }\n",
       "    20% {\n",
       "      border-color: transparent;\n",
       "      border-left-color: var(--fill-color);\n",
       "      border-top-color: var(--fill-color);\n",
       "    }\n",
       "    30% {\n",
       "      border-color: transparent;\n",
       "      border-left-color: var(--fill-color);\n",
       "      border-top-color: var(--fill-color);\n",
       "      border-right-color: var(--fill-color);\n",
       "    }\n",
       "    40% {\n",
       "      border-color: transparent;\n",
       "      border-right-color: var(--fill-color);\n",
       "      border-top-color: var(--fill-color);\n",
       "    }\n",
       "    60% {\n",
       "      border-color: transparent;\n",
       "      border-right-color: var(--fill-color);\n",
       "    }\n",
       "    80% {\n",
       "      border-color: transparent;\n",
       "      border-right-color: var(--fill-color);\n",
       "      border-bottom-color: var(--fill-color);\n",
       "    }\n",
       "    90% {\n",
       "      border-color: transparent;\n",
       "      border-bottom-color: var(--fill-color);\n",
       "    }\n",
       "  }\n",
       "</style>\n",
       "\n",
       "  <script>\n",
       "    async function quickchart(key) {\n",
       "      const quickchartButtonEl =\n",
       "        document.querySelector('#' + key + ' button');\n",
       "      quickchartButtonEl.disabled = true;  // To prevent multiple clicks.\n",
       "      quickchartButtonEl.classList.add('colab-df-spinner');\n",
       "      try {\n",
       "        const charts = await google.colab.kernel.invokeFunction(\n",
       "            'suggestCharts', [key], {});\n",
       "      } catch (error) {\n",
       "        console.error('Error during call to suggestCharts:', error);\n",
       "      }\n",
       "      quickchartButtonEl.classList.remove('colab-df-spinner');\n",
       "      quickchartButtonEl.classList.add('colab-df-quickchart-complete');\n",
       "    }\n",
       "    (() => {\n",
       "      let quickchartButtonEl =\n",
       "        document.querySelector('#df-b69f8b92-e0ba-48c1-9e42-286d50bd377b button');\n",
       "      quickchartButtonEl.style.display =\n",
       "        google.colab.kernel.accessAllowed ? 'block' : 'none';\n",
       "    })();\n",
       "  </script>\n",
       "</div>\n",
       "\n",
       "    </div>\n",
       "  </div>\n"
      ],
      "text/plain": [
       "                                        Track Name          artists  \\\n",
       "0                                Someone You Loved    Lewis Capaldi   \n",
       "1                                           Arcade  Duncan Laurence   \n",
       "2                              Talking to the Moon       Bruno Mars   \n",
       "3                             Titanium (feat. Sia)     David Guetta   \n",
       "4  My Heart Will Go On - Love Theme from \"Titanic\"      Céline Dion   \n",
       "\n",
       "   popularity  release_year  danceability  energy  loudness  speechiness  \\\n",
       "0          90          2019         0.501   0.405    -5.679       0.0319   \n",
       "1          76          2020         0.453   0.350   -11.639       0.0425   \n",
       "2          84          2010         0.498   0.590    -4.721       0.0320   \n",
       "3          58          2012         0.604   0.787    -3.674       0.1030   \n",
       "4          75          1997         0.428   0.276   -11.729       0.0312   \n",
       "\n",
       "   acousticness  instrumentalness  ...  mode_1  genre_0  genre_1  genre_2  \\\n",
       "0        0.7510          0.000000  ...       1        0        0        0   \n",
       "1        0.8270          0.001220  ...       0        0        0        0   \n",
       "2        0.5110          0.000000  ...       0        1        0        0   \n",
       "3        0.0679          0.150000  ...       0        1        0        0   \n",
       "4        0.7320          0.000005  ...       1        0        0        0   \n",
       "\n",
       "   genre_3  genre_4  genre_5  genre_6  explicit_False  explicit_True  \n",
       "0        0        0        1        0               1              0  \n",
       "1        0        0        1        0               1              0  \n",
       "2        0        0        0        0               1              0  \n",
       "3        0        0        0        0               1              0  \n",
       "4        1        0        0        0               1              0  \n",
       "\n",
       "[5 rows x 38 columns]"
      ]
     },
     "execution_count": 59,
     "metadata": {},
     "output_type": "execute_result"
    }
   ],
   "source": [
    "playlist_features_df.head()"
   ]
  },
  {
   "cell_type": "markdown",
   "id": "_fce0pye5yKK",
   "metadata": {
    "id": "_fce0pye5yKK"
   },
   "source": [
    "Now all that we need to do is to apply the Autoencoder and scale them."
   ]
  },
  {
   "cell_type": "code",
   "execution_count": 60,
   "id": "bVqeUO7pBp_D",
   "metadata": {
    "colab": {
     "base_uri": "https://localhost:8080/"
    },
    "id": "bVqeUO7pBp_D",
    "outputId": "7001f2c7-bd41-4ba7-d7db-85a86ccd53dc"
   },
   "outputs": [
    {
     "name": "stdout",
     "output_type": "stream",
     "text": [
      "369/369 [==============================] - 1s 2ms/step\n",
      "369/369 [==============================] - 1s 2ms/step\n",
      "1/1 [==============================] - 0s 26ms/step\n",
      "1/1 [==============================] - 0s 21ms/step\n"
     ]
    }
   ],
   "source": [
    "unweighted_full_encoded = unweighted_encoder.predict(X_train)\n",
    "weighted_full_encoded = weighted_encoder.predict(X_train)\n",
    "\n",
    "unweighted_playlist_encoded = unweighted_encoder.predict(playlist_features_df.drop(['Track Name', 'artists'], axis=1).astype('float32'))\n",
    "weighted_playlist_encoded = weighted_encoder.predict(playlist_features_df.drop(['Track Name', 'artists'], axis=1).astype('float32'))\n",
    "\n",
    "weighted_full_encoded_scaled = scaler.fit_transform(weighted_full_encoded)\n",
    "unweighted_full_encoded_scaled = scaler.fit_transform(unweighted_full_encoded)\n",
    "\n",
    "unweighted_playlist_encoded_scaled = scaler.transform(unweighted_playlist_encoded)\n",
    "weighted_playlist_encoded_scaled = scaler.transform(weighted_playlist_encoded)"
   ]
  },
  {
   "cell_type": "markdown",
   "id": "30f8bcf1",
   "metadata": {
    "id": "30f8bcf1"
   },
   "source": [
    "# Our Models"
   ]
  },
  {
   "cell_type": "markdown",
   "id": "TxxEBexbFTan",
   "metadata": {
    "id": "TxxEBexbFTan"
   },
   "source": [
    "In this section, we will be making different models using the different features and techniques we found earlier. Our baseline model will be a simple **K Nearest Neighbours algorithm** to recommend songs to users. While the novel approach is a combination of collaborative, content-based and deep learning approaches, the lack of available good datasets and hardware constraints made us stick to a **simpler, content-based filtering algorithm** as our recommender system.\n",
    "<br>\n",
    "<br>\n",
    "Our 5 models are as follows:\n",
    "1. Baseline model with using all features and default feature weights\n",
    "2. Baseline model with using all features and adjusted feature weights (based on insights from Part 2: Music Popularity Model)\n",
    "3. Baseline model with the worst feature weights dropped (based on insights from Part 2: Music Popularity Model)\n",
    "4. Baseline model with the Unweighted Autoencoder\n",
    "5. Baseline model with the Weighted Autoencoder\n",
    "\n",
    "We will not only be testing how well the models do with the dimensionality reduction, but also how well the model does if we add weights to the features, and seeing if it helps to improve the quality of our predictions."
   ]
  },
  {
   "cell_type": "markdown",
   "id": "oU0L0dqvwWBZ",
   "metadata": {
    "id": "oU0L0dqvwWBZ"
   },
   "source": [
    "### 1. Our baseline model"
   ]
  },
  {
   "cell_type": "code",
   "execution_count": 61,
   "id": "rEOBLu9SLRJH",
   "metadata": {
    "colab": {
     "base_uri": "https://localhost:8080/"
    },
    "id": "rEOBLu9SLRJH",
    "outputId": "9ad7845a-e971-41a4-c5fd-8cc88d091080"
   },
   "outputs": [
    {
     "name": "stdout",
     "output_type": "stream",
     "text": [
      "Locked Away (feat. Adam Levine) by R. City\n",
      "Ironic - 2015 Remaster by Alanis Morissette\n",
      "Love Somebody by Maroon 5\n",
      "The Best Day (Taylor’s Version) by Taylor Swift\n",
      "Welcome To My Island by Caroline Polachek\n"
     ]
    }
   ],
   "source": [
    "from sklearn.neighbors import NearestNeighbors\n",
    "\n",
    "# Initialize and Train the NearestNeighbors Model\n",
    "similarity_metric = 'cosine'\n",
    "\n",
    "# Fit and Train model\n",
    "nn_model = NearestNeighbors(n_neighbors=5, algorithm='auto', metric=similarity_metric)\n",
    "nn_model.fit(scaled_full_dataset_df.drop(['Track Name','artists'], axis=1).values)\n",
    "\n",
    "# Calculate the average features for the playlist\n",
    "average_features = scaled_playlist_features_df.drop(['Track Name','artists'], axis=1).mean(axis=0).to_numpy().reshape(1, -1)\n",
    "\n",
    "# Query the nearest neighbors model using the average feature vector\n",
    "distances, indices = nn_model.kneighbors(average_features)\n",
    "recommended_tracks = full_dataset_df.iloc[indices[0]]\n",
    "for i in range(5):\n",
    "    print(f\"{recommended_tracks['Track Name'].iloc[i]} by {recommended_tracks['artists'].iloc[i]}\")"
   ]
  },
  {
   "cell_type": "markdown",
   "id": "zWvpYNNQwP59",
   "metadata": {
    "id": "zWvpYNNQwP59"
   },
   "source": [
    "### 2. Baseline model with adjusted feature weights"
   ]
  },
  {
   "cell_type": "markdown",
   "id": "720d2533",
   "metadata": {
    "id": "720d2533"
   },
   "source": [
    "Here we will be making use of our baseline model, but adding feature importances to our features through multiplying a feature that is more important with a value greater than one and a feature that is less important with a value less than one."
   ]
  },
  {
   "cell_type": "code",
   "execution_count": 62,
   "id": "PqB-MlDYwNcf",
   "metadata": {
    "colab": {
     "base_uri": "https://localhost:8080/"
    },
    "id": "PqB-MlDYwNcf",
    "outputId": "4f48a825-e03a-4159-8b1b-e40622d58542"
   },
   "outputs": [
    {
     "name": "stdout",
     "output_type": "stream",
     "text": [
      "Locked Away (feat. Adam Levine) by R. City\n",
      "Ironic - 2015 Remaster by Alanis Morissette\n",
      "Ironic by Alanis Morissette\n",
      "Fight For Your Right by Beastie Boys\n",
      "How Do You Sleep? by Sam Smith\n"
     ]
    }
   ],
   "source": [
    "from sklearn.neighbors import NearestNeighbors\n",
    "\n",
    "# Set the similarity metric\n",
    "similarity_metric = 'cosine'\n",
    "\n",
    "# Set weights\n",
    "# music genre, explicit lyrics, release year, instrumentalness are adjusted upwards\n",
    "# key, mode and danceability are adjusted downwards\n",
    "weights = {'genre_0': 1.2, 'genre_1': 1.2, 'genre_2': 1.2, 'genre_3': 1.2, 'genre_4': 1.2, 'genre_5': 1.2, 'genre_6': 1.2, 'explicit_False': 1.1, 'explicit_True': 1.1, 'release_year': 1.1, 'instrumentalness': 1.1, \\\n",
    "           'key_0': 0.8, 'key_1': 0.8, 'key_2': 0.8, 'key_3': 0.8, 'key_4': 0.8, 'key_5': 0.8, 'key_6': 0.8 , 'key_7': 0.8, 'key_8': 0.8, 'key_9': 0.8, 'key_10': 0.8, 'key_11': 0.8, \\\n",
    "           'mode_0': 0.9, 'mode_1': 0.9, 'danceability': 0.9}\n",
    "\n",
    "# Apply weights\n",
    "for feature, weight in weights.items():\n",
    "    scaled_full_dataset_df[feature] *= weight\n",
    "\n",
    "\n",
    "# Initialize and Train the NearestNeighbors Model with the chosen metric\n",
    "nn_model = NearestNeighbors(n_neighbors=5, algorithm='auto', metric=similarity_metric)\n",
    "nn_model.fit(scaled_full_dataset_df.drop(['Track Name','artists'], axis=1).values)\n",
    "\n",
    "average_features = scaled_playlist_features_df.drop(['Track Name', 'artists'],axis=1).values.mean(axis=0).reshape(1, -1)\n",
    "# Query the nearest neighbors model using the average feature vector\n",
    "distances, indices = nn_model.kneighbors(average_features)\n",
    "recommended_tracks = full_dataset_df.iloc[indices[0]]\n",
    "for i in range(5):\n",
    "    print(f\"{recommended_tracks['Track Name'].iloc[i]} by {recommended_tracks['artists'].iloc[i]}\")"
   ]
  },
  {
   "cell_type": "markdown",
   "id": "cXVMqJTSyx3J",
   "metadata": {
    "id": "cXVMqJTSyx3J"
   },
   "source": [
    "### 3. Baseline models with features dropped"
   ]
  },
  {
   "cell_type": "markdown",
   "id": "351046eb",
   "metadata": {
    "id": "351046eb"
   },
   "source": [
    "Here, we will only be using the top 5 features (excluding artists) that were found in the Music Popularity Model, namely genre, explicit, instrumentalness, loudness and release year."
   ]
  },
  {
   "cell_type": "code",
   "execution_count": 63,
   "id": "9BgZSuQFywSi",
   "metadata": {
    "colab": {
     "base_uri": "https://localhost:8080/"
    },
    "id": "9BgZSuQFywSi",
    "outputId": "26a54141-8f80-4702-ecb1-d2c8f46eeef6"
   },
   "outputs": [
    {
     "name": "stdout",
     "output_type": "stream",
     "text": [
      "Tiny Moves by Bleachers\n",
      "Call Me Up by daydreamers\n",
      "Afterthought by Joji\n",
      "Why Don't You by Cleo Sol\n",
      "The Night Begins to Shine by B.E.R.\n"
     ]
    }
   ],
   "source": [
    "from sklearn.neighbors import NearestNeighbors\n",
    "\n",
    "# Set the similarity metric\n",
    "similarity_metric = 'cosine'\n",
    "\n",
    "# Initialize and Train the NearestNeighbors Model with the chosen metric\n",
    "nn_model = NearestNeighbors(n_neighbors=5, algorithm='auto', metric=similarity_metric)\n",
    "nn_model.fit(scaled_full_dataset_df[['genre_0', 'genre_1', 'genre_2', 'genre_3','genre_4','genre_5','genre_6','explicit_True','explicit_False','instrumentalness','loudness','release_year']].values)\n",
    "average_features = scaled_playlist_features_df[['genre_0', 'genre_1', 'genre_2', 'genre_3','genre_4','genre_5','genre_6','explicit_True','explicit_False','instrumentalness','loudness','release_year']].values.mean(axis=0).reshape(1, -1)\n",
    "# Query the nearest neighbors model using the average feature vector\n",
    "distances, indices = nn_model.kneighbors(average_features)\n",
    "recommended_tracks = full_dataset_df.iloc[indices[0]]\n",
    "for i in range(5):\n",
    "    print(f\"{recommended_tracks['Track Name'].iloc[i]} by {recommended_tracks['artists'].iloc[i]}\")"
   ]
  },
  {
   "cell_type": "markdown",
   "id": "Zlg1rrCuwcZs",
   "metadata": {
    "id": "Zlg1rrCuwcZs"
   },
   "source": [
    "### 4. Baseline model with Unweighted Autoencoder"
   ]
  },
  {
   "cell_type": "markdown",
   "id": "6a894e14",
   "metadata": {
    "id": "6a894e14"
   },
   "source": [
    "Our model, with the unweighted autoencoder used to reduce dimensionality."
   ]
  },
  {
   "cell_type": "code",
   "execution_count": 64,
   "id": "1d0d07c4",
   "metadata": {
    "colab": {
     "base_uri": "https://localhost:8080/"
    },
    "id": "1d0d07c4",
    "outputId": "7cf981f9-6a2a-47eb-bb85-216fdf9c2416"
   },
   "outputs": [
    {
     "name": "stdout",
     "output_type": "stream",
     "text": [
      "Place Your Hands by Reef\n",
      "I Fall In Love Too Easily by Chet Baker\n",
      "I Think I'm Paranoid by Garbage\n",
      "Long Train Runnin' by The Doobie Brothers\n",
      "The Way You Look Tonight by Frank Sinatra\n"
     ]
    }
   ],
   "source": [
    "from sklearn.neighbors import NearestNeighbors\n",
    "\n",
    "# Set the similarity metric\n",
    "similarity_metric = 'cosine'\n",
    "\n",
    "# Initialize and Train the NearestNeighbors Model with the chosen metric\n",
    "nn_model = NearestNeighbors(n_neighbors=5, algorithm='auto', metric=similarity_metric)\n",
    "nn_model.fit(unweighted_full_encoded_scaled)\n",
    "\n",
    "\n",
    "average_features = unweighted_playlist_encoded_scaled.mean(axis=0).reshape(1, -1)\n",
    "# Query the nearest neighbors model using the average feature vector\n",
    "distances, indices = nn_model.kneighbors(average_features)\n",
    "recommended_tracks = full_dataset_df.iloc[indices[0]]\n",
    "for i in range(5):\n",
    "    print(f\"{recommended_tracks['Track Name'].iloc[i]} by {recommended_tracks['artists'].iloc[i]}\")"
   ]
  },
  {
   "cell_type": "markdown",
   "id": "yMtsJ1URHL-x",
   "metadata": {
    "id": "yMtsJ1URHL-x"
   },
   "source": [
    "### 5. Baseline model with Weighted Autoencoder"
   ]
  },
  {
   "cell_type": "markdown",
   "id": "c9578c6d",
   "metadata": {
    "id": "c9578c6d"
   },
   "source": [
    "Our model, with the weighted autoencoder used to reduce dimensionality and to try and improve the quality of recommendations."
   ]
  },
  {
   "cell_type": "code",
   "execution_count": 65,
   "id": "LmUh36uSHZdq",
   "metadata": {
    "colab": {
     "base_uri": "https://localhost:8080/"
    },
    "id": "LmUh36uSHZdq",
    "outputId": "abaf1e9f-1bc1-4f20-bca0-61002bca0bcb"
   },
   "outputs": [
    {
     "name": "stdout",
     "output_type": "stream",
     "text": [
      "Go Your Own Way - 2004 Remaster by Fleetwood Mac\n",
      "I've Got You Under My Skin - Remastered 1998 by Frank Sinatra\n",
      "I'm with You by Avril Lavigne\n",
      "Tha Crossroads by Bone Thugs-N-Harmony\n",
      "Brighter by Paramore\n"
     ]
    }
   ],
   "source": [
    "from sklearn.neighbors import NearestNeighbors\n",
    "\n",
    "# Set the similarity metric, we chose cosine as seemed to give the best results\n",
    "similarity_metric = 'cosine'\n",
    "\n",
    "# Initialize and Train the NearestNeighbors Model with the chosen metric\n",
    "nn_model = NearestNeighbors(n_neighbors=5, algorithm='auto', metric=similarity_metric)\n",
    "nn_model.fit(weighted_full_encoded_scaled)\n",
    "\n",
    "# Calculate the average features for the playlist\n",
    "average_features = weighted_playlist_encoded_scaled.mean(axis=0).reshape(1, -1)\n",
    "\n",
    "# Query the nearest neighbors model using the average feature vector\n",
    "distances, indices = nn_model.kneighbors(average_features)\n",
    "recommended_tracks = full_dataset_df.iloc[indices[0]]\n",
    "for i in range(5):\n",
    "    print(f\"{recommended_tracks['Track Name'].iloc[i]} by {recommended_tracks['artists'].iloc[i]}\")"
   ]
  },
  {
   "cell_type": "markdown",
   "id": "bcAHOAIdNrJJ",
   "metadata": {
    "id": "bcAHOAIdNrJJ"
   },
   "source": [
    "# Results"
   ]
  },
  {
   "cell_type": "markdown",
   "id": "y1DvO01pNteX",
   "metadata": {
    "id": "y1DvO01pNteX"
   },
   "source": [
    "After making our models, we will be evaluating them based on user feedback. We got 10 users to try the recommender system, and got them to rate the quality of the top 5 recommendations. Here are our results:\n",
    "<br>\n",
    "(We can say here for our different model averages (if you have time maybe try the models out and see what numbers are more representative):\n",
    "<br>\n",
    "1. Baseline model with adjusted weights: **7.04**\n",
    "2. Baseline model with the weighted autoencoder: 6.9\n",
    "3. Baseline model: 6.74\n",
    "4. Baseline model with the unweighted Autoencoder: 6.06\n",
    "5. Baseline models with worst features dropped: 4.7"
   ]
  },
  {
   "cell_type": "markdown",
   "id": "cFkEB-8dIIC3",
   "metadata": {
    "id": "cFkEB-8dIIC3"
   },
   "source": [
    "![title](img/survey.png)"
   ]
  },
  {
   "cell_type": "markdown",
   "id": "R4a1mjK-Op8Y",
   "metadata": {
    "id": "R4a1mjK-Op8Y"
   },
   "source": [
    "# Data-driven Insights and Recommendations"
   ]
  },
  {
   "cell_type": "markdown",
   "id": "T7Cp899AOwt1",
   "metadata": {
    "id": "T7Cp899AOwt1"
   },
   "source": [
    "As you can see, while there are still areas for improvement for the quality of predictions across the board, the resultant recommendations were overall satisfactory. From our data, we can make a number of insights and recommendations to small-scale music streaming companies.\n",
    "\n",
    "1. **The baseline model with adjusted weights** based on features that we found to be important for song popularity **performed the best** amongst the five models. However, we also note that the use of **Weighted Autoencoders** can help **improve efficiency without significant performance cost** when we are making use of numerical metadata. It seems that for a small-scaled music recommender system, dimensionality reduction techniques like Weighted Autoencoder can be paired with feature enhancement/ model enhancement strategies to reach compromise between cost and performance.\n",
    "\n",
    "2. **Make use of a more robust recommender system**. While our results are not too bad, a simple content-based filtering algorithm is not as effective in dealing with **subjective preferences** compared to a model that uses **both content-based and collaborative filtering**. Implementation of collaborative filtering, which seeks to filter out music suggestions to a user based on how similar users react, can help to enhance our model further to personalise recommendations.\n",
    "\n",
    "3. **Broaden the types of data used**. We noticed that our system only uses **structured data** for training the recommender system. Novel approaches will make use of **lyric and audio data** to enhance feature selection and potentially improve the quality of recommendations to users. However, this will come at the expense of **more compute**.\n",
    "\n",
    "4. **To balance cost and performance**, for systems which take in unstructured data such as unstructured text-based lyrics data and audio data, we recommend similar dimensionality reduction techniques such as the use of **Mel-Frequency Cepstral Coefficients (MFCCs) for audio data** [3], which is a method of encoding audio data and the use of **Singular Value Decomposition (SVD) for textual data (like lyrics)**.[4]\n",
    "<br>\n",
    "We believe that with these recommendations, a smaller company with less resources can make make a and a good and computationally efficient model to recommend songs to users. Some of our insights could also possibly help larger companies as well, to make their recommendations more robust.\n"
   ]
  },
  {
   "cell_type": "markdown",
   "id": "e3fafdb5",
   "metadata": {
    "id": "e3fafdb5"
   },
   "source": [
    "### From Part 1: Genre Classification Model\n",
    "5. **Simpler models sometimes achieve better results**. The Multinomial Logistic Model beat the likes of sophisticated models such as XGBoost and Random Forest to give us the best classification metrics (e.g. accuracy, AOC score etc)"
   ]
  },
  {
   "cell_type": "markdown",
   "id": "252638de",
   "metadata": {
    "id": "252638de"
   },
   "source": [
    "### From Part 2: Music Popularity Model\n",
    "6. **Popularity of a song** is more significantly influenced by the artists due to their accumulated fame and genre is shaped by one's preference in music. It is more interesting to note that **newer songs tend to be more popular** since they leave a stronger impression to current listeners. This is also boosted by the **digitalisation of music industry** as newer songs could be distributed more easily online. Presence of explicit lyrics could attract **eyeball attention** and influence the song popularity. Instrumentalness which measures the presence of vocal (higher implies lesser vocal content) is also important in deciding song popularity as most popular songs **generally contain vocals**."
   ]
  },
  {
   "cell_type": "markdown",
   "id": "NXeOy7-W7Zmt",
   "metadata": {
    "id": "NXeOy7-W7Zmt"
   },
   "source": [
    "# Citations"
   ]
  },
  {
   "cell_type": "markdown",
   "id": "FqsP26E87cN-",
   "metadata": {
    "id": "FqsP26E87cN-"
   },
   "source": [
    "[1] M. Schedl, ‘Deep Learning in Music Recommendation Systems’, Front. Appl. Math. Stat., vol. 5, doi: 10.3389/fams.2019.00044.\n",
    "<br>\n",
    "[2] F. Ricci, L. Rokach, and B. Shapira, Eds., Recommender Systems Handbook. New York, NY: Springer US, 2022. doi: 10.1007/978-1-0716-2197-4.\n",
    "<br>\n",
    "[3] V. Tiwari, \"MFCC and its applications in speaker recognition,\" International Journal on Emerging Technologies, vol. 1, no. 1, pp. 19-22, 2010.\n",
    "<br>\n",
    "[4] P. C. Hansen, \"The truncatedSVD as a method for regularization,\" BIT Numerical Mathematics, vol. 27, no. 4, pp. 534-553, 1987. doi: 10.1007/BF01937276."
   ]
  }
 ],
 "metadata": {
  "colab": {
   "provenance": []
  },
  "kernelspec": {
   "display_name": "Python 3 (ipykernel)",
   "language": "python",
   "name": "python3"
  },
  "language_info": {
   "codemirror_mode": {
    "name": "ipython",
    "version": 3
   },
   "file_extension": ".py",
   "mimetype": "text/x-python",
   "name": "python",
   "nbconvert_exporter": "python",
   "pygments_lexer": "ipython3",
   "version": "3.9.19"
  }
 },
 "nbformat": 4,
 "nbformat_minor": 5
}
