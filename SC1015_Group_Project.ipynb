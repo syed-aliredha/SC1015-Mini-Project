{
 "cells": [
  {
   "cell_type": "markdown",
   "id": "67d8f22e",
   "metadata": {},
   "source": [
    "# SC1015 Mini-Project: Spotify music recommender system"
   ]
  },
  {
   "cell_type": "markdown",
   "id": "cec94ad2",
   "metadata": {},
   "source": [
    "### By group _"
   ]
  },
  {
   "cell_type": "markdown",
   "id": "5481a8b9",
   "metadata": {},
   "source": [
    "## Our problem statement"
   ]
  },
  {
   "cell_type": "markdown",
   "id": "08a2c81c",
   "metadata": {},
   "source": [
    "For our project, we will be using the Spotify Dataset on kaggle: https://www.kaggle.com/datasets/vatsalmavani/spotify-dataset for training our models.\n",
    "\n",
    "Our problem statement for this project would be "
   ]
  },
  {
   "cell_type": "markdown",
   "id": "77faf08b",
   "metadata": {},
   "source": [
    "## Data Preparation and Cleaning"
   ]
  },
  {
   "cell_type": "markdown",
   "id": "8af8e3d4",
   "metadata": {},
   "source": []
  },
  {
   "cell_type": "code",
   "execution_count": 4,
   "id": "9d9710fd",
   "metadata": {},
   "outputs": [
    {
     "name": "stdout",
     "output_type": "stream",
     "text": [
      "Collecting spotipy\n",
      "  Obtaining dependency information for spotipy from https://files.pythonhosted.org/packages/b8/e8/4c099f9431ec9a86f576b344702cd4446d1ff7df09b172dc1951f25d58b1/spotipy-2.23.0-py3-none-any.whl.metadata\n",
      "  Downloading spotipy-2.23.0-py3-none-any.whl.metadata (3.3 kB)\n",
      "Collecting redis>=3.5.3 (from spotipy)\n",
      "  Obtaining dependency information for redis>=3.5.3 from https://files.pythonhosted.org/packages/bb/f1/a384c5582d9a28e4a02eb1a2c279668053dd09aafeb08d2bd4dd323fc466/redis-5.0.3-py3-none-any.whl.metadata\n",
      "  Downloading redis-5.0.3-py3-none-any.whl.metadata (9.3 kB)\n",
      "Requirement already satisfied: requests>=2.25.0 in /Users/syed_aliredha/anaconda3/lib/python3.11/site-packages (from spotipy) (2.31.0)\n",
      "Requirement already satisfied: six>=1.15.0 in /Users/syed_aliredha/anaconda3/lib/python3.11/site-packages (from spotipy) (1.16.0)\n",
      "Requirement already satisfied: urllib3>=1.26.0 in /Users/syed_aliredha/anaconda3/lib/python3.11/site-packages (from spotipy) (1.26.16)\n",
      "Requirement already satisfied: charset-normalizer<4,>=2 in /Users/syed_aliredha/anaconda3/lib/python3.11/site-packages (from requests>=2.25.0->spotipy) (2.0.4)\n",
      "Requirement already satisfied: idna<4,>=2.5 in /Users/syed_aliredha/anaconda3/lib/python3.11/site-packages (from requests>=2.25.0->spotipy) (3.4)\n",
      "Requirement already satisfied: certifi>=2017.4.17 in /Users/syed_aliredha/anaconda3/lib/python3.11/site-packages (from requests>=2.25.0->spotipy) (2024.2.2)\n",
      "Downloading spotipy-2.23.0-py3-none-any.whl (29 kB)\n",
      "Downloading redis-5.0.3-py3-none-any.whl (251 kB)\n",
      "\u001b[2K   \u001b[90m━━━━━━━━━━━━━━━━━━━━━━━━━━━━━━━━━━━━━━━━\u001b[0m \u001b[32m251.8/251.8 kB\u001b[0m \u001b[31m14.9 MB/s\u001b[0m eta \u001b[36m0:00:00\u001b[0m\n",
      "\u001b[?25hInstalling collected packages: redis, spotipy\n",
      "Successfully installed redis-5.0.3 spotipy-2.23.0\n",
      "Note: you may need to restart the kernel to use updated packages.\n"
     ]
    }
   ],
   "source": [
    "pip install spotipy"
   ]
  },
  {
   "cell_type": "code",
   "execution_count": 5,
   "id": "e2ba670f",
   "metadata": {},
   "outputs": [],
   "source": [
    "# Basic Libraries\n",
    "import numpy as np\n",
    "import pandas as pd\n",
    "import seaborn as sb\n",
    "import matplotlib.pyplot as plt # we only need pyplot\n",
    "sb.set() # set the default Seaborn style for graphics\n",
    "\n",
    "# Libraries to be used later\n",
    "import spotipy"
   ]
  },
  {
   "cell_type": "code",
   "execution_count": 11,
   "id": "6ce13b12",
   "metadata": {},
   "outputs": [
    {
     "name": "stdout",
     "output_type": "stream",
     "text": [
      "(170653, 19)\n",
      "(28680, 16)\n",
      "[38.33333333 30.57692308 34.85714286 ...  2.95833333 10.19148936\n",
      "  3.52380952]\n"
     ]
    }
   ],
   "source": [
    "main_dataset_df = pd.read_csv('data.csv')\n",
    "other_main_dataset_df = pd.read_csv('data_w_genres.csv')\n",
    "print(main_dataset_df.shape)\n",
    "print(other_main_dataset_df.shape)\n",
    "print(other_main_dataset_df['popularity'].unique())"
   ]
  },
  {
   "cell_type": "code",
   "execution_count": null,
   "id": "1bf6d863",
   "metadata": {},
   "outputs": [],
   "source": []
  },
  {
   "cell_type": "code",
   "execution_count": null,
   "id": "12da6a30",
   "metadata": {},
   "outputs": [],
   "source": []
  },
  {
   "cell_type": "code",
   "execution_count": null,
   "id": "59c1bfee",
   "metadata": {},
   "outputs": [],
   "source": []
  },
  {
   "cell_type": "markdown",
   "id": "d14a668c",
   "metadata": {},
   "source": [
    "## Exploratory Data Analysis"
   ]
  },
  {
   "cell_type": "markdown",
   "id": "30f8bcf1",
   "metadata": {},
   "source": [
    "## Our Models"
   ]
  },
  {
   "cell_type": "markdown",
   "id": "c8504aa3",
   "metadata": {},
   "source": [
    "## Data-driven insights and the recommendations"
   ]
  },
  {
   "cell_type": "code",
   "execution_count": null,
   "id": "66723afa",
   "metadata": {},
   "outputs": [],
   "source": []
  }
 ],
 "metadata": {
  "kernelspec": {
   "display_name": "Python 3 (ipykernel)",
   "language": "python",
   "name": "python3"
  },
  "language_info": {
   "codemirror_mode": {
    "name": "ipython",
    "version": 3
   },
   "file_extension": ".py",
   "mimetype": "text/x-python",
   "name": "python",
   "nbconvert_exporter": "python",
   "pygments_lexer": "ipython3",
   "version": "3.11.4"
  }
 },
 "nbformat": 4,
 "nbformat_minor": 5
}
